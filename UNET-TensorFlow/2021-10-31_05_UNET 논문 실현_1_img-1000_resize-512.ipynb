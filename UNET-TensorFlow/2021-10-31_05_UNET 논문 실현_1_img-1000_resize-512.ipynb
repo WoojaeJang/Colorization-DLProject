{
 "cells": [
  {
   "cell_type": "markdown",
   "id": "6b98f2a9",
   "metadata": {},
   "source": [
    "# 0. GPU 확인"
   ]
  },
  {
   "cell_type": "code",
   "execution_count": 1,
   "id": "cbf49ade",
   "metadata": {
    "ExecuteTime": {
     "end_time": "2021-10-31T20:06:12.204172Z",
     "start_time": "2021-10-31T20:06:10.461414Z"
    }
   },
   "outputs": [
    {
     "data": {
      "text/plain": [
       "[name: \"/device:CPU:0\"\n",
       " device_type: \"CPU\"\n",
       " memory_limit: 268435456\n",
       " locality {\n",
       " }\n",
       " incarnation: 2982397699668712677,\n",
       " name: \"/device:GPU:0\"\n",
       " device_type: \"GPU\"\n",
       " memory_limit: 23399170048\n",
       " locality {\n",
       "   bus_id: 1\n",
       "   links {\n",
       "   }\n",
       " }\n",
       " incarnation: 6334106490859937404\n",
       " physical_device_desc: \"device: 0, name: NVIDIA GeForce RTX 3090, pci bus id: 0000:01:00.0, compute capability: 8.6\"]"
      ]
     },
     "execution_count": 1,
     "metadata": {},
     "output_type": "execute_result"
    }
   ],
   "source": [
    "from tensorflow.python.client import device_lib\n",
    "device_lib.list_local_devices()"
   ]
  },
  {
   "cell_type": "code",
   "execution_count": null,
   "id": "aa9e59ab",
   "metadata": {},
   "outputs": [],
   "source": []
  },
  {
   "cell_type": "code",
   "execution_count": null,
   "id": "132686b4",
   "metadata": {},
   "outputs": [],
   "source": []
  },
  {
   "cell_type": "code",
   "execution_count": null,
   "id": "507bc933",
   "metadata": {},
   "outputs": [],
   "source": []
  },
  {
   "cell_type": "markdown",
   "id": "bc6eebd0",
   "metadata": {},
   "source": [
    "# 1. 이미지 전처리"
   ]
  },
  {
   "cell_type": "markdown",
   "id": "fe7a6d1c",
   "metadata": {},
   "source": [
    "## 1) path 설정"
   ]
  },
  {
   "cell_type": "markdown",
   "id": "72229792",
   "metadata": {},
   "source": [
    "### train_data"
   ]
  },
  {
   "cell_type": "code",
   "execution_count": 2,
   "id": "0a21cb3e",
   "metadata": {
    "ExecuteTime": {
     "end_time": "2021-10-31T20:06:20.619526Z",
     "start_time": "2021-10-31T20:06:20.617362Z"
    }
   },
   "outputs": [],
   "source": [
    "train_data_original_img_path = './data/UNET/img_1000/resize_512/train_data/original_img'\n",
    "train_data_resized_img_path = './data/UNET/img_1000/resize_512/train_data/resized_img'"
   ]
  },
  {
   "cell_type": "markdown",
   "id": "67236bce",
   "metadata": {},
   "source": [
    "### test_data"
   ]
  },
  {
   "cell_type": "code",
   "execution_count": 3,
   "id": "6166c0ac",
   "metadata": {
    "ExecuteTime": {
     "end_time": "2021-10-31T20:06:22.868520Z",
     "start_time": "2021-10-31T20:06:22.866349Z"
    }
   },
   "outputs": [],
   "source": [
    "test_data_original_img_path = './data/UNET/img_1000/resize_512/test_data/original_img'\n",
    "test_data_resized_img_path = './data/UNET/img_1000/resize_512/test_data/resized_img'"
   ]
  },
  {
   "cell_type": "markdown",
   "id": "d25133f5",
   "metadata": {},
   "source": [
    "## 2) 이미지 목록 확인"
   ]
  },
  {
   "cell_type": "code",
   "execution_count": 3,
   "id": "8998dcc5",
   "metadata": {
    "ExecuteTime": {
     "end_time": "2021-10-31T20:03:45.389425Z",
     "start_time": "2021-10-31T20:03:45.386782Z"
    }
   },
   "outputs": [],
   "source": [
    "import glob\n",
    "import os\n",
    "from os import listdir, makedirs\n",
    "from os.path import isfile, join"
   ]
  },
  {
   "cell_type": "code",
   "execution_count": 4,
   "id": "3646ca9e",
   "metadata": {
    "ExecuteTime": {
     "end_time": "2021-10-31T20:03:45.679671Z",
     "start_time": "2021-10-31T20:03:45.676876Z"
    }
   },
   "outputs": [],
   "source": [
    "def find_img_name_list(original_img_path) :\n",
    "    img_name_list = list(filter(lambda f: isfile(join(original_img_path, f)), listdir(original_img_path)))\n",
    "    \n",
    "    return img_name_list"
   ]
  },
  {
   "cell_type": "markdown",
   "id": "4d81edfe",
   "metadata": {},
   "source": [
    "### train_data"
   ]
  },
  {
   "cell_type": "code",
   "execution_count": 5,
   "id": "04e5df7e",
   "metadata": {
    "ExecuteTime": {
     "end_time": "2021-10-31T20:03:47.309592Z",
     "start_time": "2021-10-31T20:03:47.301337Z"
    }
   },
   "outputs": [],
   "source": [
    "train_data_img_name_list = find_img_name_list(train_data_original_img_path)"
   ]
  },
  {
   "cell_type": "code",
   "execution_count": 6,
   "id": "b3983342",
   "metadata": {
    "ExecuteTime": {
     "end_time": "2021-10-31T20:03:47.584938Z",
     "start_time": "2021-10-31T20:03:47.581882Z"
    }
   },
   "outputs": [
    {
     "name": "stdout",
     "output_type": "stream",
     "text": [
      "988\n",
      "['ILSVRC2012_val_00001157.jpg', 'ILSVRC2012_val_00030120.jpg', 'ILSVRC2012_val_00001857.jpg']\n"
     ]
    }
   ],
   "source": [
    "print(len(train_data_img_name_list))\n",
    "print(train_data_img_name_list[:3])"
   ]
  },
  {
   "cell_type": "markdown",
   "id": "3782d42a",
   "metadata": {},
   "source": [
    "### test_data"
   ]
  },
  {
   "cell_type": "code",
   "execution_count": 7,
   "id": "b7d7e4b2",
   "metadata": {
    "ExecuteTime": {
     "end_time": "2021-10-31T20:03:48.209580Z",
     "start_time": "2021-10-31T20:03:48.206741Z"
    }
   },
   "outputs": [],
   "source": [
    "test_data_img_name_list = find_img_name_list(test_data_original_img_path)"
   ]
  },
  {
   "cell_type": "code",
   "execution_count": 8,
   "id": "55a40fdd",
   "metadata": {
    "ExecuteTime": {
     "end_time": "2021-10-31T20:03:48.559749Z",
     "start_time": "2021-10-31T20:03:48.556913Z"
    },
    "scrolled": true
   },
   "outputs": [
    {
     "name": "stdout",
     "output_type": "stream",
     "text": [
      "99\n",
      "['ILSVRC2012_val_00040557.jpg', 'ILSVRC2012_val_00002728.jpg', 'ILSVRC2012_val_00025052.jpg']\n"
     ]
    }
   ],
   "source": [
    "print(len(test_data_img_name_list))\n",
    "print(test_data_img_name_list[:3])"
   ]
  },
  {
   "cell_type": "markdown",
   "id": "2cff7d9c",
   "metadata": {},
   "source": [
    "## 3) 흑백 이미지 삭제"
   ]
  },
  {
   "cell_type": "code",
   "execution_count": 10,
   "id": "17041488",
   "metadata": {
    "ExecuteTime": {
     "end_time": "2021-10-31T14:42:21.778561Z",
     "start_time": "2021-10-31T14:42:21.768005Z"
    }
   },
   "outputs": [],
   "source": [
    "from PIL import Image\n",
    "import os\n",
    "import numpy as np\n",
    "import time\n",
    "from IPython.display import clear_output"
   ]
  },
  {
   "cell_type": "code",
   "execution_count": 11,
   "id": "539c07cb",
   "metadata": {
    "ExecuteTime": {
     "end_time": "2021-10-31T14:42:21.791896Z",
     "start_time": "2021-10-31T14:42:21.779725Z"
    }
   },
   "outputs": [],
   "source": [
    "def remove_gray_img(img_name_list, original_img_path) :\n",
    "    start = time.time()\n",
    "\n",
    "    i = 0\n",
    "    for img_name in img_name_list:\n",
    "        \n",
    "        clear_output(wait=True)\n",
    "        \n",
    "        original_img = Image.open(os.path.join(original_img_path, img_name))\n",
    "        pix = np.array(original_img)\n",
    "        if pix.ndim != 3 :\n",
    "            os.remove(os.path.join(original_img_path, img_name))\n",
    "            \n",
    "        i += 1\n",
    "        print('진행 상황 : ', i,'/',len(img_name_list))\n",
    "        print('진행 시간 : ', round((time.time() - start), 2))\n",
    "\n",
    "    print('총 걸린 시간 : ', round((time.time() - start),2), '초')"
   ]
  },
  {
   "cell_type": "markdown",
   "id": "75bf1d05",
   "metadata": {},
   "source": [
    "### train_data"
   ]
  },
  {
   "cell_type": "code",
   "execution_count": 12,
   "id": "e9e46d78",
   "metadata": {
    "ExecuteTime": {
     "end_time": "2021-10-31T14:42:28.272339Z",
     "start_time": "2021-10-31T14:42:21.793253Z"
    }
   },
   "outputs": [
    {
     "name": "stdout",
     "output_type": "stream",
     "text": [
      "진행 상황 :  988 / 988\n",
      "진행 시간 :  6.46\n",
      "총 걸린 시간 :  6.46 초\n"
     ]
    }
   ],
   "source": [
    "remove_gray_img(train_data_img_name_list, train_data_original_img_path)\n",
    "train_data_img_name_list = list(filter(lambda f: isfile(join(train_data_original_img_path, f)), listdir(train_data_original_img_path)))"
   ]
  },
  {
   "cell_type": "markdown",
   "id": "d7253499",
   "metadata": {},
   "source": [
    "### test_data"
   ]
  },
  {
   "cell_type": "code",
   "execution_count": 13,
   "id": "68890efe",
   "metadata": {
    "ExecuteTime": {
     "end_time": "2021-10-31T14:42:28.526227Z",
     "start_time": "2021-10-31T14:42:28.273177Z"
    }
   },
   "outputs": [
    {
     "name": "stdout",
     "output_type": "stream",
     "text": [
      "진행 상황 :  99 / 99\n",
      "진행 시간 :  0.25\n",
      "총 걸린 시간 :  0.25 초\n"
     ]
    }
   ],
   "source": [
    "remove_gray_img(test_data_img_name_list, test_data_original_img_path)\n",
    "test_data_img_name_list = list(filter(lambda f: isfile(join(test_data_original_img_path, f)), listdir(test_data_original_img_path)))"
   ]
  },
  {
   "cell_type": "markdown",
   "id": "4e2c3a7c",
   "metadata": {},
   "source": [
    "## 4) 원본 이미지의 사이즈 저장"
   ]
  },
  {
   "cell_type": "code",
   "execution_count": 14,
   "id": "6f2b2b5e",
   "metadata": {
    "ExecuteTime": {
     "end_time": "2021-10-31T14:42:28.528488Z",
     "start_time": "2021-10-31T14:42:28.527015Z"
    }
   },
   "outputs": [],
   "source": [
    "from PIL import Image\n",
    "import pickle"
   ]
  },
  {
   "cell_type": "code",
   "execution_count": 15,
   "id": "49b9dbe8",
   "metadata": {
    "ExecuteTime": {
     "end_time": "2021-10-31T14:42:28.542943Z",
     "start_time": "2021-10-31T14:42:28.529492Z"
    }
   },
   "outputs": [],
   "source": [
    "def make_original_img_size_list(img_name_list, original_img_path) :\n",
    "    original_img_size_list = []\n",
    "    for img_name in img_name_list:\n",
    "        original_img = Image.open(os.path.join(original_img_path, img_name))\n",
    "        original_img_size_list.append(original_img.size)\n",
    "    \n",
    "    return original_img_size_list"
   ]
  },
  {
   "cell_type": "code",
   "execution_count": 17,
   "id": "6582eb41",
   "metadata": {
    "ExecuteTime": {
     "end_time": "2021-10-31T14:42:28.571107Z",
     "start_time": "2021-10-31T14:42:28.559850Z"
    }
   },
   "outputs": [],
   "source": [
    "def save_object_by_pickle(obj, file_path):\n",
    "    pickle.dump(obj, open(file_path, 'wb'), protocol=4)"
   ]
  },
  {
   "cell_type": "markdown",
   "id": "0e8aeb71",
   "metadata": {},
   "source": [
    "### test_data (만 필요) "
   ]
  },
  {
   "cell_type": "code",
   "execution_count": 18,
   "id": "b3cba127",
   "metadata": {
    "ExecuteTime": {
     "end_time": "2021-10-31T14:42:28.592187Z",
     "start_time": "2021-10-31T14:42:28.572190Z"
    },
    "scrolled": true
   },
   "outputs": [],
   "source": [
    "test_data_original_img_size_list = make_original_img_size_list(test_data_img_name_list, test_data_original_img_path)"
   ]
  },
  {
   "cell_type": "code",
   "execution_count": 19,
   "id": "602a81ff",
   "metadata": {
    "ExecuteTime": {
     "end_time": "2021-10-31T14:42:28.595768Z",
     "start_time": "2021-10-31T14:42:28.593342Z"
    },
    "scrolled": true
   },
   "outputs": [
    {
     "name": "stdout",
     "output_type": "stream",
     "text": [
      "99\n",
      "[(300, 450), (300, 450), (300, 340)]\n"
     ]
    }
   ],
   "source": [
    "print(len(test_data_original_img_size_list))\n",
    "print(test_data_original_img_size_list[:3])"
   ]
  },
  {
   "cell_type": "code",
   "execution_count": 20,
   "id": "21a24568",
   "metadata": {
    "ExecuteTime": {
     "end_time": "2021-10-31T14:42:28.607849Z",
     "start_time": "2021-10-31T14:42:28.596947Z"
    }
   },
   "outputs": [],
   "source": [
    "test_data_original_img_size_path = './data/UNET/img_1000/resize_512/test_data/original_img_size.pkl'"
   ]
  },
  {
   "cell_type": "code",
   "execution_count": 21,
   "id": "e0e42e39",
   "metadata": {
    "ExecuteTime": {
     "end_time": "2021-10-31T14:42:28.618213Z",
     "start_time": "2021-10-31T14:42:28.608836Z"
    },
    "scrolled": true
   },
   "outputs": [],
   "source": [
    "save_object_by_pickle(test_data_original_img_size_list, test_data_original_img_size_path)"
   ]
  },
  {
   "cell_type": "markdown",
   "id": "6cbbc9e8",
   "metadata": {},
   "source": [
    "## 5) resized 및 저장"
   ]
  },
  {
   "cell_type": "code",
   "execution_count": 22,
   "id": "24b50be5",
   "metadata": {
    "ExecuteTime": {
     "end_time": "2021-10-31T14:42:28.644175Z",
     "start_time": "2021-10-31T14:42:28.621477Z"
    }
   },
   "outputs": [],
   "source": [
    "import cv2\n",
    "import time\n",
    "from IPython.display import clear_output\n",
    "import os"
   ]
  },
  {
   "cell_type": "code",
   "execution_count": 23,
   "id": "60a1bbae",
   "metadata": {
    "ExecuteTime": {
     "end_time": "2021-10-31T14:42:28.647433Z",
     "start_time": "2021-10-31T14:42:28.645608Z"
    }
   },
   "outputs": [],
   "source": [
    "def createDirectory(directory):\n",
    "    try:\n",
    "        if not os.path.exists(directory):\n",
    "            os.makedirs(directory)\n",
    "    except OSError:\n",
    "        print(\"Error: Failed to create the directory.\")"
   ]
  },
  {
   "cell_type": "code",
   "execution_count": 24,
   "id": "bef4335b",
   "metadata": {
    "ExecuteTime": {
     "end_time": "2021-10-31T14:42:28.657719Z",
     "start_time": "2021-10-31T14:42:28.648216Z"
    }
   },
   "outputs": [],
   "source": [
    "def resizing_img(img_name_list, original_img_path, resized_img_path, resize_size) :\n",
    "    start = time.time()\n",
    "\n",
    "    i = 0\n",
    "    for img_name in img_name_list :\n",
    "\n",
    "        clear_output(wait=True)\n",
    "\n",
    "\n",
    "        try:\n",
    "            original_img = cv2.imread(os.path.join(original_img_path, img_name))\n",
    "            resized_img = cv2.resize(original_img, dsize = resize_size, interpolation = cv2.INTER_CUBIC)\n",
    "            createDirectory(resized_img_path)\n",
    "            cv2.imwrite(os.path.join(resized_img_path, img_name), resized_img)\n",
    "        except:\n",
    "            print('{}가 변환되지 않았습니다.'.format(img_name))\n",
    "\n",
    "\n",
    "        i += 1\n",
    "        print('진행 상황 : ', i,'/',len(img_name_list))\n",
    "        print('진행 시간 : ', round((time.time() - start), 2))\n",
    "\n",
    "    print('총 걸린 시간 : ', round((time.time() - start),2), '초')"
   ]
  },
  {
   "cell_type": "markdown",
   "id": "029b3085",
   "metadata": {},
   "source": [
    "### train_data"
   ]
  },
  {
   "cell_type": "code",
   "execution_count": 25,
   "id": "b8920223",
   "metadata": {
    "ExecuteTime": {
     "end_time": "2021-10-31T14:42:38.857961Z",
     "start_time": "2021-10-31T14:42:28.658825Z"
    }
   },
   "outputs": [
    {
     "name": "stdout",
     "output_type": "stream",
     "text": [
      "진행 상황 :  988 / 988\n",
      "진행 시간 :  10.18\n",
      "총 걸린 시간 :  10.18 초\n"
     ]
    }
   ],
   "source": [
    "resizing_img(train_data_img_name_list, train_data_original_img_path, train_data_resized_img_path, (512, 512))"
   ]
  },
  {
   "cell_type": "markdown",
   "id": "ae77c71b",
   "metadata": {},
   "source": [
    "### test_data"
   ]
  },
  {
   "cell_type": "code",
   "execution_count": 26,
   "id": "7d72d35f",
   "metadata": {
    "ExecuteTime": {
     "end_time": "2021-10-31T14:42:39.461717Z",
     "start_time": "2021-10-31T14:42:38.859097Z"
    }
   },
   "outputs": [
    {
     "name": "stdout",
     "output_type": "stream",
     "text": [
      "진행 상황 :  99 / 99\n",
      "진행 시간 :  0.6\n",
      "총 걸린 시간 :  0.6 초\n"
     ]
    }
   ],
   "source": [
    "resizing_img(test_data_img_name_list, test_data_original_img_path, test_data_resized_img_path, (512, 512))"
   ]
  },
  {
   "cell_type": "markdown",
   "id": "a483509b",
   "metadata": {},
   "source": [
    "## 6) 이미지 RGB 값 pickle 저장"
   ]
  },
  {
   "cell_type": "code",
   "execution_count": 1,
   "id": "e05d124e",
   "metadata": {
    "ExecuteTime": {
     "end_time": "2021-10-31T20:19:36.172118Z",
     "start_time": "2021-10-31T20:19:34.893010Z"
    }
   },
   "outputs": [],
   "source": [
    "import numpy as np\n",
    "import time\n",
    "from IPython.display import clear_output\n",
    "from PIL import Image\n",
    "from tensorflow.keras import datasets, utils, backend\n",
    "\n",
    "import glob\n",
    "import os\n",
    "from os import listdir, makedirs\n",
    "from os.path import isfile, join\n",
    "\n",
    "import pickle\n",
    "\n",
    "import ssl\n",
    "ssl._create_default_https_context = ssl._create_unverified_context"
   ]
  },
  {
   "cell_type": "code",
   "execution_count": 2,
   "id": "b83dcfa1",
   "metadata": {
    "ExecuteTime": {
     "end_time": "2021-10-31T20:19:36.176479Z",
     "start_time": "2021-10-31T20:19:36.173176Z"
    }
   },
   "outputs": [],
   "source": [
    "def load_my_img(img_name_list, resized_img_path) :\n",
    "    start = time.time()\n",
    "\n",
    "    i = 0\n",
    "    \n",
    "    img_pixel_list = [0]*len(img_name_list)\n",
    "    for img_name in img_name_list :\n",
    "\n",
    "        clear_output(wait=True)\n",
    "\n",
    "\n",
    "        resized_img = Image.open(os.path.join(resized_img_path, img_name))\n",
    "        pixel_array = np.array(resized_img)\n",
    "        pixel_list = pixel_array.tolist()\n",
    "        img_pixel_list[i] = pixel_list\n",
    "\n",
    "        i += 1\n",
    "        print('진행 상황 : ', i,'/',len(img_name_list))\n",
    "        print('진행 시간 : ', round((time.time() - start), 2))\n",
    "\n",
    "    print('총 걸린 시간 : ', round((time.time() - start),2), '초')\n",
    "    \n",
    "    img = np.array(img_pixel_list)\n",
    "    \n",
    "    return img"
   ]
  },
  {
   "cell_type": "code",
   "execution_count": 3,
   "id": "0fdc074a",
   "metadata": {
    "ExecuteTime": {
     "end_time": "2021-10-31T20:19:36.194934Z",
     "start_time": "2021-10-31T20:19:36.177492Z"
    }
   },
   "outputs": [],
   "source": [
    "def save_object_by_pickle(obj, file_path):\n",
    "    pickle.dump(obj, open(file_path, 'wb'), protocol=4)"
   ]
  },
  {
   "cell_type": "code",
   "execution_count": 4,
   "id": "93e0c98f",
   "metadata": {
    "ExecuteTime": {
     "end_time": "2021-10-31T20:19:36.205050Z",
     "start_time": "2021-10-31T20:19:36.196711Z"
    }
   },
   "outputs": [],
   "source": [
    "def find_img_name_list(original_img_path) :\n",
    "    img_name_list = list(filter(lambda f: isfile(join(original_img_path, f)), listdir(original_img_path)))\n",
    "    \n",
    "    return img_name_list"
   ]
  },
  {
   "cell_type": "markdown",
   "id": "b7bb315c",
   "metadata": {},
   "source": [
    "### train_data"
   ]
  },
  {
   "cell_type": "code",
   "execution_count": 5,
   "id": "53f81e08",
   "metadata": {
    "ExecuteTime": {
     "end_time": "2021-10-31T20:19:36.215085Z",
     "start_time": "2021-10-31T20:19:36.206164Z"
    }
   },
   "outputs": [],
   "source": [
    "train_data_original_img_path = './data/UNET/img_1000/resize_512/train_data/original_img'\n",
    "train_data_resized_img_path = './data/UNET/img_1000/resize_512/train_data/resized_img'"
   ]
  },
  {
   "cell_type": "code",
   "execution_count": 6,
   "id": "9ccfd8fd",
   "metadata": {
    "ExecuteTime": {
     "end_time": "2021-10-31T20:19:36.229763Z",
     "start_time": "2021-10-31T20:19:36.216255Z"
    }
   },
   "outputs": [],
   "source": [
    "train_data_img_name_list = find_img_name_list(train_data_original_img_path)"
   ]
  },
  {
   "cell_type": "code",
   "execution_count": 7,
   "id": "a3b5cfc3",
   "metadata": {
    "ExecuteTime": {
     "end_time": "2021-10-31T20:23:42.769118Z",
     "start_time": "2021-10-31T20:19:36.230868Z"
    },
    "scrolled": true
   },
   "outputs": [
    {
     "name": "stdout",
     "output_type": "stream",
     "text": [
      "진행 상황 :  988 / 988\n",
      "진행 시간 :  87.38\n",
      "총 걸린 시간 :  87.38 초\n"
     ]
    }
   ],
   "source": [
    "train_img_pixel_values = load_my_img(train_data_img_name_list, train_data_resized_img_path)"
   ]
  },
  {
   "cell_type": "code",
   "execution_count": 8,
   "id": "c6c6e6d1",
   "metadata": {
    "ExecuteTime": {
     "end_time": "2021-10-31T20:23:42.773455Z",
     "start_time": "2021-10-31T20:23:42.771615Z"
    }
   },
   "outputs": [],
   "source": [
    "train_data_img_pixel_values_path = './data/UNET/img_1000/resize_512/train_data/img_pixel_values.pkl'"
   ]
  },
  {
   "cell_type": "code",
   "execution_count": 9,
   "id": "d6ee3969",
   "metadata": {
    "ExecuteTime": {
     "end_time": "2021-10-31T20:23:47.115419Z",
     "start_time": "2021-10-31T20:23:42.774696Z"
    }
   },
   "outputs": [],
   "source": [
    "save_object_by_pickle(train_img_pixel_values, train_data_img_pixel_values_path)"
   ]
  },
  {
   "cell_type": "markdown",
   "id": "61393312",
   "metadata": {},
   "source": [
    "### test_data"
   ]
  },
  {
   "cell_type": "code",
   "execution_count": 10,
   "id": "6b8b918b",
   "metadata": {
    "ExecuteTime": {
     "end_time": "2021-10-31T20:23:47.118376Z",
     "start_time": "2021-10-31T20:23:47.116628Z"
    }
   },
   "outputs": [],
   "source": [
    "test_data_original_img_path = './data/UNET/img_1000/resize_512/test_data/original_img'\n",
    "test_data_resized_img_path = './data/UNET/img_1000/resize_512/test_data/resized_img'"
   ]
  },
  {
   "cell_type": "code",
   "execution_count": 11,
   "id": "5dd69efe",
   "metadata": {
    "ExecuteTime": {
     "end_time": "2021-10-31T20:23:47.141387Z",
     "start_time": "2021-10-31T20:23:47.119310Z"
    }
   },
   "outputs": [],
   "source": [
    "test_data_img_name_list = find_img_name_list(test_data_original_img_path)"
   ]
  },
  {
   "cell_type": "code",
   "execution_count": 12,
   "id": "c72cb8fb",
   "metadata": {
    "ExecuteTime": {
     "end_time": "2021-10-31T20:24:11.484025Z",
     "start_time": "2021-10-31T20:23:47.142827Z"
    },
    "scrolled": true
   },
   "outputs": [
    {
     "name": "stdout",
     "output_type": "stream",
     "text": [
      "진행 상황 :  99 / 99\n",
      "진행 시간 :  8.37\n",
      "총 걸린 시간 :  8.37 초\n"
     ]
    }
   ],
   "source": [
    "test_img_pixel_values = load_my_img(test_data_img_name_list, test_data_resized_img_path)"
   ]
  },
  {
   "cell_type": "code",
   "execution_count": 13,
   "id": "b8f907a4",
   "metadata": {
    "ExecuteTime": {
     "end_time": "2021-10-31T20:24:11.486879Z",
     "start_time": "2021-10-31T20:24:11.485186Z"
    }
   },
   "outputs": [],
   "source": [
    "test_data_img_pixel_values_path = './data/UNET/img_1000/resize_512/test_data/img_pixel_values.pkl'"
   ]
  },
  {
   "cell_type": "code",
   "execution_count": 14,
   "id": "38fa1e2e",
   "metadata": {
    "ExecuteTime": {
     "end_time": "2021-10-31T20:24:12.089376Z",
     "start_time": "2021-10-31T20:24:11.487771Z"
    }
   },
   "outputs": [],
   "source": [
    "save_object_by_pickle(test_img_pixel_values, test_data_img_pixel_values_path)"
   ]
  },
  {
   "cell_type": "code",
   "execution_count": 15,
   "id": "704dded8",
   "metadata": {
    "ExecuteTime": {
     "end_time": "2021-10-31T20:24:12.094355Z",
     "start_time": "2021-10-31T20:24:12.090801Z"
    }
   },
   "outputs": [
    {
     "ename": "SystemExit",
     "evalue": "Stop right there!",
     "output_type": "error",
     "traceback": [
      "An exception has occurred, use %tb to see the full traceback.\n",
      "\u001b[0;31mSystemExit\u001b[0m\u001b[0;31m:\u001b[0m Stop right there!\n"
     ]
    },
    {
     "name": "stderr",
     "output_type": "stream",
     "text": [
      "/opt/conda/lib/python3.8/site-packages/IPython/core/interactiveshell.py:3449: UserWarning: To exit: use 'exit', 'quit', or Ctrl-D.\n",
      "  warn(\"To exit: use 'exit', 'quit', or Ctrl-D.\", stacklevel=1)\n"
     ]
    }
   ],
   "source": [
    "raise SystemExit(\"Stop right there!\")"
   ]
  },
  {
   "cell_type": "code",
   "execution_count": null,
   "id": "42e187bb",
   "metadata": {},
   "outputs": [],
   "source": []
  },
  {
   "cell_type": "code",
   "execution_count": null,
   "id": "471da9d3",
   "metadata": {},
   "outputs": [],
   "source": []
  },
  {
   "cell_type": "code",
   "execution_count": null,
   "id": "65a9fc27",
   "metadata": {},
   "outputs": [],
   "source": []
  },
  {
   "cell_type": "markdown",
   "id": "341cb47a",
   "metadata": {},
   "source": [
    "# 여기까지 실행"
   ]
  },
  {
   "cell_type": "markdown",
   "id": "c5d5b5e1",
   "metadata": {},
   "source": [
    "# 여기서부터 다시 시작"
   ]
  },
  {
   "cell_type": "code",
   "execution_count": null,
   "id": "7b7d5ae5",
   "metadata": {},
   "outputs": [],
   "source": []
  },
  {
   "cell_type": "code",
   "execution_count": null,
   "id": "519c72c9",
   "metadata": {},
   "outputs": [],
   "source": []
  },
  {
   "cell_type": "code",
   "execution_count": null,
   "id": "cf3df916",
   "metadata": {},
   "outputs": [],
   "source": []
  },
  {
   "cell_type": "markdown",
   "id": "79b49985",
   "metadata": {},
   "source": [
    "# 2. 학습"
   ]
  },
  {
   "cell_type": "markdown",
   "id": "7beac344",
   "metadata": {},
   "source": [
    "## 1) 이미지 RGB 값 pickle 불러오기"
   ]
  },
  {
   "cell_type": "code",
   "execution_count": null,
   "id": "7af4a390",
   "metadata": {
    "ExecuteTime": {
     "end_time": "2021-10-31T20:24:12.096661Z",
     "start_time": "2021-10-31T20:19:34.355Z"
    }
   },
   "outputs": [],
   "source": [
    "import pickle\n",
    "import ssl\n",
    "ssl._create_default_https_context = ssl._create_unverified_context"
   ]
  },
  {
   "cell_type": "code",
   "execution_count": null,
   "id": "691e841e",
   "metadata": {
    "ExecuteTime": {
     "end_time": "2021-10-31T20:24:12.097424Z",
     "start_time": "2021-10-31T20:19:34.358Z"
    }
   },
   "outputs": [],
   "source": [
    "def load_object_by_pickle(pklfile):\n",
    "    return pickle.load(open(pklfile, 'rb'))"
   ]
  },
  {
   "cell_type": "code",
   "execution_count": null,
   "id": "efdc4eee",
   "metadata": {
    "ExecuteTime": {
     "end_time": "2021-10-31T20:24:12.098180Z",
     "start_time": "2021-10-31T20:19:34.361Z"
    }
   },
   "outputs": [],
   "source": [
    "train_data_img_pixel_values_path = './data/UNET/img_1000/resize_512/train_data/img_pixel_values.pkl'"
   ]
  },
  {
   "cell_type": "code",
   "execution_count": null,
   "id": "437956bd",
   "metadata": {
    "ExecuteTime": {
     "end_time": "2021-10-31T20:24:12.098839Z",
     "start_time": "2021-10-31T20:19:34.365Z"
    }
   },
   "outputs": [],
   "source": [
    "train_img = load_object_by_pickle(train_data_img_pixel_values_path)"
   ]
  },
  {
   "cell_type": "markdown",
   "id": "d0bebef1",
   "metadata": {},
   "source": [
    "## 2) Train Dataset 구축"
   ]
  },
  {
   "cell_type": "code",
   "execution_count": null,
   "id": "fa127e56",
   "metadata": {
    "ExecuteTime": {
     "end_time": "2021-10-31T20:24:12.099483Z",
     "start_time": "2021-10-31T20:19:34.369Z"
    }
   },
   "outputs": [],
   "source": [
    "from tensorflow.keras import backend"
   ]
  },
  {
   "cell_type": "code",
   "execution_count": null,
   "id": "059c6545",
   "metadata": {
    "ExecuteTime": {
     "end_time": "2021-10-31T20:24:12.100213Z",
     "start_time": "2021-10-31T20:19:34.372Z"
    }
   },
   "outputs": [],
   "source": [
    "class DATA():\n",
    "    def __init__(self, img_data) :\n",
    "\n",
    "        if backend.image_data_format() == 'channels_first':\n",
    "            n_ch, img_rows, img_cols = img_data.shape[1:]\n",
    "            input_shape = (1, img_rows, img_cols)\n",
    "        else:\n",
    "            img_rows, img_cols, n_ch = img_data.shape[1:]\n",
    "            input_shape = (img_rows, img_cols, 1)\n",
    "\n",
    "        img_data = img_data.astype('float32') / 255.0\n",
    "    \n",
    "        def RGB2Gray(img, fmt):\n",
    "            if fmt == 'channels_first':\n",
    "                R = img[:, 0:1]\n",
    "                G = img[:, 1:2]\n",
    "                B = img[:, 2:3]\n",
    "            else:\n",
    "                R = img[..., 0:1]\n",
    "                G = img[..., 1:2]\n",
    "                B = img[..., 2:3]\n",
    "            return 0.299 * R + 0.587 * G + 0.114 * B\n",
    "    \n",
    "        x = RGB2Gray(img_data, backend.image_data_format())\n",
    "        \n",
    "        self.input_shape = input_shape\n",
    "        self.x, self.y = x, img_data\n",
    "        self.n_ch = n_ch"
   ]
  },
  {
   "cell_type": "code",
   "execution_count": null,
   "id": "1affb7a0",
   "metadata": {
    "ExecuteTime": {
     "end_time": "2021-10-31T20:24:12.100871Z",
     "start_time": "2021-10-31T20:19:34.375Z"
    }
   },
   "outputs": [],
   "source": [
    "data_train = DATA(train_img)\n",
    "print(data_train.input_shape, data_train.x.shape)"
   ]
  },
  {
   "cell_type": "code",
   "execution_count": null,
   "id": "a9a0edd4",
   "metadata": {
    "ExecuteTime": {
     "end_time": "2021-10-31T20:24:12.101532Z",
     "start_time": "2021-10-31T20:19:34.378Z"
    }
   },
   "outputs": [],
   "source": [
    "X_train = data_train.x\n",
    "Y_train = data_train.y"
   ]
  },
  {
   "cell_type": "markdown",
   "id": "46eb5299",
   "metadata": {},
   "source": [
    "## 3) 모델 구축"
   ]
  },
  {
   "cell_type": "code",
   "execution_count": null,
   "id": "f64338dd",
   "metadata": {
    "ExecuteTime": {
     "end_time": "2021-10-31T20:24:12.102316Z",
     "start_time": "2021-10-31T20:19:34.384Z"
    }
   },
   "outputs": [],
   "source": [
    "from tensorflow.keras import models, backend\n",
    "from tensorflow.keras.layers import Input, Conv2D, MaxPooling2D, Dropout, UpSampling2D, BatchNormalization, Concatenate, Activation\n",
    "from tensorflow.keras.models import Model\n",
    "from tensorflow.keras.optimizers import Adam"
   ]
  },
  {
   "cell_type": "code",
   "execution_count": null,
   "id": "24fd565e",
   "metadata": {
    "ExecuteTime": {
     "end_time": "2021-10-31T20:24:12.102967Z",
     "start_time": "2021-10-31T20:19:34.387Z"
    }
   },
   "outputs": [],
   "source": [
    "def conv(x, n_f, mp_flag=True):\n",
    "    x = MaxPooling2D((2, 2), padding='same')(x) if mp_flag else x\n",
    "    x = Conv2D(n_f, (3, 3), padding='same')(x)\n",
    "    x = BatchNormalization()(x)\n",
    "    x = Activation('relu')(x)\n",
    "    x = Dropout(0.05)(x)\n",
    "    x = Conv2D(n_f, (3, 3), padding='same')(x)\n",
    "    x = BatchNormalization()(x)\n",
    "    x = Activation('relu')(x)\n",
    "    return x\n",
    "\n",
    "def deconv_unet(x, e, n_f, ic):\n",
    "    x = UpSampling2D((2, 2))(x)\n",
    "    x = Conv2D(n_f, (2, 2), padding='same')(x)\n",
    "    x = Concatenate(axis=ic)([x, e])\n",
    "    x = Conv2D(n_f, (3, 3), padding='same')(x)\n",
    "    x = BatchNormalization()(x)\n",
    "    x = Activation('relu')(x)\n",
    "    x = Conv2D(n_f, (3, 3), padding='same')(x)\n",
    "    x = BatchNormalization()(x)\n",
    "    x = Activation('relu')(x)\n",
    "    return x\n",
    "\n",
    "def UNET(org_shape, n_ch):\n",
    "    ic = 3 if backend.image_data_format() == 'channels_last' else 1\n",
    "    # Input\n",
    "    original = Input(shape=org_shape)\n",
    "\n",
    "    # Encoding\n",
    "    e1 = conv(original, 64, mp_flag=False)\n",
    "    e2 = conv(e1, 128)\n",
    "    e3 = conv(e2, 256)\n",
    "    e4 = conv(e3, 512)\n",
    "\n",
    "    encoded = conv(e4, 1024)\n",
    "\n",
    "    # Decoding\n",
    "    x = deconv_unet(encoded, e4, 512, ic)\n",
    "    x = deconv_unet(x, e3, 256, ic)\n",
    "    x = deconv_unet(x, e2, 128, ic)\n",
    "    x = deconv_unet(x, e1, 64, ic)\n",
    "\n",
    "    decoded = Conv2D(n_ch, (1, 1), padding='same')(x)\n",
    "\n",
    "\n",
    "    model = Model(inputs=original, outputs=decoded)\n",
    "    optimizer = Adam(lr=0.001)\n",
    "\n",
    "    model.compile(loss='mse', optimizer=optimizer, metrics=['acc'])\n",
    "\n",
    "    return model"
   ]
  },
  {
   "cell_type": "code",
   "execution_count": null,
   "id": "58c0bb41",
   "metadata": {
    "ExecuteTime": {
     "end_time": "2021-10-31T20:24:12.103716Z",
     "start_time": "2021-10-31T20:19:34.390Z"
    },
    "scrolled": false
   },
   "outputs": [],
   "source": [
    "unet = UNET(data_train.input_shape, data_train.n_ch)\n",
    "unet.summary()"
   ]
  },
  {
   "cell_type": "markdown",
   "id": "b5384157",
   "metadata": {},
   "source": [
    "## 5) Callback 설정"
   ]
  },
  {
   "cell_type": "code",
   "execution_count": null,
   "id": "66717d65",
   "metadata": {
    "ExecuteTime": {
     "end_time": "2021-10-31T20:24:12.104380Z",
     "start_time": "2021-10-31T20:19:34.394Z"
    }
   },
   "outputs": [],
   "source": [
    "import tensorflow.keras\n",
    "import os"
   ]
  },
  {
   "cell_type": "code",
   "execution_count": null,
   "id": "1153935a",
   "metadata": {
    "ExecuteTime": {
     "end_time": "2021-10-31T20:24:12.104833Z",
     "start_time": "2021-10-31T20:19:34.398Z"
    }
   },
   "outputs": [],
   "source": [
    "def createDirectory(directory):\n",
    "    try:\n",
    "        if not os.path.exists(directory):\n",
    "            os.makedirs(directory)\n",
    "    except OSError:\n",
    "        print(\"Error: Failed to create the directory.\")"
   ]
  },
  {
   "cell_type": "code",
   "execution_count": null,
   "id": "8cda8689",
   "metadata": {
    "ExecuteTime": {
     "end_time": "2021-10-31T20:24:12.105288Z",
     "start_time": "2021-10-31T20:19:34.401Z"
    }
   },
   "outputs": [],
   "source": [
    "epochs=100\n",
    "batch_size=8\n",
    "\n",
    "img_num = 1000\n",
    "resize_size = 512"
   ]
  },
  {
   "cell_type": "code",
   "execution_count": null,
   "id": "539882a0",
   "metadata": {
    "ExecuteTime": {
     "end_time": "2021-10-31T20:24:12.105707Z",
     "start_time": "2021-10-31T20:19:34.405Z"
    }
   },
   "outputs": [],
   "source": [
    "model_save_folder = './data/UNET/img_1000/resize_512/trained_model'\n",
    "model_filename_front = model_save_folder + '/unet_model-img_num_{}-resize_size_{}-batch_size_{}-'.format(img_num, resize_size, batch_size)\n",
    "model_filename = model_filename_front + '{epoch}-{val_loss:.4f}-{loss:.4f}.h5'"
   ]
  },
  {
   "cell_type": "code",
   "execution_count": null,
   "id": "9f5a3820",
   "metadata": {
    "ExecuteTime": {
     "end_time": "2021-10-31T20:24:12.106169Z",
     "start_time": "2021-10-31T20:19:34.408Z"
    }
   },
   "outputs": [],
   "source": [
    "createDirectory(model_save_folder)"
   ]
  },
  {
   "cell_type": "code",
   "execution_count": null,
   "id": "d617cd23",
   "metadata": {
    "ExecuteTime": {
     "end_time": "2021-10-31T20:24:12.106624Z",
     "start_time": "2021-10-31T20:19:34.412Z"
    }
   },
   "outputs": [],
   "source": [
    "earlystopping = tensorflow.keras.callbacks.EarlyStopping(monitor='val_loss', mode='min', verbose=1, patience=15)\n",
    "checkpoint = tensorflow.keras.callbacks.ModelCheckpoint(model_filename, minitor='val_loss', mode='min', save_best_only=True)"
   ]
  },
  {
   "cell_type": "markdown",
   "id": "0a2f76e6",
   "metadata": {},
   "source": [
    "## 6) 모델 학습 "
   ]
  },
  {
   "cell_type": "code",
   "execution_count": null,
   "id": "a9101140",
   "metadata": {
    "ExecuteTime": {
     "end_time": "2021-10-31T20:24:12.107042Z",
     "start_time": "2021-10-31T20:19:34.415Z"
    },
    "scrolled": true
   },
   "outputs": [],
   "source": [
    "history = unet.fit(X_train, Y_train,\n",
    "                   epochs=epochs,\n",
    "                   batch_size=batch_size,\n",
    "                   shuffle=True,\n",
    "                   validation_split=0.2,\n",
    "                   callbacks=[earlystopping, checkpoint])"
   ]
  },
  {
   "cell_type": "markdown",
   "id": "dcf99773",
   "metadata": {},
   "source": [
    "## 7) 학습 loss 시각화"
   ]
  },
  {
   "cell_type": "code",
   "execution_count": null,
   "id": "e9d3fca5",
   "metadata": {
    "ExecuteTime": {
     "end_time": "2021-10-31T20:24:12.107469Z",
     "start_time": "2021-10-31T20:19:34.418Z"
    }
   },
   "outputs": [],
   "source": [
    "import matplotlib.pyplot as plt"
   ]
  },
  {
   "cell_type": "code",
   "execution_count": null,
   "id": "1c26d09e",
   "metadata": {
    "ExecuteTime": {
     "end_time": "2021-10-31T20:24:12.107921Z",
     "start_time": "2021-10-31T20:19:34.421Z"
    }
   },
   "outputs": [],
   "source": [
    "def plot_acc(history, title=None):\n",
    "    # summarize history for accuracy\n",
    "    if not isinstance(history, dict):\n",
    "        history = history.history\n",
    "\n",
    "    plt.plot(history['acc'])\n",
    "    plt.plot(history['val_acc'])\n",
    "    if title is not None:\n",
    "        plt.title(title)\n",
    "    plt.ylabel('Accracy')\n",
    "    plt.xlabel('Epoch')\n",
    "    plt.legend(['Training data', 'Validation data'], loc=0)\n",
    "    # plt.show()\n",
    "\n",
    "\n",
    "def plot_loss(history, title=None):\n",
    "    # summarize history for loss\n",
    "    if not isinstance(history, dict):\n",
    "        history = history.history\n",
    "\n",
    "    plt.plot(history['loss'])\n",
    "    plt.plot(history['val_loss'])\n",
    "    if title is not None:\n",
    "        plt.title(title)\n",
    "    plt.ylabel('Loss')\n",
    "    plt.xlabel('Epoch')\n",
    "    plt.legend(['Training data', 'Validation data'], loc=0)\n",
    "    # plt.show()\n",
    "\n",
    "\n",
    "def plot_history(history):\n",
    "    plt.figure(figsize=(15, 5))\n",
    "    plt.subplot(1, 2, 1)\n",
    "    plot_acc(history)\n",
    "    plt.subplot(1, 2, 2)\n",
    "    plot_loss(history)"
   ]
  },
  {
   "cell_type": "code",
   "execution_count": null,
   "id": "9fae109b",
   "metadata": {
    "ExecuteTime": {
     "end_time": "2021-10-31T20:24:12.108363Z",
     "start_time": "2021-10-31T20:19:34.424Z"
    }
   },
   "outputs": [],
   "source": [
    "plot_loss(history)"
   ]
  },
  {
   "cell_type": "code",
   "execution_count": null,
   "id": "d4ca9f6f",
   "metadata": {
    "ExecuteTime": {
     "end_time": "2021-10-31T20:24:12.108792Z",
     "start_time": "2021-10-31T20:19:34.427Z"
    }
   },
   "outputs": [],
   "source": [
    "raise SystemExit(\"Stop right there!\")"
   ]
  },
  {
   "cell_type": "code",
   "execution_count": null,
   "id": "56387617",
   "metadata": {},
   "outputs": [],
   "source": []
  },
  {
   "cell_type": "code",
   "execution_count": null,
   "id": "8ed0e7bc",
   "metadata": {},
   "outputs": [],
   "source": []
  },
  {
   "cell_type": "code",
   "execution_count": null,
   "id": "3f0f710a",
   "metadata": {},
   "outputs": [],
   "source": []
  },
  {
   "cell_type": "markdown",
   "id": "f54c9f69",
   "metadata": {},
   "source": [
    "# 여기까지 실행"
   ]
  },
  {
   "cell_type": "markdown",
   "id": "56f7d8b9",
   "metadata": {},
   "source": [
    "# 여기서부터 다시 시작"
   ]
  },
  {
   "cell_type": "code",
   "execution_count": null,
   "id": "b323feac",
   "metadata": {},
   "outputs": [],
   "source": []
  },
  {
   "cell_type": "code",
   "execution_count": null,
   "id": "ab2c6c31",
   "metadata": {},
   "outputs": [],
   "source": []
  },
  {
   "cell_type": "code",
   "execution_count": null,
   "id": "80a0c736",
   "metadata": {},
   "outputs": [],
   "source": []
  },
  {
   "cell_type": "markdown",
   "id": "50180602",
   "metadata": {},
   "source": [
    "# 3. 예측"
   ]
  },
  {
   "cell_type": "markdown",
   "id": "a8526fd5",
   "metadata": {},
   "source": [
    "## 1) Test DataSet 구축"
   ]
  },
  {
   "cell_type": "code",
   "execution_count": null,
   "id": "ccfd5109",
   "metadata": {
    "ExecuteTime": {
     "end_time": "2021-10-31T20:24:12.109239Z",
     "start_time": "2021-10-31T20:19:34.442Z"
    }
   },
   "outputs": [],
   "source": [
    "from tensorflow.keras import backend\n",
    "import ssl\n",
    "import pickle\n",
    "ssl._create_default_https_context = ssl._create_unverified_context"
   ]
  },
  {
   "cell_type": "code",
   "execution_count": null,
   "id": "b34af0c6",
   "metadata": {
    "ExecuteTime": {
     "end_time": "2021-10-31T20:24:12.109760Z",
     "start_time": "2021-10-31T20:19:34.446Z"
    }
   },
   "outputs": [],
   "source": [
    "class DATA():\n",
    "    def __init__(self, img_data) :\n",
    "\n",
    "        if backend.image_data_format() == 'channels_first':\n",
    "            n_ch, img_rows, img_cols = img_data.shape[1:]\n",
    "            input_shape = (1, img_rows, img_cols)\n",
    "        else:\n",
    "            img_rows, img_cols, n_ch = img_data.shape[1:]\n",
    "            input_shape = (img_rows, img_cols, 1)\n",
    "\n",
    "        img_data = img_data.astype('float32') / 255.0\n",
    "    \n",
    "        def RGB2Gray(img, fmt):\n",
    "            if fmt == 'channels_first':\n",
    "                R = img[:, 0:1]\n",
    "                G = img[:, 1:2]\n",
    "                B = img[:, 2:3]\n",
    "            else:\n",
    "                R = img[..., 0:1]\n",
    "                G = img[..., 1:2]\n",
    "                B = img[..., 2:3]\n",
    "            return 0.299 * R + 0.587 * G + 0.114 * B\n",
    "    \n",
    "        x = RGB2Gray(img_data, backend.image_data_format())\n",
    "        \n",
    "        self.input_shape = input_shape\n",
    "        self.x, self.y = x, img_data\n",
    "        self.n_ch = n_ch"
   ]
  },
  {
   "cell_type": "code",
   "execution_count": null,
   "id": "3c70e214",
   "metadata": {
    "ExecuteTime": {
     "end_time": "2021-10-31T20:24:12.110193Z",
     "start_time": "2021-10-31T20:19:34.449Z"
    }
   },
   "outputs": [],
   "source": [
    "def load_object_by_pickle(pklfile):\n",
    "    return pickle.load(open(pklfile, 'rb'))"
   ]
  },
  {
   "cell_type": "code",
   "execution_count": null,
   "id": "9c3a02b6",
   "metadata": {
    "ExecuteTime": {
     "end_time": "2021-10-31T20:24:12.110647Z",
     "start_time": "2021-10-31T20:19:34.453Z"
    }
   },
   "outputs": [],
   "source": [
    "test_data_img_pixel_values_path = './data/UNET/img_1000/resize_512/test_data/img_pixel_values.pkl'"
   ]
  },
  {
   "cell_type": "code",
   "execution_count": null,
   "id": "d2dbb07c",
   "metadata": {
    "ExecuteTime": {
     "end_time": "2021-10-31T20:24:12.111122Z",
     "start_time": "2021-10-31T20:19:34.456Z"
    }
   },
   "outputs": [],
   "source": [
    "test_img = load_object_by_pickle(test_data_img_pixel_values_path)"
   ]
  },
  {
   "cell_type": "code",
   "execution_count": null,
   "id": "d07f178d",
   "metadata": {
    "ExecuteTime": {
     "end_time": "2021-10-31T20:24:12.111545Z",
     "start_time": "2021-10-31T20:19:34.459Z"
    }
   },
   "outputs": [],
   "source": [
    "data_test = DATA(test_img)\n",
    "print(data_test.input_shape, data_test.x.shape)"
   ]
  },
  {
   "cell_type": "code",
   "execution_count": null,
   "id": "d6c87dc7",
   "metadata": {
    "ExecuteTime": {
     "end_time": "2021-10-31T20:24:12.111989Z",
     "start_time": "2021-10-31T20:19:34.462Z"
    }
   },
   "outputs": [],
   "source": [
    "X_test = data_test.x\n",
    "Y_test_real = data_test.y"
   ]
  },
  {
   "cell_type": "markdown",
   "id": "dd30e65b",
   "metadata": {},
   "source": [
    "## 2) 학습된 모델 불러오기"
   ]
  },
  {
   "cell_type": "code",
   "execution_count": null,
   "id": "a9b8e7f4",
   "metadata": {
    "ExecuteTime": {
     "end_time": "2021-10-31T20:24:12.112459Z",
     "start_time": "2021-10-31T20:19:34.466Z"
    }
   },
   "outputs": [],
   "source": [
    "from tensorflow.keras.models import load_model"
   ]
  },
  {
   "cell_type": "code",
   "execution_count": null,
   "id": "e39ff45b",
   "metadata": {
    "ExecuteTime": {
     "end_time": "2021-10-31T20:24:12.113259Z",
     "start_time": "2021-10-31T20:19:34.469Z"
    }
   },
   "outputs": [],
   "source": [
    "model_path = './data/UNET/img_1000/resize_512/trained_model/unet_model-img_num_1000-resize_size_512-batch_size_8-20-0.0074-0.0098.h5'"
   ]
  },
  {
   "cell_type": "code",
   "execution_count": null,
   "id": "8b04c063",
   "metadata": {
    "ExecuteTime": {
     "end_time": "2021-10-31T20:24:12.114146Z",
     "start_time": "2021-10-31T20:19:34.472Z"
    }
   },
   "outputs": [],
   "source": [
    "trained_model  = load_model(model_path)"
   ]
  },
  {
   "cell_type": "markdown",
   "id": "97c20ac0",
   "metadata": {},
   "source": [
    "## 3) 예측 진행"
   ]
  },
  {
   "cell_type": "code",
   "execution_count": null,
   "id": "29d0f945",
   "metadata": {
    "ExecuteTime": {
     "end_time": "2021-10-31T20:24:12.114973Z",
     "start_time": "2021-10-31T20:19:34.475Z"
    }
   },
   "outputs": [],
   "source": [
    "Y_test_predicted = trained_model.predict(X_test)"
   ]
  },
  {
   "cell_type": "markdown",
   "id": "8a391993",
   "metadata": {},
   "source": [
    "## 4) 예측 결과 시각화"
   ]
  },
  {
   "cell_type": "code",
   "execution_count": null,
   "id": "e5a74bd9",
   "metadata": {
    "ExecuteTime": {
     "end_time": "2021-10-31T20:24:12.115837Z",
     "start_time": "2021-10-31T20:19:34.479Z"
    }
   },
   "outputs": [],
   "source": [
    "import matplotlib.pyplot as plt\n",
    "import numpy as np\n",
    "from sklearn.preprocessing import minmax_scale"
   ]
  },
  {
   "cell_type": "code",
   "execution_count": null,
   "id": "6c2865e1",
   "metadata": {
    "ExecuteTime": {
     "end_time": "2021-10-31T20:24:12.116637Z",
     "start_time": "2021-10-31T20:19:34.482Z"
    }
   },
   "outputs": [],
   "source": [
    "def show_images(x, y_real, y_predicted):\n",
    "    if backend.image_data_format() == 'channels_first':\n",
    "        print(y_real.shape)\n",
    "        y_real = y_real.swapaxes(1, 3).swapaxes(1, 2)\n",
    "        print(y_real.shape)\n",
    "        y_predicted = y_predicted.swapaxes(1, 3).swapaxes(1, 2)\n",
    "\n",
    "        x = x[:, 0, ...]\n",
    "\n",
    "    else:\n",
    "        x = x[..., 0]\n",
    "        \n",
    "    n = 10\n",
    "    plt.figure(figsize=(20, 6))\n",
    "    for i in range(n):\n",
    "\n",
    "        ax = plt.subplot(3, n, i + 1)\n",
    "        if x.ndim < 4:\n",
    "            plt.imshow(x[i], cmap='gray')\n",
    "        else:\n",
    "            plt.imshow(x[i])\n",
    "        ax.get_xaxis().set_visible(False)\n",
    "        ax.get_yaxis().set_visible(False)\n",
    "\n",
    "        ax = plt.subplot(3, n, i + 1 + n)\n",
    "        plt.imshow(y_predicted[i])\n",
    "        ax.get_xaxis().set_visible(False)\n",
    "        ax.get_yaxis().set_visible(False)\n",
    "\n",
    "        ax = plt.subplot(3, n, i + 1 + n * 2)\n",
    "        plt.imshow(y_real[i])\n",
    "        ax.get_xaxis().set_visible(False)\n",
    "        ax.get_yaxis().set_visible(False)\n",
    "\n",
    "    plt.show()"
   ]
  },
  {
   "cell_type": "code",
   "execution_count": null,
   "id": "473d9818",
   "metadata": {
    "ExecuteTime": {
     "end_time": "2021-10-31T20:24:12.117456Z",
     "start_time": "2021-10-31T20:19:34.486Z"
    }
   },
   "outputs": [],
   "source": [
    "show_images(X_test, Y_test_real, Y_test_predicted)"
   ]
  },
  {
   "cell_type": "markdown",
   "id": "7a244945",
   "metadata": {},
   "source": [
    "## 4) 원본 크기와 이름 불러오기"
   ]
  },
  {
   "cell_type": "code",
   "execution_count": null,
   "id": "05e9b13c",
   "metadata": {
    "ExecuteTime": {
     "end_time": "2021-10-31T20:24:12.118303Z",
     "start_time": "2021-10-31T20:19:34.490Z"
    }
   },
   "outputs": [],
   "source": [
    "import glob\n",
    "import os\n",
    "from os import listdir, makedirs\n",
    "from os.path import isfile, join"
   ]
  },
  {
   "cell_type": "code",
   "execution_count": null,
   "id": "fcfab2a9",
   "metadata": {
    "ExecuteTime": {
     "end_time": "2021-10-31T20:24:12.119145Z",
     "start_time": "2021-10-31T20:19:34.493Z"
    }
   },
   "outputs": [],
   "source": [
    "test_data_original_img_path = './data/UNET/img_1000/resize_512/test_data/original_img'\n",
    "test_data_resized_img_path = './data/UNET/img_1000/resize_512/test_data/resized_img'\n",
    "test_data_img_name_list = list(filter(lambda f: isfile(join(test_data_original_img_path, f)), listdir(test_data_original_img_path)))"
   ]
  },
  {
   "cell_type": "code",
   "execution_count": null,
   "id": "323a8c9d",
   "metadata": {
    "ExecuteTime": {
     "end_time": "2021-10-31T20:24:12.119958Z",
     "start_time": "2021-10-31T20:19:34.497Z"
    }
   },
   "outputs": [],
   "source": [
    "test_data_original_img_size_path = './data/UNET/img_1000/resize_512/test_data/original_img_size.pkl'\n",
    "test_data_original_img_size = load_object_by_pickle(test_data_original_img_size_path)"
   ]
  },
  {
   "cell_type": "markdown",
   "id": "dfbfba39",
   "metadata": {},
   "source": [
    "## 5) 예측된 이미지 size 복원 후 저장"
   ]
  },
  {
   "cell_type": "code",
   "execution_count": null,
   "id": "388a5148",
   "metadata": {
    "ExecuteTime": {
     "end_time": "2021-10-31T20:24:12.120787Z",
     "start_time": "2021-10-31T20:19:34.501Z"
    }
   },
   "outputs": [],
   "source": [
    "import cv2\n",
    "import time\n",
    "from IPython.display import clear_output"
   ]
  },
  {
   "cell_type": "code",
   "execution_count": null,
   "id": "e8010a85",
   "metadata": {
    "ExecuteTime": {
     "end_time": "2021-10-31T20:24:12.121626Z",
     "start_time": "2021-10-31T20:19:34.505Z"
    }
   },
   "outputs": [],
   "source": [
    "def resize_and_save_restored_img(img_name_list, decoded_imgs, original_img_size, restored_img_path) :\n",
    "    start = time.time()\n",
    "    \n",
    "    for i in range(len(img_name_list)) :\n",
    "\n",
    "        clear_output(wait=True)\n",
    "\n",
    "        restored_img_name = img_name_list[i]\n",
    "\n",
    "        try:\n",
    "            resized_restored_img = cv2.resize(decoded_imgs[i], dsize = original_img_size[i], interpolation = cv2.INTER_CUBIC)\n",
    "            resized_restored_img = resized_restored_img*255.0\n",
    "            resized_restored_img = resized_restored_img.astype('int64')\n",
    "            cv2.imwrite(os.path.join(restored_img_path, restored_img_name), resized_restored_img)\n",
    "\n",
    "        except:\n",
    "            print('{}가 변환되지 않았습니다.'.format(restored_img_name))\n",
    "\n",
    "        i += 1\n",
    "        print('진행 상황 : ', i,'/',len(img_name_list))\n",
    "        print('진행 시간 : ', round((time.time() - start), 2))\n",
    "\n",
    "    print('총 걸린 시간 : ', round((time.time() - start),2), '초')"
   ]
  },
  {
   "cell_type": "code",
   "execution_count": null,
   "id": "f2ee7fe3",
   "metadata": {
    "ExecuteTime": {
     "end_time": "2021-10-31T20:24:12.122444Z",
     "start_time": "2021-10-31T20:19:34.508Z"
    }
   },
   "outputs": [],
   "source": [
    "def load_object_by_pickle(pklfile):\n",
    "    return pickle.load(open(pklfile, 'rb'))"
   ]
  },
  {
   "cell_type": "code",
   "execution_count": null,
   "id": "cfa0f8a4",
   "metadata": {
    "ExecuteTime": {
     "end_time": "2021-10-31T20:24:12.122884Z",
     "start_time": "2021-10-31T20:19:34.512Z"
    }
   },
   "outputs": [],
   "source": [
    "def createDirectory(directory):\n",
    "    try:\n",
    "        if not os.path.exists(directory):\n",
    "            os.makedirs(directory)\n",
    "    except OSError:\n",
    "        print(\"Error: Failed to create the directory.\")"
   ]
  },
  {
   "cell_type": "code",
   "execution_count": null,
   "id": "5815689d",
   "metadata": {
    "ExecuteTime": {
     "end_time": "2021-10-31T20:24:12.123362Z",
     "start_time": "2021-10-31T20:19:34.515Z"
    }
   },
   "outputs": [],
   "source": [
    "restored_img_path = './data/UNET/img_1000/resize_512/test_data/restored_img'"
   ]
  },
  {
   "cell_type": "code",
   "execution_count": null,
   "id": "0e27b0e7",
   "metadata": {
    "ExecuteTime": {
     "end_time": "2021-10-31T20:24:12.123808Z",
     "start_time": "2021-10-31T20:19:34.518Z"
    }
   },
   "outputs": [],
   "source": [
    "createDirectory(restored_img_path)"
   ]
  },
  {
   "cell_type": "code",
   "execution_count": null,
   "id": "09025ec3",
   "metadata": {
    "ExecuteTime": {
     "end_time": "2021-10-31T20:24:12.124251Z",
     "start_time": "2021-10-31T20:19:34.522Z"
    }
   },
   "outputs": [],
   "source": [
    "resize_and_save_restored_img(test_data_img_name_list, Y_test_predicted, test_data_original_img_size, restored_img_path)"
   ]
  },
  {
   "cell_type": "code",
   "execution_count": null,
   "id": "52027096",
   "metadata": {},
   "outputs": [],
   "source": []
  },
  {
   "cell_type": "code",
   "execution_count": null,
   "id": "b2103b31",
   "metadata": {},
   "outputs": [],
   "source": []
  },
  {
   "cell_type": "code",
   "execution_count": null,
   "id": "b30e02ad",
   "metadata": {},
   "outputs": [],
   "source": []
  }
 ],
 "metadata": {
  "kernelspec": {
   "display_name": "Python 3",
   "language": "python",
   "name": "python3"
  },
  "language_info": {
   "codemirror_mode": {
    "name": "ipython",
    "version": 3
   },
   "file_extension": ".py",
   "mimetype": "text/x-python",
   "name": "python",
   "nbconvert_exporter": "python",
   "pygments_lexer": "ipython3",
   "version": "3.8.10"
  },
  "toc": {
   "base_numbering": 1,
   "nav_menu": {},
   "number_sections": false,
   "sideBar": true,
   "skip_h1_title": false,
   "title_cell": "Table of Contents",
   "title_sidebar": "Contents",
   "toc_cell": false,
   "toc_position": {},
   "toc_section_display": true,
   "toc_window_display": false
  }
 },
 "nbformat": 4,
 "nbformat_minor": 5
}
