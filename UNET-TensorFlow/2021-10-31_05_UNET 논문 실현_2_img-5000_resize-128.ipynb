{
 "cells": [
  {
   "cell_type": "markdown",
   "id": "5f6a60a5",
   "metadata": {},
   "source": [
    "# 0. GPU 확인"
   ]
  },
  {
   "cell_type": "code",
   "execution_count": 1,
   "id": "cbf49ade",
   "metadata": {
    "ExecuteTime": {
     "end_time": "2021-10-31T16:17:31.805695Z",
     "start_time": "2021-10-31T16:17:30.135387Z"
    }
   },
   "outputs": [
    {
     "data": {
      "text/plain": [
       "[name: \"/device:CPU:0\"\n",
       " device_type: \"CPU\"\n",
       " memory_limit: 268435456\n",
       " locality {\n",
       " }\n",
       " incarnation: 14877304727525184001,\n",
       " name: \"/device:GPU:0\"\n",
       " device_type: \"GPU\"\n",
       " memory_limit: 23399170048\n",
       " locality {\n",
       "   bus_id: 1\n",
       "   links {\n",
       "   }\n",
       " }\n",
       " incarnation: 7327699387077757946\n",
       " physical_device_desc: \"device: 0, name: NVIDIA GeForce RTX 3090, pci bus id: 0000:01:00.0, compute capability: 8.6\"]"
      ]
     },
     "execution_count": 1,
     "metadata": {},
     "output_type": "execute_result"
    }
   ],
   "source": [
    "from tensorflow.python.client import device_lib\n",
    "device_lib.list_local_devices()"
   ]
  },
  {
   "cell_type": "code",
   "execution_count": null,
   "id": "22224c34",
   "metadata": {},
   "outputs": [],
   "source": []
  },
  {
   "cell_type": "code",
   "execution_count": null,
   "id": "501294b2",
   "metadata": {},
   "outputs": [],
   "source": []
  },
  {
   "cell_type": "code",
   "execution_count": null,
   "id": "e872d8f7",
   "metadata": {},
   "outputs": [],
   "source": []
  },
  {
   "cell_type": "markdown",
   "id": "bc6eebd0",
   "metadata": {},
   "source": [
    "# 1. 이미지 전처리"
   ]
  },
  {
   "cell_type": "markdown",
   "id": "fe7a6d1c",
   "metadata": {},
   "source": [
    "## 1) path 설정"
   ]
  },
  {
   "cell_type": "markdown",
   "id": "72229792",
   "metadata": {},
   "source": [
    "### train_data"
   ]
  },
  {
   "cell_type": "code",
   "execution_count": 2,
   "id": "0a21cb3e",
   "metadata": {
    "ExecuteTime": {
     "end_time": "2021-10-31T16:17:31.808782Z",
     "start_time": "2021-10-31T16:17:31.806896Z"
    }
   },
   "outputs": [],
   "source": [
    "train_data_original_img_path = './data/UNET/img_5000/resize_128/train_data/original_img'\n",
    "train_data_resized_img_path = './data/UNET/img_5000/resize_128/train_data/resized_img'"
   ]
  },
  {
   "cell_type": "markdown",
   "id": "67236bce",
   "metadata": {},
   "source": [
    "### test_data"
   ]
  },
  {
   "cell_type": "code",
   "execution_count": 3,
   "id": "6166c0ac",
   "metadata": {
    "ExecuteTime": {
     "end_time": "2021-10-31T16:17:31.826945Z",
     "start_time": "2021-10-31T16:17:31.810055Z"
    }
   },
   "outputs": [],
   "source": [
    "test_data_original_img_path = './data/UNET/img_5000/resize_128/test_data/original_img'\n",
    "test_data_resized_img_path = './data/UNET/img_5000/resize_128/test_data/resized_img'"
   ]
  },
  {
   "cell_type": "markdown",
   "id": "d25133f5",
   "metadata": {},
   "source": [
    "## 2) 이미지 목록 확인"
   ]
  },
  {
   "cell_type": "code",
   "execution_count": 4,
   "id": "8998dcc5",
   "metadata": {
    "ExecuteTime": {
     "end_time": "2021-10-31T16:17:31.837071Z",
     "start_time": "2021-10-31T16:17:31.828853Z"
    }
   },
   "outputs": [],
   "source": [
    "import glob\n",
    "import os\n",
    "from os import listdir, makedirs\n",
    "from os.path import isfile, join"
   ]
  },
  {
   "cell_type": "code",
   "execution_count": 5,
   "id": "3646ca9e",
   "metadata": {
    "ExecuteTime": {
     "end_time": "2021-10-31T16:17:31.847269Z",
     "start_time": "2021-10-31T16:17:31.838365Z"
    }
   },
   "outputs": [],
   "source": [
    "def find_img_name_list(original_img_path) :\n",
    "    img_name_list = list(filter(lambda f: isfile(join(original_img_path, f)), listdir(original_img_path)))\n",
    "    \n",
    "    return img_name_list"
   ]
  },
  {
   "cell_type": "markdown",
   "id": "4d81edfe",
   "metadata": {},
   "source": [
    "### train_data"
   ]
  },
  {
   "cell_type": "code",
   "execution_count": 6,
   "id": "04e5df7e",
   "metadata": {
    "ExecuteTime": {
     "end_time": "2021-10-31T16:17:31.884428Z",
     "start_time": "2021-10-31T16:17:31.848706Z"
    }
   },
   "outputs": [],
   "source": [
    "train_data_img_name_list = find_img_name_list(train_data_original_img_path)"
   ]
  },
  {
   "cell_type": "code",
   "execution_count": 7,
   "id": "b3983342",
   "metadata": {
    "ExecuteTime": {
     "end_time": "2021-10-31T16:17:31.887874Z",
     "start_time": "2021-10-31T16:17:31.885478Z"
    }
   },
   "outputs": [
    {
     "name": "stdout",
     "output_type": "stream",
     "text": [
      "5000\n",
      "['ILSVRC2012_val_00020478.JPEG', 'ILSVRC2012_val_00037062.JPEG', 'ILSVRC2012_val_00022387.JPEG']\n"
     ]
    }
   ],
   "source": [
    "print(len(train_data_img_name_list))\n",
    "print(train_data_img_name_list[:3])"
   ]
  },
  {
   "cell_type": "markdown",
   "id": "3782d42a",
   "metadata": {},
   "source": [
    "### test_data"
   ]
  },
  {
   "cell_type": "code",
   "execution_count": 8,
   "id": "b7d7e4b2",
   "metadata": {
    "ExecuteTime": {
     "end_time": "2021-10-31T16:17:31.912481Z",
     "start_time": "2021-10-31T16:17:31.889543Z"
    }
   },
   "outputs": [],
   "source": [
    "test_data_img_name_list = find_img_name_list(test_data_original_img_path)"
   ]
  },
  {
   "cell_type": "code",
   "execution_count": 9,
   "id": "55a40fdd",
   "metadata": {
    "ExecuteTime": {
     "end_time": "2021-10-31T16:17:31.922318Z",
     "start_time": "2021-10-31T16:17:31.913975Z"
    },
    "scrolled": true
   },
   "outputs": [
    {
     "name": "stdout",
     "output_type": "stream",
     "text": [
      "99\n",
      "['ILSVRC2012_val_00040557.jpg', 'ILSVRC2012_val_00002728.jpg', 'ILSVRC2012_val_00025052.jpg']\n"
     ]
    }
   ],
   "source": [
    "print(len(test_data_img_name_list))\n",
    "print(test_data_img_name_list[:3])"
   ]
  },
  {
   "cell_type": "markdown",
   "id": "2cff7d9c",
   "metadata": {},
   "source": [
    "## 3) 흑백 이미지 삭제"
   ]
  },
  {
   "cell_type": "code",
   "execution_count": 10,
   "id": "17041488",
   "metadata": {
    "ExecuteTime": {
     "end_time": "2021-10-31T16:17:31.932070Z",
     "start_time": "2021-10-31T16:17:31.923572Z"
    }
   },
   "outputs": [],
   "source": [
    "from PIL import Image\n",
    "import os\n",
    "import numpy as np\n",
    "import time\n",
    "from IPython.display import clear_output"
   ]
  },
  {
   "cell_type": "code",
   "execution_count": 11,
   "id": "539c07cb",
   "metadata": {
    "ExecuteTime": {
     "end_time": "2021-10-31T16:17:31.942316Z",
     "start_time": "2021-10-31T16:17:31.933285Z"
    }
   },
   "outputs": [],
   "source": [
    "def remove_gray_img(img_name_list, original_img_path) :\n",
    "    start = time.time()\n",
    "\n",
    "    i = 0\n",
    "    for img_name in img_name_list:\n",
    "        \n",
    "        clear_output(wait=True)\n",
    "        \n",
    "        original_img = Image.open(os.path.join(original_img_path, img_name))\n",
    "        pix = np.array(original_img)\n",
    "        if pix.ndim != 3 :\n",
    "            os.remove(os.path.join(original_img_path, img_name))\n",
    "            \n",
    "        i += 1\n",
    "        print('진행 상황 : ', i,'/',len(img_name_list))\n",
    "        print('진행 시간 : ', round((time.time() - start), 2))\n",
    "\n",
    "    print('총 걸린 시간 : ', round((time.time() - start),2), '초')"
   ]
  },
  {
   "cell_type": "markdown",
   "id": "75bf1d05",
   "metadata": {},
   "source": [
    "### train_data"
   ]
  },
  {
   "cell_type": "code",
   "execution_count": 12,
   "id": "e9e46d78",
   "metadata": {
    "ExecuteTime": {
     "end_time": "2021-10-31T16:17:55.575536Z",
     "start_time": "2021-10-31T16:17:31.943580Z"
    }
   },
   "outputs": [
    {
     "name": "stdout",
     "output_type": "stream",
     "text": [
      "진행 상황 :  5000 / 5000\n",
      "진행 시간 :  23.61\n",
      "총 걸린 시간 :  23.61 초\n"
     ]
    }
   ],
   "source": [
    "remove_gray_img(train_data_img_name_list, train_data_original_img_path)\n",
    "train_data_img_name_list = list(filter(lambda f: isfile(join(train_data_original_img_path, f)), listdir(train_data_original_img_path)))"
   ]
  },
  {
   "cell_type": "markdown",
   "id": "d7253499",
   "metadata": {},
   "source": [
    "### test_data"
   ]
  },
  {
   "cell_type": "code",
   "execution_count": 13,
   "id": "68890efe",
   "metadata": {
    "ExecuteTime": {
     "end_time": "2021-10-31T16:17:55.846295Z",
     "start_time": "2021-10-31T16:17:55.576598Z"
    }
   },
   "outputs": [
    {
     "name": "stdout",
     "output_type": "stream",
     "text": [
      "진행 상황 :  99 / 99\n",
      "진행 시간 :  0.27\n",
      "총 걸린 시간 :  0.27 초\n"
     ]
    }
   ],
   "source": [
    "remove_gray_img(test_data_img_name_list, test_data_original_img_path)\n",
    "test_data_img_name_list = list(filter(lambda f: isfile(join(test_data_original_img_path, f)), listdir(test_data_original_img_path)))"
   ]
  },
  {
   "cell_type": "markdown",
   "id": "4e2c3a7c",
   "metadata": {},
   "source": [
    "## 4) 원본 이미지의 사이즈 저장"
   ]
  },
  {
   "cell_type": "code",
   "execution_count": 14,
   "id": "6f2b2b5e",
   "metadata": {
    "ExecuteTime": {
     "end_time": "2021-10-31T16:17:55.849279Z",
     "start_time": "2021-10-31T16:17:55.847513Z"
    }
   },
   "outputs": [],
   "source": [
    "from PIL import Image\n",
    "import pickle"
   ]
  },
  {
   "cell_type": "code",
   "execution_count": 15,
   "id": "49b9dbe8",
   "metadata": {
    "ExecuteTime": {
     "end_time": "2021-10-31T16:17:55.859621Z",
     "start_time": "2021-10-31T16:17:55.850420Z"
    }
   },
   "outputs": [],
   "source": [
    "def make_original_img_size_list(img_name_list, original_img_path) :\n",
    "    original_img_size_list = []\n",
    "    for img_name in img_name_list:\n",
    "        original_img = Image.open(os.path.join(original_img_path, img_name))\n",
    "        original_img_size_list.append(original_img.size)\n",
    "    \n",
    "    return original_img_size_list"
   ]
  },
  {
   "cell_type": "code",
   "execution_count": 16,
   "id": "982a8e57",
   "metadata": {
    "ExecuteTime": {
     "end_time": "2021-10-31T16:17:55.869605Z",
     "start_time": "2021-10-31T16:17:55.860800Z"
    }
   },
   "outputs": [],
   "source": [
    "import pickle"
   ]
  },
  {
   "cell_type": "code",
   "execution_count": 17,
   "id": "6582eb41",
   "metadata": {
    "ExecuteTime": {
     "end_time": "2021-10-31T16:17:55.879696Z",
     "start_time": "2021-10-31T16:17:55.870949Z"
    }
   },
   "outputs": [],
   "source": [
    "def save_object_by_pickle(obj, file_path):\n",
    "    pickle.dump(obj, open(file_path, 'wb'), protocol=4)\n",
    "\n",
    "def load_object_by_pickle(pklfile):\n",
    "    return pickle.load(open(pklfile, 'rb'))"
   ]
  },
  {
   "cell_type": "markdown",
   "id": "0e8aeb71",
   "metadata": {},
   "source": [
    "### test_data (만 필요) "
   ]
  },
  {
   "cell_type": "code",
   "execution_count": 18,
   "id": "b3cba127",
   "metadata": {
    "ExecuteTime": {
     "end_time": "2021-10-31T16:17:55.903209Z",
     "start_time": "2021-10-31T16:17:55.880862Z"
    },
    "scrolled": true
   },
   "outputs": [],
   "source": [
    "test_data_original_img_size_list = make_original_img_size_list(test_data_img_name_list, test_data_original_img_path)"
   ]
  },
  {
   "cell_type": "code",
   "execution_count": 19,
   "id": "602a81ff",
   "metadata": {
    "ExecuteTime": {
     "end_time": "2021-10-31T16:17:55.906268Z",
     "start_time": "2021-10-31T16:17:55.904081Z"
    },
    "scrolled": true
   },
   "outputs": [
    {
     "name": "stdout",
     "output_type": "stream",
     "text": [
      "99\n",
      "[(300, 450), (300, 450), (300, 340)]\n"
     ]
    }
   ],
   "source": [
    "print(len(test_data_original_img_size_list))\n",
    "print(test_data_original_img_size_list[:3])"
   ]
  },
  {
   "cell_type": "code",
   "execution_count": 20,
   "id": "21a24568",
   "metadata": {
    "ExecuteTime": {
     "end_time": "2021-10-31T16:17:55.920198Z",
     "start_time": "2021-10-31T16:17:55.907161Z"
    }
   },
   "outputs": [],
   "source": [
    "test_data_original_img_size_path = './data/UNET/img_5000/resize_128/test_data/original_img_size.pkl'"
   ]
  },
  {
   "cell_type": "code",
   "execution_count": 21,
   "id": "e0e42e39",
   "metadata": {
    "ExecuteTime": {
     "end_time": "2021-10-31T16:17:55.930341Z",
     "start_time": "2021-10-31T16:17:55.921488Z"
    },
    "scrolled": true
   },
   "outputs": [],
   "source": [
    "save_object_by_pickle(test_data_original_img_size_list, test_data_original_img_size_path)"
   ]
  },
  {
   "cell_type": "markdown",
   "id": "6cbbc9e8",
   "metadata": {},
   "source": [
    "## 5) resized 및 저장"
   ]
  },
  {
   "cell_type": "code",
   "execution_count": 22,
   "id": "24b50be5",
   "metadata": {
    "ExecuteTime": {
     "end_time": "2021-10-31T16:17:55.953713Z",
     "start_time": "2021-10-31T16:17:55.931704Z"
    }
   },
   "outputs": [],
   "source": [
    "import cv2\n",
    "import time\n",
    "from IPython.display import clear_output\n",
    "import os"
   ]
  },
  {
   "cell_type": "code",
   "execution_count": 23,
   "id": "9ea1db95",
   "metadata": {
    "ExecuteTime": {
     "end_time": "2021-10-31T16:17:55.958195Z",
     "start_time": "2021-10-31T16:17:55.956260Z"
    }
   },
   "outputs": [],
   "source": [
    "def createDirectory(directory):\n",
    "    try:\n",
    "        if not os.path.exists(directory):\n",
    "            os.makedirs(directory)\n",
    "    except OSError:\n",
    "        print(\"Error: Failed to create the directory.\")"
   ]
  },
  {
   "cell_type": "code",
   "execution_count": 24,
   "id": "bef4335b",
   "metadata": {
    "ExecuteTime": {
     "end_time": "2021-10-31T16:17:55.968008Z",
     "start_time": "2021-10-31T16:17:55.959638Z"
    }
   },
   "outputs": [],
   "source": [
    "def resizing_img(img_name_list, original_img_path, resized_img_path, resize_size) :\n",
    "    start = time.time()\n",
    "\n",
    "    i = 0\n",
    "    for img_name in img_name_list :\n",
    "\n",
    "        clear_output(wait=True)\n",
    "\n",
    "\n",
    "        try:\n",
    "            original_img = cv2.imread(os.path.join(original_img_path, img_name))\n",
    "            resized_img = cv2.resize(original_img, dsize = resize_size, interpolation = cv2.INTER_CUBIC)\n",
    "            createDirectory(resized_img_path)\n",
    "            cv2.imwrite(os.path.join(resized_img_path, img_name), resized_img)\n",
    "        except:\n",
    "            print('{}가 변환되지 않았습니다.'.format(img_name))\n",
    "\n",
    "\n",
    "        i += 1\n",
    "        print('진행 상황 : ', i,'/',len(img_name_list))\n",
    "        print('진행 시간 : ', round((time.time() - start), 2))\n",
    "\n",
    "    print('총 걸린 시간 : ', round((time.time() - start),2), '초')"
   ]
  },
  {
   "cell_type": "markdown",
   "id": "029b3085",
   "metadata": {},
   "source": [
    "### train_data"
   ]
  },
  {
   "cell_type": "code",
   "execution_count": 25,
   "id": "b8920223",
   "metadata": {
    "ExecuteTime": {
     "end_time": "2021-10-31T16:18:37.808544Z",
     "start_time": "2021-10-31T16:17:55.969210Z"
    }
   },
   "outputs": [
    {
     "name": "stdout",
     "output_type": "stream",
     "text": [
      "진행 상황 :  4882 / 4882\n",
      "진행 시간 :  41.83\n",
      "총 걸린 시간 :  41.83 초\n"
     ]
    }
   ],
   "source": [
    "resizing_img(train_data_img_name_list, train_data_original_img_path, train_data_resized_img_path, (128, 128))"
   ]
  },
  {
   "cell_type": "markdown",
   "id": "ae77c71b",
   "metadata": {},
   "source": [
    "### test_data"
   ]
  },
  {
   "cell_type": "code",
   "execution_count": 26,
   "id": "7d72d35f",
   "metadata": {
    "ExecuteTime": {
     "end_time": "2021-10-31T16:18:38.388467Z",
     "start_time": "2021-10-31T16:18:37.809382Z"
    }
   },
   "outputs": [
    {
     "name": "stdout",
     "output_type": "stream",
     "text": [
      "진행 상황 :  99 / 99\n",
      "진행 시간 :  0.58\n",
      "총 걸린 시간 :  0.58 초\n"
     ]
    }
   ],
   "source": [
    "resizing_img(test_data_img_name_list, test_data_original_img_path, test_data_resized_img_path, (128, 128))"
   ]
  },
  {
   "cell_type": "markdown",
   "id": "a483509b",
   "metadata": {},
   "source": [
    "## 6) 이미지 RGB 값 pickle 저장"
   ]
  },
  {
   "cell_type": "code",
   "execution_count": 27,
   "id": "e05d124e",
   "metadata": {
    "ExecuteTime": {
     "end_time": "2021-10-31T16:18:38.391084Z",
     "start_time": "2021-10-31T16:18:38.389336Z"
    }
   },
   "outputs": [],
   "source": [
    "from tensorflow.keras import datasets, utils, backend\n",
    "import tensorflow as tf\n",
    "import ssl\n",
    "import pickle\n",
    "ssl._create_default_https_context = ssl._create_unverified_context"
   ]
  },
  {
   "cell_type": "code",
   "execution_count": 28,
   "id": "b83dcfa1",
   "metadata": {
    "ExecuteTime": {
     "end_time": "2021-10-31T16:18:38.407531Z",
     "start_time": "2021-10-31T16:18:38.391864Z"
    }
   },
   "outputs": [],
   "source": [
    "def load_my_img(img_name_list, resized_img_path) :\n",
    "    start = time.time()\n",
    "\n",
    "    i = 0\n",
    "    \n",
    "    img_pixel_list = [0]*len(img_name_list)\n",
    "    for img_name in img_name_list :\n",
    "\n",
    "        clear_output(wait=True)\n",
    "\n",
    "\n",
    "        resized_img = Image.open(os.path.join(resized_img_path, img_name))\n",
    "        pixel_array = np.array(resized_img)\n",
    "        pixel_list = pixel_array.tolist()\n",
    "        img_pixel_list[i] = pixel_list\n",
    "\n",
    "        i += 1\n",
    "        print('진행 상황 : ', i,'/',len(img_name_list))\n",
    "        print('진행 시간 : ', round((time.time() - start), 2))\n",
    "\n",
    "    print('총 걸린 시간 : ', round((time.time() - start),2), '초')\n",
    "    \n",
    "    img = np.array(img_pixel_list)\n",
    "    \n",
    "    return img"
   ]
  },
  {
   "cell_type": "code",
   "execution_count": 29,
   "id": "0fdc074a",
   "metadata": {
    "ExecuteTime": {
     "end_time": "2021-10-31T16:18:38.417499Z",
     "start_time": "2021-10-31T16:18:38.408868Z"
    }
   },
   "outputs": [],
   "source": [
    "def save_object_by_pickle(obj, file_path):\n",
    "    pickle.dump(obj, open(file_path, 'wb'), protocol=4)"
   ]
  },
  {
   "cell_type": "markdown",
   "id": "b7bb315c",
   "metadata": {},
   "source": [
    "### train_data"
   ]
  },
  {
   "cell_type": "code",
   "execution_count": 30,
   "id": "a3b5cfc3",
   "metadata": {
    "ExecuteTime": {
     "end_time": "2021-10-31T16:40:05.531391Z",
     "start_time": "2021-10-31T16:18:38.418610Z"
    },
    "scrolled": true
   },
   "outputs": [
    {
     "name": "stdout",
     "output_type": "stream",
     "text": [
      "진행 상황 :  4882 / 4882\n",
      "진행 시간 :  474.49\n",
      "총 걸린 시간 :  474.49 초\n"
     ]
    }
   ],
   "source": [
    "train_img_pixel_values = load_my_img(train_data_img_name_list, train_data_resized_img_path)"
   ]
  },
  {
   "cell_type": "code",
   "execution_count": 31,
   "id": "c6c6e6d1",
   "metadata": {
    "ExecuteTime": {
     "end_time": "2021-10-31T16:40:05.534473Z",
     "start_time": "2021-10-31T16:40:05.532657Z"
    }
   },
   "outputs": [],
   "source": [
    "train_data_img_pixel_values_path = './data/UNET/img_5000/resize_128/train_data/img_pixel_values.pkl'"
   ]
  },
  {
   "cell_type": "code",
   "execution_count": 33,
   "id": "d6ee3969",
   "metadata": {
    "ExecuteTime": {
     "end_time": "2021-10-31T16:41:52.314553Z",
     "start_time": "2021-10-31T16:41:29.092678Z"
    }
   },
   "outputs": [
    {
     "name": "stdout",
     "output_type": "stream",
     "text": [
      "The history saving thread hit an unexpected error (OperationalError('database or disk is full')).History will not be written to the database.\n"
     ]
    },
    {
     "ename": "OSError",
     "evalue": "[Errno 28] No space left on device",
     "output_type": "error",
     "traceback": [
      "\u001b[0;31m---------------------------------------------------------------------------\u001b[0m",
      "\u001b[0;31mOSError\u001b[0m                                   Traceback (most recent call last)",
      "\u001b[0;32m<ipython-input-33-e714ecfb1b2e>\u001b[0m in \u001b[0;36m<module>\u001b[0;34m\u001b[0m\n\u001b[0;32m----> 1\u001b[0;31m \u001b[0msave_object_by_pickle\u001b[0m\u001b[0;34m(\u001b[0m\u001b[0mtrain_img_pixel_values\u001b[0m\u001b[0;34m,\u001b[0m \u001b[0mtrain_data_img_pixel_values_path\u001b[0m\u001b[0;34m)\u001b[0m\u001b[0;34m\u001b[0m\u001b[0;34m\u001b[0m\u001b[0m\n\u001b[0m",
      "\u001b[0;32m<ipython-input-29-434c4beeba54>\u001b[0m in \u001b[0;36msave_object_by_pickle\u001b[0;34m(obj, file_path)\u001b[0m\n\u001b[1;32m      1\u001b[0m \u001b[0;32mdef\u001b[0m \u001b[0msave_object_by_pickle\u001b[0m\u001b[0;34m(\u001b[0m\u001b[0mobj\u001b[0m\u001b[0;34m,\u001b[0m \u001b[0mfile_path\u001b[0m\u001b[0;34m)\u001b[0m\u001b[0;34m:\u001b[0m\u001b[0;34m\u001b[0m\u001b[0;34m\u001b[0m\u001b[0m\n\u001b[0;32m----> 2\u001b[0;31m     \u001b[0mpickle\u001b[0m\u001b[0;34m.\u001b[0m\u001b[0mdump\u001b[0m\u001b[0;34m(\u001b[0m\u001b[0mobj\u001b[0m\u001b[0;34m,\u001b[0m \u001b[0mopen\u001b[0m\u001b[0;34m(\u001b[0m\u001b[0mfile_path\u001b[0m\u001b[0;34m,\u001b[0m \u001b[0;34m'wb'\u001b[0m\u001b[0;34m)\u001b[0m\u001b[0;34m,\u001b[0m \u001b[0mprotocol\u001b[0m\u001b[0;34m=\u001b[0m\u001b[0;36m4\u001b[0m\u001b[0;34m)\u001b[0m\u001b[0;34m\u001b[0m\u001b[0;34m\u001b[0m\u001b[0m\n\u001b[0m",
      "\u001b[0;31mOSError\u001b[0m: [Errno 28] No space left on device"
     ]
    }
   ],
   "source": [
    "save_object_by_pickle(train_img_pixel_values, train_data_img_pixel_values_path)"
   ]
  },
  {
   "cell_type": "markdown",
   "id": "61393312",
   "metadata": {},
   "source": [
    "### test_data"
   ]
  },
  {
   "cell_type": "code",
   "execution_count": null,
   "id": "c72cb8fb",
   "metadata": {
    "ExecuteTime": {
     "end_time": "2021-10-31T16:40:27.591105Z",
     "start_time": "2021-10-31T16:17:29.599Z"
    },
    "scrolled": true
   },
   "outputs": [],
   "source": [
    "test_img_pixel_values = load_my_img(test_data_img_name_list, test_data_resized_img_path)"
   ]
  },
  {
   "cell_type": "code",
   "execution_count": null,
   "id": "b8f907a4",
   "metadata": {
    "ExecuteTime": {
     "end_time": "2021-10-31T16:40:27.591555Z",
     "start_time": "2021-10-31T16:17:29.601Z"
    }
   },
   "outputs": [],
   "source": [
    "test_data_img_pixel_values_path = './data/UNET/img_5000/resize_128/test_data/img_pixel_values.pkl'"
   ]
  },
  {
   "cell_type": "code",
   "execution_count": null,
   "id": "38fa1e2e",
   "metadata": {
    "ExecuteTime": {
     "end_time": "2021-10-31T16:40:27.592070Z",
     "start_time": "2021-10-31T16:17:29.604Z"
    }
   },
   "outputs": [],
   "source": [
    "save_object_by_pickle(test_img_pixel_values, test_data_img_pixel_values_path)"
   ]
  },
  {
   "cell_type": "code",
   "execution_count": null,
   "id": "084dba28",
   "metadata": {
    "ExecuteTime": {
     "end_time": "2021-10-31T16:40:27.592632Z",
     "start_time": "2021-10-31T16:17:29.607Z"
    }
   },
   "outputs": [],
   "source": [
    "raise SystemExit(\"Stop right there!\")"
   ]
  },
  {
   "cell_type": "code",
   "execution_count": null,
   "id": "887ee697",
   "metadata": {},
   "outputs": [],
   "source": []
  },
  {
   "cell_type": "code",
   "execution_count": null,
   "id": "3da921fd",
   "metadata": {},
   "outputs": [],
   "source": []
  },
  {
   "cell_type": "code",
   "execution_count": null,
   "id": "dc7ac8ad",
   "metadata": {},
   "outputs": [],
   "source": []
  },
  {
   "cell_type": "markdown",
   "id": "a6c086f3",
   "metadata": {},
   "source": [
    "# 여기까지 실행"
   ]
  },
  {
   "cell_type": "markdown",
   "id": "38f03c35",
   "metadata": {},
   "source": [
    "# 여기서부터 다시 시작"
   ]
  },
  {
   "cell_type": "code",
   "execution_count": null,
   "id": "76869643",
   "metadata": {},
   "outputs": [],
   "source": []
  },
  {
   "cell_type": "code",
   "execution_count": null,
   "id": "e2ba2b99",
   "metadata": {},
   "outputs": [],
   "source": []
  },
  {
   "cell_type": "code",
   "execution_count": null,
   "id": "d9ed21db",
   "metadata": {},
   "outputs": [],
   "source": []
  },
  {
   "cell_type": "markdown",
   "id": "33e33b59",
   "metadata": {},
   "source": [
    "# 2. 학습"
   ]
  },
  {
   "cell_type": "markdown",
   "id": "887624a2",
   "metadata": {},
   "source": [
    "## 1) 이미지 RGB 값 pickle 불러오기"
   ]
  },
  {
   "cell_type": "code",
   "execution_count": null,
   "id": "3ea4d45a",
   "metadata": {
    "ExecuteTime": {
     "end_time": "2021-10-31T16:40:27.593080Z",
     "start_time": "2021-10-31T16:17:29.629Z"
    }
   },
   "outputs": [],
   "source": [
    "import pickle\n",
    "import ssl\n",
    "ssl._create_default_https_context = ssl._create_unverified_context"
   ]
  },
  {
   "cell_type": "code",
   "execution_count": null,
   "id": "aacdec0b",
   "metadata": {
    "ExecuteTime": {
     "end_time": "2021-10-31T16:40:27.593525Z",
     "start_time": "2021-10-31T16:17:29.632Z"
    }
   },
   "outputs": [],
   "source": [
    "def load_object_by_pickle(pklfile):\n",
    "    return pickle.load(open(pklfile, 'rb'))"
   ]
  },
  {
   "cell_type": "code",
   "execution_count": null,
   "id": "efdc4eee",
   "metadata": {
    "ExecuteTime": {
     "end_time": "2021-10-31T16:40:27.593987Z",
     "start_time": "2021-10-31T16:17:29.634Z"
    }
   },
   "outputs": [],
   "source": [
    "train_data_img_pixel_values_path = './data/UNET/img_5000/resize_128/train_data/img_pixel_values.pkl'"
   ]
  },
  {
   "cell_type": "code",
   "execution_count": null,
   "id": "437956bd",
   "metadata": {
    "ExecuteTime": {
     "end_time": "2021-10-31T16:40:27.594443Z",
     "start_time": "2021-10-31T16:17:29.637Z"
    }
   },
   "outputs": [],
   "source": [
    "train_img = load_object_by_pickle(train_data_img_pixel_values_path)"
   ]
  },
  {
   "cell_type": "markdown",
   "id": "d0bebef1",
   "metadata": {},
   "source": [
    "## 2) Train Dataset 구축"
   ]
  },
  {
   "cell_type": "code",
   "execution_count": null,
   "id": "a35c825a",
   "metadata": {
    "ExecuteTime": {
     "end_time": "2021-10-31T16:40:27.594866Z",
     "start_time": "2021-10-31T16:17:29.640Z"
    }
   },
   "outputs": [],
   "source": [
    "from tensorflow.keras import backend"
   ]
  },
  {
   "cell_type": "code",
   "execution_count": null,
   "id": "5b91bd99",
   "metadata": {
    "ExecuteTime": {
     "end_time": "2021-10-31T16:40:27.595485Z",
     "start_time": "2021-10-31T16:17:29.644Z"
    }
   },
   "outputs": [],
   "source": [
    "class DATA():\n",
    "    def __init__(self, img_data) :\n",
    "\n",
    "        if backend.image_data_format() == 'channels_first':\n",
    "            n_ch, img_rows, img_cols = img_data.shape[1:]\n",
    "            input_shape = (1, img_rows, img_cols)\n",
    "        else:\n",
    "            img_rows, img_cols, n_ch = img_data.shape[1:]\n",
    "            input_shape = (img_rows, img_cols, 1)\n",
    "\n",
    "        img_data = img_data.astype('float32') / 255.0\n",
    "    \n",
    "        def RGB2Gray(img, fmt):\n",
    "            if fmt == 'channels_first':\n",
    "                R = img[:, 0:1]\n",
    "                G = img[:, 1:2]\n",
    "                B = img[:, 2:3]\n",
    "            else:\n",
    "                R = img[..., 0:1]\n",
    "                G = img[..., 1:2]\n",
    "                B = img[..., 2:3]\n",
    "            return 0.299 * R + 0.587 * G + 0.114 * B\n",
    "    \n",
    "        x = RGB2Gray(img_data, backend.image_data_format())\n",
    "        \n",
    "        self.input_shape = input_shape\n",
    "        self.x, self.y = x, img_data\n",
    "        self.n_ch = n_ch"
   ]
  },
  {
   "cell_type": "code",
   "execution_count": null,
   "id": "1affb7a0",
   "metadata": {
    "ExecuteTime": {
     "end_time": "2021-10-31T16:40:27.595925Z",
     "start_time": "2021-10-31T16:17:29.648Z"
    }
   },
   "outputs": [],
   "source": [
    "data_train = DATA(train_img)\n",
    "print(data_train.input_shape, data_train.x.shape)"
   ]
  },
  {
   "cell_type": "code",
   "execution_count": null,
   "id": "b9d67ec7",
   "metadata": {
    "ExecuteTime": {
     "end_time": "2021-10-31T16:40:27.596366Z",
     "start_time": "2021-10-31T16:17:29.650Z"
    }
   },
   "outputs": [],
   "source": [
    "X_train = data_train.x\n",
    "Y_train = data_train.y"
   ]
  },
  {
   "cell_type": "markdown",
   "id": "46eb5299",
   "metadata": {},
   "source": [
    "## 3) 모델 구축"
   ]
  },
  {
   "cell_type": "code",
   "execution_count": null,
   "id": "f64338dd",
   "metadata": {
    "ExecuteTime": {
     "end_time": "2021-10-31T16:40:27.597166Z",
     "start_time": "2021-10-31T16:17:29.654Z"
    }
   },
   "outputs": [],
   "source": [
    "from tensorflow.keras import models, backend\n",
    "from tensorflow.keras.layers import Input, Conv2D, MaxPooling2D, Dropout, UpSampling2D, BatchNormalization, Concatenate, Activation\n",
    "from tensorflow.keras.models import Model\n",
    "from tensorflow.keras.optimizers import Adam"
   ]
  },
  {
   "cell_type": "code",
   "execution_count": null,
   "id": "c3a5737f",
   "metadata": {
    "ExecuteTime": {
     "end_time": "2021-10-31T16:40:27.598064Z",
     "start_time": "2021-10-31T16:17:29.656Z"
    }
   },
   "outputs": [],
   "source": [
    "def conv(x, n_f, mp_flag=True):\n",
    "    x = MaxPooling2D((2, 2), padding='same')(x) if mp_flag else x\n",
    "    x = Conv2D(n_f, (3, 3), padding='same')(x)\n",
    "    x = BatchNormalization()(x)\n",
    "    x = Activation('relu')(x)\n",
    "    x = Dropout(0.05)(x)\n",
    "    x = Conv2D(n_f, (3, 3), padding='same')(x)\n",
    "    x = BatchNormalization()(x)\n",
    "    x = Activation('relu')(x)\n",
    "    return x\n",
    "\n",
    "def deconv_unet(x, e, n_f, ic):\n",
    "    x = UpSampling2D((2, 2))(x)\n",
    "    x = Conv2D(n_f, (2, 2), padding='same')(x)\n",
    "    x = Concatenate(axis=ic)([x, e])\n",
    "    x = Conv2D(n_f, (3, 3), padding='same')(x)\n",
    "    x = BatchNormalization()(x)\n",
    "    x = Activation('relu')(x)\n",
    "    x = Conv2D(n_f, (3, 3), padding='same')(x)\n",
    "    x = BatchNormalization()(x)\n",
    "    x = Activation('relu')(x)\n",
    "    return x\n",
    "\n",
    "def UNET(org_shape, n_ch):\n",
    "    ic = 3 if backend.image_data_format() == 'channels_last' else 1\n",
    "    # Input\n",
    "    original = Input(shape=org_shape)\n",
    "\n",
    "    # Encoding\n",
    "    e1 = conv(original, 64, mp_flag=False)\n",
    "    e2 = conv(e1, 128)\n",
    "    e3 = conv(e2, 256)\n",
    "    e4 = conv(e3, 512)\n",
    "\n",
    "    encoded = conv(e4, 1024)\n",
    "\n",
    "    # Decoding\n",
    "    x = deconv_unet(encoded, e4, 512, ic)\n",
    "    x = deconv_unet(x, e3, 256, ic)\n",
    "    x = deconv_unet(x, e2, 128, ic)\n",
    "    x = deconv_unet(x, e1, 64, ic)\n",
    "\n",
    "    decoded = Conv2D(n_ch, (1, 1), padding='same')(x)\n",
    "\n",
    "\n",
    "    model = Model(inputs=original, outputs=decoded)\n",
    "    optimizer = Adam(lr=0.001)\n",
    "\n",
    "    model.compile(loss='mse', optimizer=optimizer, metrics=['acc'])\n",
    "\n",
    "    return model"
   ]
  },
  {
   "cell_type": "code",
   "execution_count": null,
   "id": "58c0bb41",
   "metadata": {
    "ExecuteTime": {
     "end_time": "2021-10-31T16:40:27.598871Z",
     "start_time": "2021-10-31T16:17:29.660Z"
    },
    "scrolled": false
   },
   "outputs": [],
   "source": [
    "unet = UNET(data_train.input_shape, data_train.n_ch)\n",
    "unet.summary()"
   ]
  },
  {
   "cell_type": "markdown",
   "id": "b5384157",
   "metadata": {},
   "source": [
    "## 5) Callback 설정"
   ]
  },
  {
   "cell_type": "code",
   "execution_count": null,
   "id": "66717d65",
   "metadata": {
    "ExecuteTime": {
     "end_time": "2021-10-31T16:40:27.599724Z",
     "start_time": "2021-10-31T16:17:29.665Z"
    }
   },
   "outputs": [],
   "source": [
    "import tensorflow.keras\n",
    "import os"
   ]
  },
  {
   "cell_type": "code",
   "execution_count": null,
   "id": "fcb52f5e",
   "metadata": {
    "ExecuteTime": {
     "end_time": "2021-10-31T16:40:27.600537Z",
     "start_time": "2021-10-31T16:17:29.668Z"
    }
   },
   "outputs": [],
   "source": [
    "def createDirectory(directory):\n",
    "    try:\n",
    "        if not os.path.exists(directory):\n",
    "            os.makedirs(directory)\n",
    "    except OSError:\n",
    "        print(\"Error: Failed to create the directory.\")"
   ]
  },
  {
   "cell_type": "code",
   "execution_count": null,
   "id": "93cdbcad",
   "metadata": {
    "ExecuteTime": {
     "end_time": "2021-10-31T16:40:27.601332Z",
     "start_time": "2021-10-31T16:17:29.671Z"
    }
   },
   "outputs": [],
   "source": [
    "epochs=100\n",
    "batch_size=8\n",
    "\n",
    "img_num = 5000\n",
    "resize_size = 128"
   ]
  },
  {
   "cell_type": "code",
   "execution_count": null,
   "id": "539882a0",
   "metadata": {
    "ExecuteTime": {
     "end_time": "2021-10-31T16:40:27.602077Z",
     "start_time": "2021-10-31T16:17:29.674Z"
    }
   },
   "outputs": [],
   "source": [
    "model_save_folder = './data/UNET/img_5000/resize_128/trained_model'\n",
    "model_filename_front = model_save_folder + '/unet_model-img_num_{}-resize_size_{}-batch_size_{}-'.format(img_num, resize_size, batch_size)\n",
    "model_filename = model_filename_front + '{epoch}-{val_loss:.4f}-{loss:.4f}.h5'"
   ]
  },
  {
   "cell_type": "code",
   "execution_count": null,
   "id": "07a2517a",
   "metadata": {
    "ExecuteTime": {
     "end_time": "2021-10-31T16:40:27.602771Z",
     "start_time": "2021-10-31T16:17:29.678Z"
    }
   },
   "outputs": [],
   "source": [
    "createDirectory(model_save_folder)"
   ]
  },
  {
   "cell_type": "code",
   "execution_count": null,
   "id": "d617cd23",
   "metadata": {
    "ExecuteTime": {
     "end_time": "2021-10-31T16:40:27.603500Z",
     "start_time": "2021-10-31T16:17:29.680Z"
    }
   },
   "outputs": [],
   "source": [
    "earlystopping = tensorflow.keras.callbacks.EarlyStopping(monitor='val_loss', mode='min', verbose=1, patience=15)\n",
    "checkpoint = tensorflow.keras.callbacks.ModelCheckpoint(model_filename, minitor='val_loss', mode='min', save_best_only=True)"
   ]
  },
  {
   "cell_type": "markdown",
   "id": "0a2f76e6",
   "metadata": {},
   "source": [
    "## 6) 모델 학습 "
   ]
  },
  {
   "cell_type": "code",
   "execution_count": null,
   "id": "a9101140",
   "metadata": {
    "ExecuteTime": {
     "end_time": "2021-10-31T16:40:27.604238Z",
     "start_time": "2021-10-31T16:17:29.684Z"
    },
    "scrolled": true
   },
   "outputs": [],
   "source": [
    "history = unet.fit(X_train, Y_train,\n",
    "                   epochs=epochs,\n",
    "                   batch_size=batch_size,\n",
    "                   shuffle=True,\n",
    "                   validation_split=0.2,\n",
    "                   callbacks=[earlystopping, checkpoint])"
   ]
  },
  {
   "cell_type": "markdown",
   "id": "dcf99773",
   "metadata": {},
   "source": [
    "## 7) 학습 loss 시각화"
   ]
  },
  {
   "cell_type": "code",
   "execution_count": null,
   "id": "ba190576",
   "metadata": {
    "ExecuteTime": {
     "end_time": "2021-10-31T16:40:27.604954Z",
     "start_time": "2021-10-31T16:17:29.687Z"
    }
   },
   "outputs": [],
   "source": [
    "import matplotlib.pyplot as plt"
   ]
  },
  {
   "cell_type": "code",
   "execution_count": null,
   "id": "875aefc7",
   "metadata": {
    "ExecuteTime": {
     "end_time": "2021-10-31T16:40:27.605683Z",
     "start_time": "2021-10-31T16:17:29.690Z"
    }
   },
   "outputs": [],
   "source": [
    "def plot_acc(history, title=None):\n",
    "    # summarize history for accuracy\n",
    "    if not isinstance(history, dict):\n",
    "        history = history.history\n",
    "\n",
    "    plt.plot(history['acc'])\n",
    "    plt.plot(history['val_acc'])\n",
    "    if title is not None:\n",
    "        plt.title(title)\n",
    "    plt.ylabel('Accracy')\n",
    "    plt.xlabel('Epoch')\n",
    "    plt.legend(['Training data', 'Validation data'], loc=0)\n",
    "    # plt.show()\n",
    "\n",
    "\n",
    "def plot_loss(history, title=None):\n",
    "    # summarize history for loss\n",
    "    if not isinstance(history, dict):\n",
    "        history = history.history\n",
    "\n",
    "    plt.plot(history['loss'])\n",
    "    plt.plot(history['val_loss'])\n",
    "    if title is not None:\n",
    "        plt.title(title)\n",
    "    plt.ylabel('Loss')\n",
    "    plt.xlabel('Epoch')\n",
    "    plt.legend(['Training data', 'Validation data'], loc=0)\n",
    "    # plt.show()\n",
    "\n",
    "\n",
    "def plot_history(history):\n",
    "    plt.figure(figsize=(15, 5))\n",
    "    plt.subplot(1, 2, 1)\n",
    "    plot_acc(history)\n",
    "    plt.subplot(1, 2, 2)\n",
    "    plot_loss(history)"
   ]
  },
  {
   "cell_type": "code",
   "execution_count": null,
   "id": "9fae109b",
   "metadata": {
    "ExecuteTime": {
     "end_time": "2021-10-31T16:40:27.606376Z",
     "start_time": "2021-10-31T16:17:29.693Z"
    }
   },
   "outputs": [],
   "source": [
    "plot_loss(history)"
   ]
  },
  {
   "cell_type": "code",
   "execution_count": null,
   "id": "d4ca9f6f",
   "metadata": {
    "ExecuteTime": {
     "end_time": "2021-10-31T16:40:27.607192Z",
     "start_time": "2021-10-31T16:17:29.697Z"
    }
   },
   "outputs": [],
   "source": [
    "raise SystemExit(\"Stop right there!\")"
   ]
  },
  {
   "cell_type": "code",
   "execution_count": null,
   "id": "92bcb807",
   "metadata": {},
   "outputs": [],
   "source": []
  },
  {
   "cell_type": "code",
   "execution_count": null,
   "id": "80d55486",
   "metadata": {},
   "outputs": [],
   "source": []
  },
  {
   "cell_type": "code",
   "execution_count": null,
   "id": "6861c22c",
   "metadata": {},
   "outputs": [],
   "source": []
  },
  {
   "cell_type": "markdown",
   "id": "5d3c5e8d",
   "metadata": {},
   "source": [
    "# 여기까지 실행"
   ]
  },
  {
   "cell_type": "markdown",
   "id": "0f1f08fb",
   "metadata": {},
   "source": [
    "# 여기서부터 다시 시작"
   ]
  },
  {
   "cell_type": "code",
   "execution_count": null,
   "id": "fb3a0775",
   "metadata": {},
   "outputs": [],
   "source": []
  },
  {
   "cell_type": "code",
   "execution_count": null,
   "id": "1bb505ac",
   "metadata": {},
   "outputs": [],
   "source": []
  },
  {
   "cell_type": "code",
   "execution_count": null,
   "id": "186d6387",
   "metadata": {},
   "outputs": [],
   "source": []
  },
  {
   "cell_type": "markdown",
   "id": "9563e96f",
   "metadata": {},
   "source": [
    "# 3. 예측"
   ]
  },
  {
   "cell_type": "markdown",
   "id": "0c18b4d7",
   "metadata": {},
   "source": [
    "## 1) Test DataSet 구축"
   ]
  },
  {
   "cell_type": "code",
   "execution_count": null,
   "id": "0ea1bb7d",
   "metadata": {
    "ExecuteTime": {
     "end_time": "2021-10-31T16:40:27.607917Z",
     "start_time": "2021-10-31T16:17:29.711Z"
    }
   },
   "outputs": [],
   "source": [
    "from tensorflow.keras import backend\n",
    "import tensorflow as tf\n",
    "import ssl\n",
    "import pickle\n",
    "ssl._create_default_https_context = ssl._create_unverified_context"
   ]
  },
  {
   "cell_type": "code",
   "execution_count": null,
   "id": "59ea797e",
   "metadata": {
    "ExecuteTime": {
     "end_time": "2021-10-31T16:40:27.608657Z",
     "start_time": "2021-10-31T16:17:29.714Z"
    }
   },
   "outputs": [],
   "source": [
    "class DATA():\n",
    "    def __init__(self, img_data) :\n",
    "\n",
    "        if backend.image_data_format() == 'channels_first':\n",
    "            n_ch, img_rows, img_cols = img_data.shape[1:]\n",
    "            input_shape = (1, img_rows, img_cols)\n",
    "        else:\n",
    "            img_rows, img_cols, n_ch = img_data.shape[1:]\n",
    "            input_shape = (img_rows, img_cols, 1)\n",
    "\n",
    "        img_data = img_data.astype('float32') / 255.0\n",
    "    \n",
    "        def RGB2Gray(img, fmt):\n",
    "            if fmt == 'channels_first':\n",
    "                R = img[:, 0:1]\n",
    "                G = img[:, 1:2]\n",
    "                B = img[:, 2:3]\n",
    "            else:\n",
    "                R = img[..., 0:1]\n",
    "                G = img[..., 1:2]\n",
    "                B = img[..., 2:3]\n",
    "            return 0.299 * R + 0.587 * G + 0.114 * B\n",
    "    \n",
    "        x = RGB2Gray(img_data, backend.image_data_format())\n",
    "        \n",
    "        self.input_shape = input_shape\n",
    "        self.x, self.y = x, img_data\n",
    "        self.n_ch = n_ch"
   ]
  },
  {
   "cell_type": "code",
   "execution_count": null,
   "id": "02e024dc",
   "metadata": {
    "ExecuteTime": {
     "end_time": "2021-10-31T16:40:27.609300Z",
     "start_time": "2021-10-31T16:17:29.717Z"
    }
   },
   "outputs": [],
   "source": [
    "def save_object_by_pickle(obj, file_path):\n",
    "    pickle.dump(obj, open(file_path, 'wb'), protocol=4)\n",
    "\n",
    "def load_object_by_pickle(pklfile):\n",
    "    return pickle.load(open(pklfile, 'rb'))"
   ]
  },
  {
   "cell_type": "code",
   "execution_count": null,
   "id": "208b88ad",
   "metadata": {
    "ExecuteTime": {
     "end_time": "2021-10-31T16:40:27.609741Z",
     "start_time": "2021-10-31T16:17:29.720Z"
    }
   },
   "outputs": [],
   "source": [
    "test_data_img_pixel_values_path = './data/UNET/img_5000/resize_128/test_data/img_pixel_values.pkl'"
   ]
  },
  {
   "cell_type": "code",
   "execution_count": null,
   "id": "31017e22",
   "metadata": {
    "ExecuteTime": {
     "end_time": "2021-10-31T16:40:27.610195Z",
     "start_time": "2021-10-31T16:17:29.722Z"
    }
   },
   "outputs": [],
   "source": [
    "test_img = load_object_by_pickle(test_data_img_pixel_values_path)"
   ]
  },
  {
   "cell_type": "code",
   "execution_count": null,
   "id": "5ab2310f",
   "metadata": {
    "ExecuteTime": {
     "end_time": "2021-10-31T16:40:27.610621Z",
     "start_time": "2021-10-31T16:17:29.725Z"
    }
   },
   "outputs": [],
   "source": [
    "data_test = DATA(test_img)\n",
    "print(data_test.input_shape, data_test.x.shape)"
   ]
  },
  {
   "cell_type": "code",
   "execution_count": null,
   "id": "d6c87dc7",
   "metadata": {
    "ExecuteTime": {
     "end_time": "2021-10-31T16:40:27.611058Z",
     "start_time": "2021-10-31T16:17:29.728Z"
    }
   },
   "outputs": [],
   "source": [
    "X_test = data_test.x\n",
    "Y_test_real = data_test.y"
   ]
  },
  {
   "cell_type": "markdown",
   "id": "dd30e65b",
   "metadata": {},
   "source": [
    "## 2) 학습된 모델 불러오기"
   ]
  },
  {
   "cell_type": "code",
   "execution_count": null,
   "id": "6aafb97e",
   "metadata": {
    "ExecuteTime": {
     "end_time": "2021-10-31T16:40:27.611512Z",
     "start_time": "2021-10-31T16:17:29.732Z"
    }
   },
   "outputs": [],
   "source": [
    "from tensorflow.keras.models import load_model"
   ]
  },
  {
   "cell_type": "code",
   "execution_count": null,
   "id": "1f0c008a",
   "metadata": {
    "ExecuteTime": {
     "end_time": "2021-10-31T16:40:27.611973Z",
     "start_time": "2021-10-31T16:17:29.735Z"
    }
   },
   "outputs": [],
   "source": [
    "model_path = './data/UNET/img_5000/resize_128/trained_model/unet_model-img_num_5000-resize_size_128-batch_size_8-20-0.0074-0.0098.h5'"
   ]
  },
  {
   "cell_type": "code",
   "execution_count": null,
   "id": "c96b7988",
   "metadata": {
    "ExecuteTime": {
     "end_time": "2021-10-31T16:40:27.612386Z",
     "start_time": "2021-10-31T16:17:29.738Z"
    }
   },
   "outputs": [],
   "source": [
    "trained_model  = load_model(model_path)"
   ]
  },
  {
   "cell_type": "markdown",
   "id": "97c20ac0",
   "metadata": {},
   "source": [
    "## 3) 예측 진행"
   ]
  },
  {
   "cell_type": "code",
   "execution_count": null,
   "id": "29d0f945",
   "metadata": {
    "ExecuteTime": {
     "end_time": "2021-10-31T16:40:27.612881Z",
     "start_time": "2021-10-31T16:17:29.742Z"
    }
   },
   "outputs": [],
   "source": [
    "Y_test_predicted = trained_model.predict(X_test)"
   ]
  },
  {
   "cell_type": "markdown",
   "id": "8a391993",
   "metadata": {},
   "source": [
    "## 4) 예측 결과 시각화"
   ]
  },
  {
   "cell_type": "code",
   "execution_count": null,
   "id": "e5a74bd9",
   "metadata": {
    "ExecuteTime": {
     "end_time": "2021-10-31T16:40:27.613295Z",
     "start_time": "2021-10-31T16:17:29.747Z"
    }
   },
   "outputs": [],
   "source": [
    "import matplotlib.pyplot as plt\n",
    "import numpy as np\n",
    "from sklearn.preprocessing import minmax_scale"
   ]
  },
  {
   "cell_type": "code",
   "execution_count": null,
   "id": "6c2865e1",
   "metadata": {
    "ExecuteTime": {
     "end_time": "2021-10-31T16:40:27.613779Z",
     "start_time": "2021-10-31T16:17:29.750Z"
    }
   },
   "outputs": [],
   "source": [
    "def show_images(x, y_real, y_predicted):\n",
    "    if backend.image_data_format() == 'channels_first':\n",
    "        print(y_real.shape)\n",
    "        y_real = y_real.swapaxes(1, 3).swapaxes(1, 2)\n",
    "        print(y_real.shape)\n",
    "        y_predicted = y_predicted.swapaxes(1, 3).swapaxes(1, 2)\n",
    "\n",
    "        x = x[:, 0, ...]\n",
    "\n",
    "    else:\n",
    "        x = x[..., 0]\n",
    "        \n",
    "    n = 10\n",
    "    plt.figure(figsize=(20, 6))\n",
    "    for i in range(n):\n",
    "\n",
    "        ax = plt.subplot(3, n, i + 1)\n",
    "        if x.ndim < 4:\n",
    "            plt.imshow(x[i], cmap='gray')\n",
    "        else:\n",
    "            plt.imshow(x[i])\n",
    "        ax.get_xaxis().set_visible(False)\n",
    "        ax.get_yaxis().set_visible(False)\n",
    "\n",
    "        ax = plt.subplot(3, n, i + 1 + n)\n",
    "        plt.imshow(y_predicted[i])\n",
    "        ax.get_xaxis().set_visible(False)\n",
    "        ax.get_yaxis().set_visible(False)\n",
    "\n",
    "        ax = plt.subplot(3, n, i + 1 + n * 2)\n",
    "        plt.imshow(y_real[i])\n",
    "        ax.get_xaxis().set_visible(False)\n",
    "        ax.get_yaxis().set_visible(False)\n",
    "\n",
    "    plt.show()"
   ]
  },
  {
   "cell_type": "code",
   "execution_count": null,
   "id": "473d9818",
   "metadata": {
    "ExecuteTime": {
     "end_time": "2021-10-31T16:40:27.614195Z",
     "start_time": "2021-10-31T16:17:29.753Z"
    }
   },
   "outputs": [],
   "source": [
    "show_images(X_test, Y_test_real, Y_test_predicted)"
   ]
  },
  {
   "cell_type": "markdown",
   "id": "c3fd4c90",
   "metadata": {},
   "source": [
    "## 4) 원본 크기와 이름 불러오기"
   ]
  },
  {
   "cell_type": "code",
   "execution_count": null,
   "id": "9684918b",
   "metadata": {
    "ExecuteTime": {
     "end_time": "2021-10-31T16:40:27.614647Z",
     "start_time": "2021-10-31T16:17:29.757Z"
    }
   },
   "outputs": [],
   "source": [
    "import glob\n",
    "import os\n",
    "from os import listdir, makedirs\n",
    "from os.path import isfile, join"
   ]
  },
  {
   "cell_type": "code",
   "execution_count": null,
   "id": "34aa4bfd",
   "metadata": {
    "ExecuteTime": {
     "end_time": "2021-10-31T16:40:27.615108Z",
     "start_time": "2021-10-31T16:17:29.761Z"
    }
   },
   "outputs": [],
   "source": [
    "test_data_original_img_path = './data/UNET/img_5000/resize_128/test_data/original_img'\n",
    "test_data_resized_img_path = './data/UNET/img_5000/resize_128/test_data/resized_img'\n",
    "test_data_img_name_list = list(filter(lambda f: isfile(join(test_data_original_img_path, f)), listdir(test_data_original_img_path)))"
   ]
  },
  {
   "cell_type": "code",
   "execution_count": null,
   "id": "47f2008a",
   "metadata": {
    "ExecuteTime": {
     "end_time": "2021-10-31T16:40:27.615564Z",
     "start_time": "2021-10-31T16:17:29.764Z"
    }
   },
   "outputs": [],
   "source": [
    "test_data_original_img_size_path = './data/UNET/img_5000/resize_128/test_data/original_img_size.pkl'\n",
    "test_data_original_img_size = load_object_by_pickle(test_data_original_img_size_path)"
   ]
  },
  {
   "cell_type": "markdown",
   "id": "dfbfba39",
   "metadata": {},
   "source": [
    "## 5) 예측된 이미지 size 복원 후 저장"
   ]
  },
  {
   "cell_type": "code",
   "execution_count": null,
   "id": "388a5148",
   "metadata": {
    "ExecuteTime": {
     "end_time": "2021-10-31T16:40:27.616046Z",
     "start_time": "2021-10-31T16:17:29.767Z"
    }
   },
   "outputs": [],
   "source": [
    "import cv2\n",
    "import time\n",
    "from IPython.display import clear_output"
   ]
  },
  {
   "cell_type": "code",
   "execution_count": null,
   "id": "e8010a85",
   "metadata": {
    "ExecuteTime": {
     "end_time": "2021-10-31T16:40:27.616513Z",
     "start_time": "2021-10-31T16:17:29.770Z"
    }
   },
   "outputs": [],
   "source": [
    "def resize_and_save_restored_img(img_name_list, decoded_imgs, original_img_size, restored_img_path) :\n",
    "    start = time.time()\n",
    "    \n",
    "    for i in range(len(img_name_list)) :\n",
    "\n",
    "        clear_output(wait=True)\n",
    "\n",
    "        restored_img_name = img_name_list[i]\n",
    "\n",
    "        try:\n",
    "            resized_restored_img = cv2.resize(decoded_imgs[i], dsize = original_img_size[i], interpolation = cv2.INTER_CUBIC)\n",
    "            resized_restored_img = resized_restored_img*255.0\n",
    "            resized_restored_img = resized_restored_img.astype('int64')\n",
    "            cv2.imwrite(os.path.join(restored_img_path, restored_img_name), resized_restored_img)\n",
    "\n",
    "        except:\n",
    "            print('{}가 변환되지 않았습니다.'.format(restored_img_name))\n",
    "\n",
    "        i += 1\n",
    "        print('진행 상황 : ', i,'/',len(img_name_list))\n",
    "        print('진행 시간 : ', round((time.time() - start), 2))\n",
    "\n",
    "    print('총 걸린 시간 : ', round((time.time() - start),2), '초')"
   ]
  },
  {
   "cell_type": "code",
   "execution_count": null,
   "id": "f2ee7fe3",
   "metadata": {
    "ExecuteTime": {
     "end_time": "2021-10-31T16:40:27.616975Z",
     "start_time": "2021-10-31T16:17:29.773Z"
    }
   },
   "outputs": [],
   "source": [
    "def load_object_by_pickle(pklfile):\n",
    "    return pickle.load(open(pklfile, 'rb'))"
   ]
  },
  {
   "cell_type": "code",
   "execution_count": null,
   "id": "5a584a16",
   "metadata": {
    "ExecuteTime": {
     "end_time": "2021-10-31T16:40:27.617428Z",
     "start_time": "2021-10-31T16:17:29.776Z"
    }
   },
   "outputs": [],
   "source": [
    "def createDirectory(directory):\n",
    "    try:\n",
    "        if not os.path.exists(directory):\n",
    "            os.makedirs(directory)\n",
    "    except OSError:\n",
    "        print(\"Error: Failed to create the directory.\")"
   ]
  },
  {
   "cell_type": "code",
   "execution_count": null,
   "id": "5815689d",
   "metadata": {
    "ExecuteTime": {
     "end_time": "2021-10-31T16:40:27.617875Z",
     "start_time": "2021-10-31T16:17:29.780Z"
    }
   },
   "outputs": [],
   "source": [
    "restored_img_path = './data/UNET/img_5000/resize_128/test_data/restored_img'"
   ]
  },
  {
   "cell_type": "code",
   "execution_count": null,
   "id": "7080d4f2",
   "metadata": {
    "ExecuteTime": {
     "end_time": "2021-10-31T16:40:27.618287Z",
     "start_time": "2021-10-31T16:17:29.783Z"
    }
   },
   "outputs": [],
   "source": [
    "createDirectory(restored_img_path)"
   ]
  },
  {
   "cell_type": "code",
   "execution_count": null,
   "id": "09025ec3",
   "metadata": {
    "ExecuteTime": {
     "end_time": "2021-10-31T16:40:27.618709Z",
     "start_time": "2021-10-31T16:17:29.785Z"
    }
   },
   "outputs": [],
   "source": [
    "resize_and_save_restored_img(test_data_img_name_list, Y_test_predicted, test_data_original_img_size, restored_img_path)"
   ]
  },
  {
   "cell_type": "code",
   "execution_count": null,
   "id": "a19b20f6",
   "metadata": {},
   "outputs": [],
   "source": []
  },
  {
   "cell_type": "code",
   "execution_count": null,
   "id": "8d1dca42",
   "metadata": {},
   "outputs": [],
   "source": []
  },
  {
   "cell_type": "code",
   "execution_count": null,
   "id": "2d0b57c5",
   "metadata": {},
   "outputs": [],
   "source": []
  }
 ],
 "metadata": {
  "kernelspec": {
   "display_name": "Python 3",
   "language": "python",
   "name": "python3"
  },
  "language_info": {
   "codemirror_mode": {
    "name": "ipython",
    "version": 3
   },
   "file_extension": ".py",
   "mimetype": "text/x-python",
   "name": "python",
   "nbconvert_exporter": "python",
   "pygments_lexer": "ipython3",
   "version": "3.8.10"
  },
  "toc": {
   "base_numbering": 1,
   "nav_menu": {},
   "number_sections": false,
   "sideBar": true,
   "skip_h1_title": false,
   "title_cell": "Table of Contents",
   "title_sidebar": "Contents",
   "toc_cell": false,
   "toc_position": {},
   "toc_section_display": true,
   "toc_window_display": false
  }
 },
 "nbformat": 4,
 "nbformat_minor": 5
}
