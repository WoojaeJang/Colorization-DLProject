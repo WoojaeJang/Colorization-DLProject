{
 "cells": [
  {
   "cell_type": "markdown",
   "id": "5aa01ca4",
   "metadata": {},
   "source": [
    "https://sensibilityit.tistory.com/511\n",
    "https://towardsdatascience.com/custom-dataset-in-pytorch-part-1-images-2df3152895\n",
    "https://tutorials.pytorch.kr/beginner/data_loading_tutorial.html\n",
    "https://blog.naver.com/PostView.nhn?blogId=reisei11&logNo=221733757476&redirect=Dlog&widgetTypeCall=true&directAccess=false"
   ]
  },
  {
   "cell_type": "markdown",
   "id": "c6df578c",
   "metadata": {},
   "source": [
    "# 0. GPU 확인"
   ]
  },
  {
   "cell_type": "code",
   "execution_count": 1,
   "id": "56bf3dc7",
   "metadata": {
    "scrolled": true
   },
   "outputs": [
    {
     "data": {
      "text/plain": [
       "[name: \"/device:CPU:0\"\n",
       " device_type: \"CPU\"\n",
       " memory_limit: 268435456\n",
       " locality {\n",
       " }\n",
       " incarnation: 10867110670321339997\n",
       " xla_global_id: -1,\n",
       " name: \"/device:GPU:0\"\n",
       " device_type: \"GPU\"\n",
       " memory_limit: 6267797504\n",
       " locality {\n",
       "   bus_id: 1\n",
       "   links {\n",
       "   }\n",
       " }\n",
       " incarnation: 13786918249509006182\n",
       " physical_device_desc: \"device: 0, name: NVIDIA GeForce RTX 2070 SUPER, pci bus id: 0000:01:00.0, compute capability: 7.5\"\n",
       " xla_global_id: 416903419]"
      ]
     },
     "execution_count": 1,
     "metadata": {},
     "output_type": "execute_result"
    }
   ],
   "source": [
    "from tensorflow.python.client import device_lib\n",
    "device_lib.list_local_devices()"
   ]
  },
  {
   "cell_type": "code",
   "execution_count": null,
   "id": "63e5746f",
   "metadata": {},
   "outputs": [],
   "source": []
  },
  {
   "cell_type": "code",
   "execution_count": null,
   "id": "7f9c9333",
   "metadata": {},
   "outputs": [],
   "source": []
  },
  {
   "cell_type": "code",
   "execution_count": null,
   "id": "93846e35",
   "metadata": {},
   "outputs": [],
   "source": []
  },
  {
   "cell_type": "markdown",
   "id": "e1190980",
   "metadata": {},
   "source": [
    "# 1. Create Dataset"
   ]
  },
  {
   "cell_type": "code",
   "execution_count": 2,
   "id": "bf27bfd2",
   "metadata": {},
   "outputs": [],
   "source": [
    "from torch.utils.data import Dataset, DataLoader\n",
    "import torchvision.transforms as transforms\n",
    "import os\n",
    "import glob\n",
    "import random\n",
    "import cv2\n",
    "import numpy as np"
   ]
  },
  {
   "cell_type": "markdown",
   "id": "9dd41590",
   "metadata": {},
   "source": [
    "## 1.1. data path"
   ]
  },
  {
   "cell_type": "markdown",
   "id": "68386696",
   "metadata": {},
   "source": [
    "./data/sample_data  \n",
    "./../../../../train_data"
   ]
  },
  {
   "cell_type": "code",
   "execution_count": 3,
   "id": "71833ae6",
   "metadata": {},
   "outputs": [
    {
     "data": {
      "text/plain": [
       "['./data/train_data\\\\n01440764_10026.JPEG',\n",
       " './data/train_data\\\\n01440764_10027.JPEG',\n",
       " './data/train_data\\\\n01440764_10029.JPEG',\n",
       " './data/train_data\\\\n01440764_10040.JPEG',\n",
       " './data/train_data\\\\n01440764_10042.JPEG',\n",
       " './data/train_data\\\\n01440764_10043.JPEG',\n",
       " './data/train_data\\\\n01440764_10048.JPEG',\n",
       " './data/train_data\\\\n01440764_10066.JPEG',\n",
       " './data/train_data\\\\n01440764_10074.JPEG',\n",
       " './data/train_data\\\\n01440764_1009.JPEG',\n",
       " './data/train_data\\\\n01440764_10095.JPEG',\n",
       " './data/train_data\\\\n01440764_10108.JPEG',\n",
       " './data/train_data\\\\n01440764_10110.JPEG',\n",
       " './data/train_data\\\\n01440764_10120.JPEG',\n",
       " './data/train_data\\\\n01440764_10124.JPEG',\n",
       " './data/train_data\\\\n01440764_10150.JPEG',\n",
       " './data/train_data\\\\n01440764_10159.JPEG',\n",
       " './data/train_data\\\\n01440764_10162.JPEG',\n",
       " './data/train_data\\\\n01440764_10183.JPEG',\n",
       " './data/train_data\\\\n01440764_10194.JPEG',\n",
       " './data/train_data\\\\n01440764_10211.JPEG',\n",
       " './data/train_data\\\\n01440764_10218.JPEG',\n",
       " './data/train_data\\\\n01440764_10227.JPEG',\n",
       " './data/train_data\\\\n01440764_1024.JPEG',\n",
       " './data/train_data\\\\n01440764_10251.JPEG',\n",
       " './data/train_data\\\\n01440764_10254.JPEG',\n",
       " './data/train_data\\\\n01440764_10281.JPEG',\n",
       " './data/train_data\\\\n01440764_10290.JPEG',\n",
       " './data/train_data\\\\n01440764_10293.JPEG',\n",
       " './data/train_data\\\\n01440764_10307.JPEG',\n",
       " './data/train_data\\\\n01440764_10317.JPEG',\n",
       " './data/train_data\\\\n01440764_10319.JPEG',\n",
       " './data/train_data\\\\n01440764_10320.JPEG',\n",
       " './data/train_data\\\\n01440764_10323.JPEG',\n",
       " './data/train_data\\\\n01440764_10331.JPEG',\n",
       " './data/train_data\\\\n01440764_10342.JPEG',\n",
       " './data/train_data\\\\n01440764_10361.JPEG',\n",
       " './data/train_data\\\\n01440764_10365.JPEG',\n",
       " './data/train_data\\\\n01440764_10373.JPEG',\n",
       " './data/train_data\\\\n01440764_10380.JPEG',\n",
       " './data/train_data\\\\n01440764_10382.JPEG',\n",
       " './data/train_data\\\\n01440764_10398.JPEG',\n",
       " './data/train_data\\\\n01440764_10410.JPEG',\n",
       " './data/train_data\\\\n01440764_10427.JPEG',\n",
       " './data/train_data\\\\n01440764_10444.JPEG',\n",
       " './data/train_data\\\\n01440764_10449.JPEG',\n",
       " './data/train_data\\\\n01440764_10462.JPEG',\n",
       " './data/train_data\\\\n01440764_10464.JPEG',\n",
       " './data/train_data\\\\n01440764_10470.JPEG',\n",
       " './data/train_data\\\\n01440764_10482.JPEG',\n",
       " './data/train_data\\\\n01440764_10491.JPEG',\n",
       " './data/train_data\\\\n01440764_105.JPEG',\n",
       " './data/train_data\\\\n01440764_10514.JPEG',\n",
       " './data/train_data\\\\n01440764_10529.JPEG',\n",
       " './data/train_data\\\\n01440764_10531.JPEG',\n",
       " './data/train_data\\\\n01440764_10534.JPEG',\n",
       " './data/train_data\\\\n01440764_10542.JPEG',\n",
       " './data/train_data\\\\n01440764_10543.JPEG',\n",
       " './data/train_data\\\\n01440764_10548.JPEG',\n",
       " './data/train_data\\\\n01440764_10550.JPEG',\n",
       " './data/train_data\\\\n01440764_10555.JPEG',\n",
       " './data/train_data\\\\n01440764_10569.JPEG',\n",
       " './data/train_data\\\\n01440764_10587.JPEG',\n",
       " './data/train_data\\\\n01440764_10592.JPEG',\n",
       " './data/train_data\\\\n01440764_10604.JPEG',\n",
       " './data/train_data\\\\n01440764_10619.JPEG',\n",
       " './data/train_data\\\\n01440764_1063.JPEG',\n",
       " './data/train_data\\\\n01440764_10649.JPEG',\n",
       " './data/train_data\\\\n01440764_10667.JPEG',\n",
       " './data/train_data\\\\n01440764_10698.JPEG',\n",
       " './data/train_data\\\\n01440764_107.JPEG',\n",
       " './data/train_data\\\\n01440764_10716.JPEG',\n",
       " './data/train_data\\\\n01440764_10726.JPEG',\n",
       " './data/train_data\\\\n01440764_10733.JPEG',\n",
       " './data/train_data\\\\n01440764_10738.JPEG',\n",
       " './data/train_data\\\\n01440764_10740.JPEG',\n",
       " './data/train_data\\\\n01440764_10744.JPEG',\n",
       " './data/train_data\\\\n01440764_10756.JPEG',\n",
       " './data/train_data\\\\n01440764_10779.JPEG',\n",
       " './data/train_data\\\\n01440764_10783.JPEG',\n",
       " './data/train_data\\\\n01440764_10787.JPEG',\n",
       " './data/train_data\\\\n01440764_10792.JPEG',\n",
       " './data/train_data\\\\n01440764_10812.JPEG',\n",
       " './data/train_data\\\\n01440764_10822.JPEG',\n",
       " './data/train_data\\\\n01440764_10845.JPEG',\n",
       " './data/train_data\\\\n01440764_10847.JPEG',\n",
       " './data/train_data\\\\n01440764_10852.JPEG',\n",
       " './data/train_data\\\\n01440764_10878.JPEG',\n",
       " './data/train_data\\\\n01440764_1091.JPEG',\n",
       " './data/train_data\\\\n01440764_10910.JPEG',\n",
       " './data/train_data\\\\n01440764_10969.JPEG',\n",
       " './data/train_data\\\\n01440764_10979.JPEG',\n",
       " './data/train_data\\\\n01440764_10995.JPEG',\n",
       " './data/train_data\\\\n01440764_11011.JPEG',\n",
       " './data/train_data\\\\n01440764_11018.JPEG',\n",
       " './data/train_data\\\\n01440764_11044.JPEG',\n",
       " './data/train_data\\\\n01440764_11063.JPEG',\n",
       " './data/train_data\\\\n01440764_1108.JPEG',\n",
       " './data/train_data\\\\n01440764_11085.JPEG',\n",
       " './data/train_data\\\\n01440764_1113.JPEG',\n",
       " './data/train_data\\\\n01440764_11145.JPEG',\n",
       " './data/train_data\\\\n01440764_11151.JPEG',\n",
       " './data/train_data\\\\n01440764_11155.JPEG',\n",
       " './data/train_data\\\\n01440764_11170.JPEG',\n",
       " './data/train_data\\\\n01440764_11190.JPEG',\n",
       " './data/train_data\\\\n01440764_11211.JPEG',\n",
       " './data/train_data\\\\n01440764_11213.JPEG',\n",
       " './data/train_data\\\\n01440764_11225.JPEG',\n",
       " './data/train_data\\\\n01440764_11281.JPEG',\n",
       " './data/train_data\\\\n01440764_11314.JPEG',\n",
       " './data/train_data\\\\n01440764_11331.JPEG',\n",
       " './data/train_data\\\\n01440764_11335.JPEG',\n",
       " './data/train_data\\\\n01440764_11339.JPEG',\n",
       " './data/train_data\\\\n01440764_11346.JPEG',\n",
       " './data/train_data\\\\n01440764_1135.JPEG',\n",
       " './data/train_data\\\\n01440764_11350.JPEG',\n",
       " './data/train_data\\\\n01440764_11396.JPEG',\n",
       " './data/train_data\\\\n01440764_11400.JPEG',\n",
       " './data/train_data\\\\n01440764_1141.JPEG',\n",
       " './data/train_data\\\\n01440764_11420.JPEG',\n",
       " './data/train_data\\\\n01440764_11424.JPEG',\n",
       " './data/train_data\\\\n01440764_11444.JPEG',\n",
       " './data/train_data\\\\n01440764_1145.JPEG',\n",
       " './data/train_data\\\\n01440764_11469.JPEG',\n",
       " './data/train_data\\\\n01440764_11486.JPEG',\n",
       " './data/train_data\\\\n01440764_11507.JPEG',\n",
       " './data/train_data\\\\n01440764_11534.JPEG',\n",
       " './data/train_data\\\\n01440764_11537.JPEG',\n",
       " './data/train_data\\\\n01440764_1154.JPEG',\n",
       " './data/train_data\\\\n01440764_11547.JPEG',\n",
       " './data/train_data\\\\n01440764_1155.JPEG',\n",
       " './data/train_data\\\\n01440764_11566.JPEG',\n",
       " './data/train_data\\\\n01440764_11570.JPEG',\n",
       " './data/train_data\\\\n01440764_11586.JPEG',\n",
       " './data/train_data\\\\n01440764_11588.JPEG',\n",
       " './data/train_data\\\\n01440764_11590.JPEG',\n",
       " './data/train_data\\\\n01440764_11593.JPEG',\n",
       " './data/train_data\\\\n01440764_11602.JPEG',\n",
       " './data/train_data\\\\n01440764_11607.JPEG',\n",
       " './data/train_data\\\\n01440764_11609.JPEG',\n",
       " './data/train_data\\\\n01440764_11612.JPEG',\n",
       " './data/train_data\\\\n01440764_11626.JPEG',\n",
       " './data/train_data\\\\n01440764_11636.JPEG',\n",
       " './data/train_data\\\\n01440764_11650.JPEG',\n",
       " './data/train_data\\\\n01440764_11652.JPEG',\n",
       " './data/train_data\\\\n01440764_11656.JPEG',\n",
       " './data/train_data\\\\n01440764_11665.JPEG',\n",
       " './data/train_data\\\\n01440764_11667.JPEG',\n",
       " './data/train_data\\\\n01440764_11668.JPEG',\n",
       " './data/train_data\\\\n01440764_11673.JPEG',\n",
       " './data/train_data\\\\n01440764_11677.JPEG',\n",
       " './data/train_data\\\\n01440764_11679.JPEG',\n",
       " './data/train_data\\\\n01440764_11723.JPEG',\n",
       " './data/train_data\\\\n01440764_11726.JPEG',\n",
       " './data/train_data\\\\n01440764_11734.JPEG',\n",
       " './data/train_data\\\\n01440764_11736.JPEG',\n",
       " './data/train_data\\\\n01440764_11745.JPEG',\n",
       " './data/train_data\\\\n01440764_11750.JPEG',\n",
       " './data/train_data\\\\n01440764_11762.JPEG',\n",
       " './data/train_data\\\\n01440764_11787.JPEG',\n",
       " './data/train_data\\\\n01440764_11797.JPEG',\n",
       " './data/train_data\\\\n01440764_11807.JPEG',\n",
       " './data/train_data\\\\n01440764_11816.JPEG',\n",
       " './data/train_data\\\\n01440764_11825.JPEG',\n",
       " './data/train_data\\\\n01440764_11830.JPEG',\n",
       " './data/train_data\\\\n01440764_11838.JPEG',\n",
       " './data/train_data\\\\n01440764_11841.JPEG',\n",
       " './data/train_data\\\\n01440764_1185.JPEG',\n",
       " './data/train_data\\\\n01440764_11881.JPEG',\n",
       " './data/train_data\\\\n01440764_11887.JPEG',\n",
       " './data/train_data\\\\n01440764_11897.JPEG',\n",
       " './data/train_data\\\\n01440764_11905.JPEG',\n",
       " './data/train_data\\\\n01440764_11914.JPEG',\n",
       " './data/train_data\\\\n01440764_11930.JPEG',\n",
       " './data/train_data\\\\n01440764_11972.JPEG',\n",
       " './data/train_data\\\\n01440764_11974.JPEG',\n",
       " './data/train_data\\\\n01440764_11987.JPEG',\n",
       " './data/train_data\\\\n01440764_12021.JPEG',\n",
       " './data/train_data\\\\n01440764_12023.JPEG',\n",
       " './data/train_data\\\\n01440764_12037.JPEG',\n",
       " './data/train_data\\\\n01440764_12040.JPEG',\n",
       " './data/train_data\\\\n01440764_12063.JPEG',\n",
       " './data/train_data\\\\n01440764_12069.JPEG',\n",
       " './data/train_data\\\\n01440764_12077.JPEG',\n",
       " './data/train_data\\\\n01440764_12090.JPEG',\n",
       " './data/train_data\\\\n01440764_12100.JPEG',\n",
       " './data/train_data\\\\n01440764_12111.JPEG',\n",
       " './data/train_data\\\\n01440764_12129.JPEG',\n",
       " './data/train_data\\\\n01440764_12131.JPEG',\n",
       " './data/train_data\\\\n01440764_12151.JPEG',\n",
       " './data/train_data\\\\n01440764_12157.JPEG',\n",
       " './data/train_data\\\\n01440764_12178.JPEG',\n",
       " './data/train_data\\\\n01440764_12182.JPEG',\n",
       " './data/train_data\\\\n01440764_12188.JPEG',\n",
       " './data/train_data\\\\n01440764_12204.JPEG',\n",
       " './data/train_data\\\\n01440764_12208.JPEG',\n",
       " './data/train_data\\\\n01440764_12211.JPEG',\n",
       " './data/train_data\\\\n01440764_12239.JPEG',\n",
       " './data/train_data\\\\n01440764_12241.JPEG',\n",
       " './data/train_data\\\\n01440764_12250.JPEG',\n",
       " './data/train_data\\\\n01440764_12255.JPEG',\n",
       " './data/train_data\\\\n01440764_12276.JPEG',\n",
       " './data/train_data\\\\n01440764_12279.JPEG',\n",
       " './data/train_data\\\\n01440764_12283.JPEG',\n",
       " './data/train_data\\\\n01440764_12289.JPEG',\n",
       " './data/train_data\\\\n01440764_12291.JPEG',\n",
       " './data/train_data\\\\n01440764_12293.JPEG',\n",
       " './data/train_data\\\\n01440764_12308.JPEG',\n",
       " './data/train_data\\\\n01440764_12314.JPEG',\n",
       " './data/train_data\\\\n01440764_1232.JPEG',\n",
       " './data/train_data\\\\n01440764_12329.JPEG',\n",
       " './data/train_data\\\\n01440764_12339.JPEG',\n",
       " './data/train_data\\\\n01440764_12362.JPEG',\n",
       " './data/train_data\\\\n01440764_12384.JPEG',\n",
       " './data/train_data\\\\n01440764_12388.JPEG',\n",
       " './data/train_data\\\\n01440764_12405.JPEG',\n",
       " './data/train_data\\\\n01440764_12423.JPEG',\n",
       " './data/train_data\\\\n01440764_12433.JPEG',\n",
       " './data/train_data\\\\n01440764_12435.JPEG',\n",
       " './data/train_data\\\\n01440764_1244.JPEG',\n",
       " './data/train_data\\\\n01440764_12446.JPEG',\n",
       " './data/train_data\\\\n01440764_1245.JPEG',\n",
       " './data/train_data\\\\n01440764_12468.JPEG',\n",
       " './data/train_data\\\\n01440764_12494.JPEG',\n",
       " './data/train_data\\\\n01440764_12498.JPEG',\n",
       " './data/train_data\\\\n01440764_12502.JPEG',\n",
       " './data/train_data\\\\n01440764_12523.JPEG',\n",
       " './data/train_data\\\\n01440764_12534.JPEG',\n",
       " './data/train_data\\\\n01440764_12548.JPEG',\n",
       " './data/train_data\\\\n01440764_12554.JPEG',\n",
       " './data/train_data\\\\n01440764_12557.JPEG',\n",
       " './data/train_data\\\\n01440764_12571.JPEG',\n",
       " './data/train_data\\\\n01440764_12572.JPEG',\n",
       " './data/train_data\\\\n01440764_12573.JPEG',\n",
       " './data/train_data\\\\n01440764_12586.JPEG',\n",
       " './data/train_data\\\\n01440764_12595.JPEG',\n",
       " './data/train_data\\\\n01440764_12619.JPEG',\n",
       " './data/train_data\\\\n01440764_12620.JPEG',\n",
       " './data/train_data\\\\n01440764_1263.JPEG',\n",
       " './data/train_data\\\\n01440764_12632.JPEG',\n",
       " './data/train_data\\\\n01440764_12635.JPEG',\n",
       " './data/train_data\\\\n01440764_12659.JPEG',\n",
       " './data/train_data\\\\n01440764_12689.JPEG',\n",
       " './data/train_data\\\\n01440764_12702.JPEG',\n",
       " './data/train_data\\\\n01440764_12708.JPEG',\n",
       " './data/train_data\\\\n01440764_1272.JPEG',\n",
       " './data/train_data\\\\n01440764_12732.JPEG',\n",
       " './data/train_data\\\\n01440764_1278.JPEG',\n",
       " './data/train_data\\\\n01440764_12785.JPEG',\n",
       " './data/train_data\\\\n01440764_12817.JPEG',\n",
       " './data/train_data\\\\n01440764_1284.JPEG',\n",
       " './data/train_data\\\\n01440764_12848.JPEG',\n",
       " './data/train_data\\\\n01440764_12881.JPEG',\n",
       " './data/train_data\\\\n01440764_12889.JPEG',\n",
       " './data/train_data\\\\n01440764_12898.JPEG',\n",
       " './data/train_data\\\\n01440764_12917.JPEG',\n",
       " './data/train_data\\\\n01440764_12925.JPEG',\n",
       " './data/train_data\\\\n01440764_12950.JPEG',\n",
       " './data/train_data\\\\n01440764_12957.JPEG',\n",
       " './data/train_data\\\\n01440764_12971.JPEG',\n",
       " './data/train_data\\\\n01440764_12972.JPEG',\n",
       " './data/train_data\\\\n01440764_12996.JPEG',\n",
       " './data/train_data\\\\n01440764_13009.JPEG',\n",
       " './data/train_data\\\\n01440764_1302.JPEG',\n",
       " './data/train_data\\\\n01440764_13035.JPEG',\n",
       " './data/train_data\\\\n01440764_13051.JPEG',\n",
       " './data/train_data\\\\n01440764_13059.JPEG',\n",
       " './data/train_data\\\\n01440764_13068.JPEG',\n",
       " './data/train_data\\\\n01440764_1310.JPEG',\n",
       " './data/train_data\\\\n01440764_13116.JPEG',\n",
       " './data/train_data\\\\n01440764_13122.JPEG',\n",
       " './data/train_data\\\\n01440764_1313.JPEG',\n",
       " './data/train_data\\\\n01440764_13133.JPEG',\n",
       " './data/train_data\\\\n01440764_13138.JPEG',\n",
       " './data/train_data\\\\n01440764_13144.JPEG',\n",
       " './data/train_data\\\\n01440764_13161.JPEG',\n",
       " './data/train_data\\\\n01440764_13183.JPEG',\n",
       " './data/train_data\\\\n01440764_13208.JPEG',\n",
       " './data/train_data\\\\n01440764_13251.JPEG',\n",
       " './data/train_data\\\\n01440764_13255.JPEG',\n",
       " './data/train_data\\\\n01440764_13257.JPEG',\n",
       " './data/train_data\\\\n01440764_13274.JPEG',\n",
       " './data/train_data\\\\n01440764_13275.JPEG',\n",
       " './data/train_data\\\\n01440764_13304.JPEG',\n",
       " './data/train_data\\\\n01440764_13316.JPEG',\n",
       " './data/train_data\\\\n01440764_13344.JPEG',\n",
       " './data/train_data\\\\n01440764_1336.JPEG',\n",
       " './data/train_data\\\\n01440764_13360.JPEG',\n",
       " './data/train_data\\\\n01440764_13363.JPEG',\n",
       " './data/train_data\\\\n01440764_13368.JPEG',\n",
       " './data/train_data\\\\n01440764_1337.JPEG',\n",
       " './data/train_data\\\\n01440764_13375.JPEG',\n",
       " './data/train_data\\\\n01440764_13397.JPEG',\n",
       " './data/train_data\\\\n01440764_13415.JPEG',\n",
       " './data/train_data\\\\n01440764_13436.JPEG',\n",
       " './data/train_data\\\\n01440764_13452.JPEG',\n",
       " './data/train_data\\\\n01440764_13464.JPEG',\n",
       " './data/train_data\\\\n01440764_13468.JPEG',\n",
       " './data/train_data\\\\n01440764_13489.JPEG',\n",
       " './data/train_data\\\\n01440764_13495.JPEG',\n",
       " './data/train_data\\\\n01440764_13545.JPEG',\n",
       " './data/train_data\\\\n01440764_13575.JPEG',\n",
       " './data/train_data\\\\n01440764_13581.JPEG',\n",
       " './data/train_data\\\\n01440764_13602.JPEG',\n",
       " './data/train_data\\\\n01440764_13625.JPEG',\n",
       " './data/train_data\\\\n01440764_13643.JPEG',\n",
       " './data/train_data\\\\n01440764_13654.JPEG',\n",
       " './data/train_data\\\\n01440764_13679.JPEG',\n",
       " './data/train_data\\\\n01440764_13694.JPEG',\n",
       " './data/train_data\\\\n01440764_137.JPEG',\n",
       " './data/train_data\\\\n01440764_13702.JPEG',\n",
       " './data/train_data\\\\n01440764_13739.JPEG',\n",
       " './data/train_data\\\\n01440764_13744.JPEG',\n",
       " './data/train_data\\\\n01440764_13749.JPEG',\n",
       " './data/train_data\\\\n01440764_13751.JPEG',\n",
       " './data/train_data\\\\n01440764_13757.JPEG',\n",
       " './data/train_data\\\\n01440764_13766.JPEG',\n",
       " './data/train_data\\\\n01440764_13770.JPEG',\n",
       " './data/train_data\\\\n01440764_1379.JPEG',\n",
       " './data/train_data\\\\n01440764_13797.JPEG',\n",
       " './data/train_data\\\\n01440764_13801.JPEG',\n",
       " './data/train_data\\\\n01440764_13806.JPEG',\n",
       " './data/train_data\\\\n01440764_13821.JPEG',\n",
       " './data/train_data\\\\n01440764_13828.JPEG',\n",
       " './data/train_data\\\\n01440764_1383.JPEG',\n",
       " './data/train_data\\\\n01440764_13842.JPEG',\n",
       " './data/train_data\\\\n01440764_13855.JPEG',\n",
       " './data/train_data\\\\n01440764_13860.JPEG',\n",
       " './data/train_data\\\\n01440764_13895.JPEG',\n",
       " './data/train_data\\\\n01440764_13905.JPEG',\n",
       " './data/train_data\\\\n01440764_13935.JPEG',\n",
       " './data/train_data\\\\n01440764_13947.JPEG',\n",
       " './data/train_data\\\\n01440764_13956.JPEG',\n",
       " './data/train_data\\\\n01440764_13966.JPEG',\n",
       " './data/train_data\\\\n01440764_13974.JPEG',\n",
       " './data/train_data\\\\n01440764_13978.JPEG',\n",
       " './data/train_data\\\\n01440764_13989.JPEG',\n",
       " './data/train_data\\\\n01440764_13993.JPEG',\n",
       " './data/train_data\\\\n01440764_14005.JPEG',\n",
       " './data/train_data\\\\n01440764_14025.JPEG',\n",
       " './data/train_data\\\\n01440764_14027.JPEG',\n",
       " './data/train_data\\\\n01440764_14034.JPEG',\n",
       " './data/train_data\\\\n01440764_14053.JPEG',\n",
       " './data/train_data\\\\n01440764_14074.JPEG',\n",
       " './data/train_data\\\\n01440764_14098.JPEG',\n",
       " './data/train_data\\\\n01440764_141.JPEG',\n",
       " './data/train_data\\\\n01440764_14150.JPEG',\n",
       " './data/train_data\\\\n01440764_14162.JPEG',\n",
       " './data/train_data\\\\n01440764_14169.JPEG',\n",
       " './data/train_data\\\\n01440764_14172.JPEG',\n",
       " './data/train_data\\\\n01440764_14176.JPEG',\n",
       " './data/train_data\\\\n01440764_14190.JPEG',\n",
       " './data/train_data\\\\n01440764_14232.JPEG',\n",
       " './data/train_data\\\\n01440764_14233.JPEG',\n",
       " './data/train_data\\\\n01440764_14249.JPEG',\n",
       " './data/train_data\\\\n01440764_14274.JPEG',\n",
       " './data/train_data\\\\n01440764_14280.JPEG',\n",
       " './data/train_data\\\\n01440764_14286.JPEG',\n",
       " './data/train_data\\\\n01440764_14294.JPEG',\n",
       " './data/train_data\\\\n01440764_14310.JPEG',\n",
       " './data/train_data\\\\n01440764_14339.JPEG',\n",
       " './data/train_data\\\\n01440764_14341.JPEG',\n",
       " './data/train_data\\\\n01440764_14342.JPEG',\n",
       " './data/train_data\\\\n01440764_14383.JPEG',\n",
       " './data/train_data\\\\n01440764_14402.JPEG',\n",
       " './data/train_data\\\\n01440764_14405.JPEG',\n",
       " './data/train_data\\\\n01440764_14411.JPEG',\n",
       " './data/train_data\\\\n01440764_14435.JPEG',\n",
       " './data/train_data\\\\n01440764_14448.JPEG',\n",
       " './data/train_data\\\\n01440764_14489.JPEG',\n",
       " './data/train_data\\\\n01440764_14490.JPEG',\n",
       " './data/train_data\\\\n01440764_14506.JPEG',\n",
       " './data/train_data\\\\n01440764_14524.JPEG',\n",
       " './data/train_data\\\\n01440764_14530.JPEG',\n",
       " './data/train_data\\\\n01440764_14549.JPEG',\n",
       " './data/train_data\\\\n01440764_14555.JPEG',\n",
       " './data/train_data\\\\n01440764_14559.JPEG',\n",
       " './data/train_data\\\\n01440764_14609.JPEG',\n",
       " './data/train_data\\\\n01440764_14624.JPEG',\n",
       " './data/train_data\\\\n01440764_14633.JPEG',\n",
       " './data/train_data\\\\n01440764_14634.JPEG',\n",
       " './data/train_data\\\\n01440764_14639.JPEG',\n",
       " './data/train_data\\\\n01440764_14650.JPEG',\n",
       " './data/train_data\\\\n01440764_14685.JPEG',\n",
       " './data/train_data\\\\n01440764_1469.JPEG',\n",
       " './data/train_data\\\\n01440764_14731.JPEG',\n",
       " './data/train_data\\\\n01440764_14771.JPEG',\n",
       " './data/train_data\\\\n01440764_14779.JPEG',\n",
       " './data/train_data\\\\n01440764_1478.JPEG',\n",
       " './data/train_data\\\\n01440764_14790.JPEG',\n",
       " './data/train_data\\\\n01440764_148.JPEG',\n",
       " './data/train_data\\\\n01440764_14802.JPEG',\n",
       " './data/train_data\\\\n01440764_14855.JPEG',\n",
       " './data/train_data\\\\n01440764_14885.JPEG',\n",
       " './data/train_data\\\\n01440764_14891.JPEG',\n",
       " './data/train_data\\\\n01440764_14893.JPEG',\n",
       " './data/train_data\\\\n01440764_14907.JPEG',\n",
       " './data/train_data\\\\n01440764_15008.JPEG',\n",
       " './data/train_data\\\\n01440764_15049.JPEG',\n",
       " './data/train_data\\\\n01440764_15071.JPEG',\n",
       " './data/train_data\\\\n01440764_15073.JPEG',\n",
       " './data/train_data\\\\n01440764_15081.JPEG',\n",
       " './data/train_data\\\\n01440764_1514.JPEG',\n",
       " './data/train_data\\\\n01440764_15203.JPEG',\n",
       " './data/train_data\\\\n01440764_1537.JPEG',\n",
       " './data/train_data\\\\n01440764_15453.JPEG',\n",
       " './data/train_data\\\\n01440764_1552.JPEG',\n",
       " './data/train_data\\\\n01440764_1559.JPEG',\n",
       " './data/train_data\\\\n01440764_1561.JPEG',\n",
       " './data/train_data\\\\n01440764_1564.JPEG',\n",
       " './data/train_data\\\\n01440764_1566.JPEG',\n",
       " './data/train_data\\\\n01440764_15678.JPEG',\n",
       " './data/train_data\\\\n01440764_1577.JPEG',\n",
       " './data/train_data\\\\n01440764_16051.JPEG',\n",
       " './data/train_data\\\\n01440764_16072.JPEG',\n",
       " './data/train_data\\\\n01440764_1608.JPEG',\n",
       " './data/train_data\\\\n01440764_16090.JPEG',\n",
       " './data/train_data\\\\n01440764_16192.JPEG',\n",
       " './data/train_data\\\\n01440764_16220.JPEG',\n",
       " './data/train_data\\\\n01440764_16348.JPEG',\n",
       " './data/train_data\\\\n01440764_1656.JPEG',\n",
       " './data/train_data\\\\n01440764_1657.JPEG',\n",
       " './data/train_data\\\\n01440764_1666.JPEG',\n",
       " './data/train_data\\\\n01440764_16857.JPEG',\n",
       " './data/train_data\\\\n01440764_16906.JPEG',\n",
       " './data/train_data\\\\n01440764_16957.JPEG',\n",
       " './data/train_data\\\\n01440764_16969.JPEG',\n",
       " './data/train_data\\\\n01440764_16982.JPEG',\n",
       " './data/train_data\\\\n01440764_1703.JPEG',\n",
       " './data/train_data\\\\n01440764_17050.JPEG',\n",
       " './data/train_data\\\\n01440764_17058.JPEG',\n",
       " './data/train_data\\\\n01440764_1713.JPEG',\n",
       " './data/train_data\\\\n01440764_17174.JPEG',\n",
       " './data/train_data\\\\n01440764_172.JPEG',\n",
       " './data/train_data\\\\n01440764_1735.JPEG',\n",
       " './data/train_data\\\\n01440764_17454.JPEG',\n",
       " './data/train_data\\\\n01440764_17501.JPEG',\n",
       " './data/train_data\\\\n01440764_17514.JPEG',\n",
       " './data/train_data\\\\n01440764_1764.JPEG',\n",
       " './data/train_data\\\\n01440764_1766.JPEG',\n",
       " './data/train_data\\\\n01440764_1770.JPEG',\n",
       " './data/train_data\\\\n01440764_1775.JPEG',\n",
       " './data/train_data\\\\n01440764_1778.JPEG',\n",
       " './data/train_data\\\\n01440764_17782.JPEG',\n",
       " './data/train_data\\\\n01440764_17789.JPEG',\n",
       " './data/train_data\\\\n01440764_17896.JPEG',\n",
       " './data/train_data\\\\n01440764_17921.JPEG',\n",
       " './data/train_data\\\\n01440764_17927.JPEG',\n",
       " './data/train_data\\\\n01440764_1793.JPEG',\n",
       " './data/train_data\\\\n01440764_1798.JPEG',\n",
       " './data/train_data\\\\n01440764_18.JPEG',\n",
       " './data/train_data\\\\n01440764_18128.JPEG',\n",
       " './data/train_data\\\\n01440764_18220.JPEG',\n",
       " './data/train_data\\\\n01440764_1827.JPEG',\n",
       " './data/train_data\\\\n01440764_18592.JPEG',\n",
       " './data/train_data\\\\n01440764_1869.JPEG',\n",
       " './data/train_data\\\\n01440764_188.JPEG',\n",
       " './data/train_data\\\\n01440764_190.JPEG',\n",
       " './data/train_data\\\\n01440764_19003.JPEG',\n",
       " './data/train_data\\\\n01440764_19005.JPEG',\n",
       " './data/train_data\\\\n01440764_19035.JPEG',\n",
       " './data/train_data\\\\n01440764_1905.JPEG',\n",
       " './data/train_data\\\\n01440764_19119.JPEG',\n",
       " './data/train_data\\\\n01440764_19197.JPEG',\n",
       " './data/train_data\\\\n01440764_192.JPEG',\n",
       " './data/train_data\\\\n01440764_19219.JPEG',\n",
       " './data/train_data\\\\n01440764_19302.JPEG',\n",
       " './data/train_data\\\\n01440764_19403.JPEG',\n",
       " './data/train_data\\\\n01440764_1951.JPEG',\n",
       " './data/train_data\\\\n01440764_19661.JPEG',\n",
       " './data/train_data\\\\n01440764_1973.JPEG',\n",
       " './data/train_data\\\\n01440764_19759.JPEG',\n",
       " './data/train_data\\\\n01440764_19777.JPEG',\n",
       " './data/train_data\\\\n01440764_1980.JPEG',\n",
       " './data/train_data\\\\n01440764_19807.JPEG',\n",
       " './data/train_data\\\\n01440764_19938.JPEG',\n",
       " './data/train_data\\\\n01440764_1995.JPEG',\n",
       " './data/train_data\\\\n01440764_200.JPEG',\n",
       " './data/train_data\\\\n01440764_2001.JPEG',\n",
       " './data/train_data\\\\n01440764_2002.JPEG',\n",
       " './data/train_data\\\\n01440764_2006.JPEG',\n",
       " './data/train_data\\\\n01440764_2015.JPEG',\n",
       " './data/train_data\\\\n01440764_2018.JPEG',\n",
       " './data/train_data\\\\n01440764_20299.JPEG',\n",
       " './data/train_data\\\\n01440764_20316.JPEG',\n",
       " './data/train_data\\\\n01440764_2043.JPEG',\n",
       " './data/train_data\\\\n01440764_20434.JPEG',\n",
       " './data/train_data\\\\n01440764_20451.JPEG',\n",
       " './data/train_data\\\\n01440764_20523.JPEG',\n",
       " './data/train_data\\\\n01440764_20592.JPEG',\n",
       " './data/train_data\\\\n01440764_20650.JPEG',\n",
       " './data/train_data\\\\n01440764_20915.JPEG',\n",
       " './data/train_data\\\\n01440764_20922.JPEG',\n",
       " './data/train_data\\\\n01440764_2094.JPEG',\n",
       " './data/train_data\\\\n01440764_2095.JPEG',\n",
       " './data/train_data\\\\n01440764_2098.JPEG',\n",
       " './data/train_data\\\\n01440764_21005.JPEG',\n",
       " './data/train_data\\\\n01440764_2102.JPEG',\n",
       " './data/train_data\\\\n01440764_21043.JPEG',\n",
       " './data/train_data\\\\n01440764_21052.JPEG',\n",
       " './data/train_data\\\\n01440764_21095.JPEG',\n",
       " './data/train_data\\\\n01440764_21161.JPEG',\n",
       " './data/train_data\\\\n01440764_2117.JPEG',\n",
       " './data/train_data\\\\n01440764_2118.JPEG',\n",
       " './data/train_data\\\\n01440764_21191.JPEG',\n",
       " './data/train_data\\\\n01440764_2121.JPEG',\n",
       " './data/train_data\\\\n01440764_2144.JPEG',\n",
       " './data/train_data\\\\n01440764_2159.JPEG',\n",
       " './data/train_data\\\\n01440764_21603.JPEG',\n",
       " './data/train_data\\\\n01440764_2162.JPEG',\n",
       " './data/train_data\\\\n01440764_21695.JPEG',\n",
       " './data/train_data\\\\n01440764_21790.JPEG',\n",
       " './data/train_data\\\\n01440764_21809.JPEG',\n",
       " './data/train_data\\\\n01440764_21955.JPEG',\n",
       " './data/train_data\\\\n01440764_2196.JPEG',\n",
       " './data/train_data\\\\n01440764_22029.JPEG',\n",
       " './data/train_data\\\\n01440764_22135.JPEG',\n",
       " './data/train_data\\\\n01440764_2221.JPEG',\n",
       " './data/train_data\\\\n01440764_22277.JPEG',\n",
       " './data/train_data\\\\n01440764_2255.JPEG',\n",
       " './data/train_data\\\\n01440764_22706.JPEG',\n",
       " './data/train_data\\\\n01440764_2271.JPEG',\n",
       " './data/train_data\\\\n01440764_2275.JPEG',\n",
       " './data/train_data\\\\n01440764_22773.JPEG',\n",
       " './data/train_data\\\\n01440764_22873.JPEG',\n",
       " './data/train_data\\\\n01440764_2290.JPEG',\n",
       " './data/train_data\\\\n01440764_22948.JPEG',\n",
       " './data/train_data\\\\n01440764_22963.JPEG',\n",
       " './data/train_data\\\\n01440764_2298.JPEG',\n",
       " './data/train_data\\\\n01440764_23111.JPEG',\n",
       " './data/train_data\\\\n01440764_2314.JPEG',\n",
       " './data/train_data\\\\n01440764_23259.JPEG',\n",
       " './data/train_data\\\\n01440764_23379.JPEG',\n",
       " './data/train_data\\\\n01440764_23447.JPEG',\n",
       " './data/train_data\\\\n01440764_23493.JPEG',\n",
       " './data/train_data\\\\n01440764_23606.JPEG',\n",
       " './data/train_data\\\\n01440764_23629.JPEG',\n",
       " './data/train_data\\\\n01440764_23646.JPEG',\n",
       " './data/train_data\\\\n01440764_2369.JPEG',\n",
       " './data/train_data\\\\n01440764_237.JPEG',\n",
       " './data/train_data\\\\n01440764_2375.JPEG',\n",
       " './data/train_data\\\\n01440764_2385.JPEG',\n",
       " './data/train_data\\\\n01440764_239.JPEG',\n",
       " './data/train_data\\\\n01440764_24047.JPEG',\n",
       " './data/train_data\\\\n01440764_2418.JPEG',\n",
       " './data/train_data\\\\n01440764_2427.JPEG',\n",
       " './data/train_data\\\\n01440764_24299.JPEG',\n",
       " './data/train_data\\\\n01440764_2433.JPEG',\n",
       " './data/train_data\\\\n01440764_24502.JPEG',\n",
       " './data/train_data\\\\n01440764_2465.JPEG',\n",
       " './data/train_data\\\\n01440764_24828.JPEG',\n",
       " './data/train_data\\\\n01440764_2490.JPEG',\n",
       " './data/train_data\\\\n01440764_25064.JPEG',\n",
       " './data/train_data\\\\n01440764_25090.JPEG',\n",
       " './data/train_data\\\\n01440764_25148.JPEG',\n",
       " './data/train_data\\\\n01440764_25361.JPEG',\n",
       " './data/train_data\\\\n01440764_25370.JPEG',\n",
       " './data/train_data\\\\n01440764_2544.JPEG',\n",
       " './data/train_data\\\\n01440764_2546.JPEG',\n",
       " './data/train_data\\\\n01440764_25478.JPEG',\n",
       " './data/train_data\\\\n01440764_2563.JPEG',\n",
       " './data/train_data\\\\n01440764_2574.JPEG',\n",
       " './data/train_data\\\\n01440764_2575.JPEG',\n",
       " './data/train_data\\\\n01440764_2577.JPEG',\n",
       " './data/train_data\\\\n01440764_26006.JPEG',\n",
       " './data/train_data\\\\n01440764_261.JPEG',\n",
       " './data/train_data\\\\n01440764_26234.JPEG',\n",
       " './data/train_data\\\\n01440764_26257.JPEG',\n",
       " './data/train_data\\\\n01440764_2627.JPEG',\n",
       " './data/train_data\\\\n01440764_2628.JPEG',\n",
       " './data/train_data\\\\n01440764_26320.JPEG',\n",
       " './data/train_data\\\\n01440764_2633.JPEG',\n",
       " './data/train_data\\\\n01440764_2636.JPEG',\n",
       " './data/train_data\\\\n01440764_2646.JPEG',\n",
       " './data/train_data\\\\n01440764_26515.JPEG',\n",
       " './data/train_data\\\\n01440764_26541.JPEG',\n",
       " './data/train_data\\\\n01440764_26569.JPEG',\n",
       " './data/train_data\\\\n01440764_26631.JPEG',\n",
       " './data/train_data\\\\n01440764_26659.JPEG',\n",
       " './data/train_data\\\\n01440764_26698.JPEG',\n",
       " './data/train_data\\\\n01440764_2675.JPEG',\n",
       " './data/train_data\\\\n01440764_26775.JPEG',\n",
       " './data/train_data\\\\n01440764_2679.JPEG',\n",
       " './data/train_data\\\\n01440764_2684.JPEG',\n",
       " './data/train_data\\\\n01440764_26892.JPEG',\n",
       " './data/train_data\\\\n01440764_2690.JPEG',\n",
       " './data/train_data\\\\n01440764_26948.JPEG',\n",
       " './data/train_data\\\\n01440764_2699.JPEG',\n",
       " './data/train_data\\\\n01440764_27042.JPEG',\n",
       " './data/train_data\\\\n01440764_2708.JPEG',\n",
       " './data/train_data\\\\n01440764_27183.JPEG',\n",
       " './data/train_data\\\\n01440764_2729.JPEG',\n",
       " './data/train_data\\\\n01440764_27339.JPEG',\n",
       " './data/train_data\\\\n01440764_2742.JPEG',\n",
       " './data/train_data\\\\n01440764_27422.JPEG',\n",
       " './data/train_data\\\\n01440764_27451.JPEG',\n",
       " './data/train_data\\\\n01440764_2751.JPEG',\n",
       " './data/train_data\\\\n01440764_27530.JPEG',\n",
       " './data/train_data\\\\n01440764_27713.JPEG',\n",
       " './data/train_data\\\\n01440764_27811.JPEG',\n",
       " './data/train_data\\\\n01440764_27895.JPEG',\n",
       " './data/train_data\\\\n01440764_2803.JPEG',\n",
       " './data/train_data\\\\n01440764_2816.JPEG',\n",
       " './data/train_data\\\\n01440764_2823.JPEG',\n",
       " './data/train_data\\\\n01440764_2825.JPEG',\n",
       " './data/train_data\\\\n01440764_28275.JPEG',\n",
       " './data/train_data\\\\n01440764_28293.JPEG',\n",
       " './data/train_data\\\\n01440764_2835.JPEG',\n",
       " './data/train_data\\\\n01440764_28394.JPEG',\n",
       " './data/train_data\\\\n01440764_28418.JPEG',\n",
       " './data/train_data\\\\n01440764_2853.JPEG',\n",
       " './data/train_data\\\\n01440764_2864.JPEG',\n",
       " './data/train_data\\\\n01440764_2866.JPEG',\n",
       " './data/train_data\\\\n01440764_2874.JPEG',\n",
       " './data/train_data\\\\n01440764_29057.JPEG',\n",
       " './data/train_data\\\\n01440764_2919.JPEG',\n",
       " './data/train_data\\\\n01440764_292.JPEG',\n",
       " './data/train_data\\\\n01440764_2920.JPEG',\n",
       " './data/train_data\\\\n01440764_2921.JPEG',\n",
       " './data/train_data\\\\n01440764_2923.JPEG',\n",
       " './data/train_data\\\\n01440764_2939.JPEG',\n",
       " './data/train_data\\\\n01440764_2945.JPEG',\n",
       " './data/train_data\\\\n01440764_2948.JPEG',\n",
       " './data/train_data\\\\n01440764_29551.JPEG',\n",
       " './data/train_data\\\\n01440764_29670.JPEG',\n",
       " './data/train_data\\\\n01440764_29681.JPEG',\n",
       " './data/train_data\\\\n01440764_297.JPEG',\n",
       " './data/train_data\\\\n01440764_29712.JPEG',\n",
       " './data/train_data\\\\n01440764_29731.JPEG',\n",
       " './data/train_data\\\\n01440764_29769.JPEG',\n",
       " './data/train_data\\\\n01440764_2978.JPEG',\n",
       " './data/train_data\\\\n01440764_29788.JPEG',\n",
       " './data/train_data\\\\n01440764_298.JPEG',\n",
       " './data/train_data\\\\n01440764_2993.JPEG',\n",
       " './data/train_data\\\\n01440764_30045.JPEG',\n",
       " './data/train_data\\\\n01440764_3011.JPEG',\n",
       " './data/train_data\\\\n01440764_30188.JPEG',\n",
       " './data/train_data\\\\n01440764_30331.JPEG',\n",
       " './data/train_data\\\\n01440764_3039.JPEG',\n",
       " './data/train_data\\\\n01440764_3048.JPEG',\n",
       " './data/train_data\\\\n01440764_3070.JPEG',\n",
       " './data/train_data\\\\n01440764_30782.JPEG',\n",
       " './data/train_data\\\\n01440764_30835.JPEG',\n",
       " './data/train_data\\\\n01440764_30897.JPEG',\n",
       " './data/train_data\\\\n01440764_3096.JPEG',\n",
       " './data/train_data\\\\n01440764_3098.JPEG',\n",
       " './data/train_data\\\\n01440764_30985.JPEG',\n",
       " './data/train_data\\\\n01440764_31129.JPEG',\n",
       " './data/train_data\\\\n01440764_31170.JPEG',\n",
       " './data/train_data\\\\n01440764_31215.JPEG',\n",
       " './data/train_data\\\\n01440764_31283.JPEG',\n",
       " './data/train_data\\\\n01440764_3129.JPEG',\n",
       " './data/train_data\\\\n01440764_31293.JPEG',\n",
       " './data/train_data\\\\n01440764_31406.JPEG',\n",
       " './data/train_data\\\\n01440764_3146.JPEG',\n",
       " './data/train_data\\\\n01440764_315.JPEG',\n",
       " './data/train_data\\\\n01440764_3151.JPEG',\n",
       " './data/train_data\\\\n01440764_31518.JPEG',\n",
       " './data/train_data\\\\n01440764_31535.JPEG',\n",
       " './data/train_data\\\\n01440764_31656.JPEG',\n",
       " './data/train_data\\\\n01440764_31679.JPEG',\n",
       " './data/train_data\\\\n01440764_31715.JPEG',\n",
       " './data/train_data\\\\n01440764_3172.JPEG',\n",
       " './data/train_data\\\\n01440764_3176.JPEG',\n",
       " './data/train_data\\\\n01440764_31953.JPEG',\n",
       " './data/train_data\\\\n01440764_3197.JPEG',\n",
       " './data/train_data\\\\n01440764_3198.JPEG',\n",
       " './data/train_data\\\\n01440764_3199.JPEG',\n",
       " './data/train_data\\\\n01440764_320.JPEG',\n",
       " './data/train_data\\\\n01440764_3202.JPEG',\n",
       " './data/train_data\\\\n01440764_32134.JPEG',\n",
       " './data/train_data\\\\n01440764_32263.JPEG',\n",
       " './data/train_data\\\\n01440764_32328.JPEG',\n",
       " './data/train_data\\\\n01440764_3236.JPEG',\n",
       " './data/train_data\\\\n01440764_32420.JPEG',\n",
       " './data/train_data\\\\n01440764_3251.JPEG',\n",
       " './data/train_data\\\\n01440764_3259.JPEG',\n",
       " './data/train_data\\\\n01440764_3269.JPEG',\n",
       " './data/train_data\\\\n01440764_3271.JPEG',\n",
       " './data/train_data\\\\n01440764_3273.JPEG',\n",
       " './data/train_data\\\\n01440764_3281.JPEG',\n",
       " './data/train_data\\\\n01440764_3287.JPEG',\n",
       " './data/train_data\\\\n01440764_3289.JPEG',\n",
       " './data/train_data\\\\n01440764_3306.JPEG',\n",
       " './data/train_data\\\\n01440764_3308.JPEG',\n",
       " './data/train_data\\\\n01440764_3325.JPEG',\n",
       " './data/train_data\\\\n01440764_334.JPEG',\n",
       " './data/train_data\\\\n01440764_3347.JPEG',\n",
       " './data/train_data\\\\n01440764_3354.JPEG',\n",
       " './data/train_data\\\\n01440764_3365.JPEG',\n",
       " './data/train_data\\\\n01440764_3368.JPEG',\n",
       " './data/train_data\\\\n01440764_3375.JPEG',\n",
       " './data/train_data\\\\n01440764_3393.JPEG',\n",
       " './data/train_data\\\\n01440764_341.JPEG',\n",
       " './data/train_data\\\\n01440764_3417.JPEG',\n",
       " './data/train_data\\\\n01440764_3421.JPEG',\n",
       " './data/train_data\\\\n01440764_3425.JPEG',\n",
       " './data/train_data\\\\n01440764_3428.JPEG',\n",
       " './data/train_data\\\\n01440764_3432.JPEG',\n",
       " './data/train_data\\\\n01440764_345.JPEG',\n",
       " './data/train_data\\\\n01440764_3496.JPEG',\n",
       " './data/train_data\\\\n01440764_3509.JPEG',\n",
       " './data/train_data\\\\n01440764_3546.JPEG',\n",
       " './data/train_data\\\\n01440764_3560.JPEG',\n",
       " './data/train_data\\\\n01440764_3566.JPEG',\n",
       " './data/train_data\\\\n01440764_36.JPEG',\n",
       " './data/train_data\\\\n01440764_3603.JPEG',\n",
       " './data/train_data\\\\n01440764_3614.JPEG',\n",
       " './data/train_data\\\\n01440764_3648.JPEG',\n",
       " './data/train_data\\\\n01440764_37.JPEG',\n",
       " './data/train_data\\\\n01440764_3712.JPEG',\n",
       " './data/train_data\\\\n01440764_3713.JPEG',\n",
       " './data/train_data\\\\n01440764_3724.JPEG',\n",
       " './data/train_data\\\\n01440764_3725.JPEG',\n",
       " './data/train_data\\\\n01440764_3756.JPEG',\n",
       " './data/train_data\\\\n01440764_3760.JPEG',\n",
       " './data/train_data\\\\n01440764_3761.JPEG',\n",
       " './data/train_data\\\\n01440764_3778.JPEG',\n",
       " './data/train_data\\\\n01440764_3779.JPEG',\n",
       " './data/train_data\\\\n01440764_3781.JPEG',\n",
       " './data/train_data\\\\n01440764_3782.JPEG',\n",
       " './data/train_data\\\\n01440764_3815.JPEG',\n",
       " './data/train_data\\\\n01440764_3817.JPEG',\n",
       " './data/train_data\\\\n01440764_3849.JPEG',\n",
       " './data/train_data\\\\n01440764_3858.JPEG',\n",
       " './data/train_data\\\\n01440764_3867.JPEG',\n",
       " './data/train_data\\\\n01440764_3888.JPEG',\n",
       " './data/train_data\\\\n01440764_39.JPEG',\n",
       " './data/train_data\\\\n01440764_3937.JPEG',\n",
       " './data/train_data\\\\n01440764_3966.JPEG',\n",
       " './data/train_data\\\\n01440764_3969.JPEG',\n",
       " './data/train_data\\\\n01440764_3997.JPEG',\n",
       " './data/train_data\\\\n01440764_4003.JPEG',\n",
       " './data/train_data\\\\n01440764_4005.JPEG',\n",
       " './data/train_data\\\\n01440764_4058.JPEG',\n",
       " './data/train_data\\\\n01440764_4074.JPEG',\n",
       " './data/train_data\\\\n01440764_4106.JPEG',\n",
       " './data/train_data\\\\n01440764_413.JPEG',\n",
       " './data/train_data\\\\n01440764_416.JPEG',\n",
       " './data/train_data\\\\n01440764_4167.JPEG',\n",
       " './data/train_data\\\\n01440764_421.JPEG',\n",
       " './data/train_data\\\\n01440764_4221.JPEG',\n",
       " './data/train_data\\\\n01440764_4245.JPEG',\n",
       " './data/train_data\\\\n01440764_4260.JPEG',\n",
       " './data/train_data\\\\n01440764_4279.JPEG',\n",
       " './data/train_data\\\\n01440764_4341.JPEG',\n",
       " './data/train_data\\\\n01440764_4360.JPEG',\n",
       " './data/train_data\\\\n01440764_4377.JPEG',\n",
       " './data/train_data\\\\n01440764_438.JPEG',\n",
       " './data/train_data\\\\n01440764_4397.JPEG',\n",
       " './data/train_data\\\\n01440764_44.JPEG',\n",
       " './data/train_data\\\\n01440764_4409.JPEG',\n",
       " './data/train_data\\\\n01440764_4436.JPEG',\n",
       " './data/train_data\\\\n01440764_4448.JPEG',\n",
       " './data/train_data\\\\n01440764_4478.JPEG',\n",
       " './data/train_data\\\\n01440764_449.JPEG',\n",
       " './data/train_data\\\\n01440764_4490.JPEG',\n",
       " './data/train_data\\\\n01440764_4506.JPEG',\n",
       " './data/train_data\\\\n01440764_451.JPEG',\n",
       " './data/train_data\\\\n01440764_4510.JPEG',\n",
       " './data/train_data\\\\n01440764_4512.JPEG',\n",
       " './data/train_data\\\\n01440764_4517.JPEG',\n",
       " './data/train_data\\\\n01440764_4540.JPEG',\n",
       " './data/train_data\\\\n01440764_4557.JPEG',\n",
       " './data/train_data\\\\n01440764_4562.JPEG',\n",
       " './data/train_data\\\\n01440764_4565.JPEG',\n",
       " './data/train_data\\\\n01440764_4566.JPEG',\n",
       " './data/train_data\\\\n01440764_457.JPEG',\n",
       " './data/train_data\\\\n01440764_458.JPEG',\n",
       " './data/train_data\\\\n01440764_459.JPEG',\n",
       " './data/train_data\\\\n01440764_4597.JPEG',\n",
       " './data/train_data\\\\n01440764_4611.JPEG',\n",
       " './data/train_data\\\\n01440764_4613.JPEG',\n",
       " './data/train_data\\\\n01440764_4616.JPEG',\n",
       " './data/train_data\\\\n01440764_4669.JPEG',\n",
       " './data/train_data\\\\n01440764_467.JPEG',\n",
       " './data/train_data\\\\n01440764_4681.JPEG',\n",
       " './data/train_data\\\\n01440764_4688.JPEG',\n",
       " './data/train_data\\\\n01440764_4726.JPEG',\n",
       " './data/train_data\\\\n01440764_4737.JPEG',\n",
       " './data/train_data\\\\n01440764_4744.JPEG',\n",
       " './data/train_data\\\\n01440764_4804.JPEG',\n",
       " './data/train_data\\\\n01440764_485.JPEG',\n",
       " './data/train_data\\\\n01440764_4852.JPEG',\n",
       " './data/train_data\\\\n01440764_490.JPEG',\n",
       " './data/train_data\\\\n01440764_4903.JPEG',\n",
       " './data/train_data\\\\n01440764_4906.JPEG',\n",
       " './data/train_data\\\\n01440764_4913.JPEG',\n",
       " './data/train_data\\\\n01440764_4934.JPEG',\n",
       " './data/train_data\\\\n01440764_4937.JPEG',\n",
       " './data/train_data\\\\n01440764_4942.JPEG',\n",
       " './data/train_data\\\\n01440764_4962.JPEG',\n",
       " './data/train_data\\\\n01440764_4965.JPEG',\n",
       " './data/train_data\\\\n01440764_4979.JPEG',\n",
       " './data/train_data\\\\n01440764_4980.JPEG',\n",
       " './data/train_data\\\\n01440764_4983.JPEG',\n",
       " './data/train_data\\\\n01440764_4988.JPEG',\n",
       " './data/train_data\\\\n01440764_5003.JPEG',\n",
       " './data/train_data\\\\n01440764_5043.JPEG',\n",
       " './data/train_data\\\\n01440764_505.JPEG',\n",
       " './data/train_data\\\\n01440764_5066.JPEG',\n",
       " './data/train_data\\\\n01440764_5068.JPEG',\n",
       " './data/train_data\\\\n01440764_5081.JPEG',\n",
       " './data/train_data\\\\n01440764_5087.JPEG',\n",
       " './data/train_data\\\\n01440764_5089.JPEG',\n",
       " './data/train_data\\\\n01440764_5091.JPEG',\n",
       " './data/train_data\\\\n01440764_5103.JPEG',\n",
       " './data/train_data\\\\n01440764_5108.JPEG',\n",
       " './data/train_data\\\\n01440764_5112.JPEG',\n",
       " './data/train_data\\\\n01440764_5133.JPEG',\n",
       " './data/train_data\\\\n01440764_5148.JPEG',\n",
       " './data/train_data\\\\n01440764_5154.JPEG',\n",
       " './data/train_data\\\\n01440764_5163.JPEG',\n",
       " './data/train_data\\\\n01440764_5173.JPEG',\n",
       " './data/train_data\\\\n01440764_5176.JPEG',\n",
       " './data/train_data\\\\n01440764_519.JPEG',\n",
       " './data/train_data\\\\n01440764_5203.JPEG',\n",
       " './data/train_data\\\\n01440764_5209.JPEG',\n",
       " './data/train_data\\\\n01440764_5213.JPEG',\n",
       " './data/train_data\\\\n01440764_522.JPEG',\n",
       " './data/train_data\\\\n01440764_5225.JPEG',\n",
       " './data/train_data\\\\n01440764_5232.JPEG',\n",
       " './data/train_data\\\\n01440764_5239.JPEG',\n",
       " './data/train_data\\\\n01440764_5256.JPEG',\n",
       " './data/train_data\\\\n01440764_5286.JPEG',\n",
       " './data/train_data\\\\n01440764_529.JPEG',\n",
       " './data/train_data\\\\n01440764_5295.JPEG',\n",
       " './data/train_data\\\\n01440764_5314.JPEG',\n",
       " './data/train_data\\\\n01440764_5339.JPEG',\n",
       " './data/train_data\\\\n01440764_5345.JPEG',\n",
       " './data/train_data\\\\n01440764_5361.JPEG',\n",
       " './data/train_data\\\\n01440764_5364.JPEG',\n",
       " './data/train_data\\\\n01440764_5366.JPEG',\n",
       " './data/train_data\\\\n01440764_5376.JPEG',\n",
       " './data/train_data\\\\n01440764_5410.JPEG',\n",
       " './data/train_data\\\\n01440764_5428.JPEG',\n",
       " './data/train_data\\\\n01440764_5432.JPEG',\n",
       " './data/train_data\\\\n01440764_5456.JPEG',\n",
       " './data/train_data\\\\n01440764_547.JPEG',\n",
       " './data/train_data\\\\n01440764_5477.JPEG',\n",
       " './data/train_data\\\\n01440764_5481.JPEG',\n",
       " './data/train_data\\\\n01440764_5490.JPEG',\n",
       " './data/train_data\\\\n01440764_5501.JPEG',\n",
       " './data/train_data\\\\n01440764_5514.JPEG',\n",
       " './data/train_data\\\\n01440764_5535.JPEG',\n",
       " './data/train_data\\\\n01440764_5549.JPEG',\n",
       " './data/train_data\\\\n01440764_5579.JPEG',\n",
       " './data/train_data\\\\n01440764_5623.JPEG',\n",
       " './data/train_data\\\\n01440764_5628.JPEG',\n",
       " './data/train_data\\\\n01440764_5633.JPEG',\n",
       " './data/train_data\\\\n01440764_5634.JPEG',\n",
       " './data/train_data\\\\n01440764_5636.JPEG',\n",
       " './data/train_data\\\\n01440764_5638.JPEG',\n",
       " './data/train_data\\\\n01440764_5642.JPEG',\n",
       " './data/train_data\\\\n01440764_5647.JPEG',\n",
       " './data/train_data\\\\n01440764_5658.JPEG',\n",
       " './data/train_data\\\\n01440764_5668.JPEG',\n",
       " './data/train_data\\\\n01440764_5680.JPEG',\n",
       " './data/train_data\\\\n01440764_5687.JPEG',\n",
       " './data/train_data\\\\n01440764_5690.JPEG',\n",
       " './data/train_data\\\\n01440764_5696.JPEG',\n",
       " './data/train_data\\\\n01440764_5698.JPEG',\n",
       " './data/train_data\\\\n01440764_5709.JPEG',\n",
       " './data/train_data\\\\n01440764_5731.JPEG',\n",
       " './data/train_data\\\\n01440764_574.JPEG',\n",
       " './data/train_data\\\\n01440764_575.JPEG',\n",
       " './data/train_data\\\\n01440764_5763.JPEG',\n",
       " './data/train_data\\\\n01440764_5776.JPEG',\n",
       " './data/train_data\\\\n01440764_5781.JPEG',\n",
       " './data/train_data\\\\n01440764_5785.JPEG',\n",
       " './data/train_data\\\\n01440764_5802.JPEG',\n",
       " './data/train_data\\\\n01440764_5848.JPEG',\n",
       " './data/train_data\\\\n01440764_5861.JPEG',\n",
       " './data/train_data\\\\n01440764_5869.JPEG',\n",
       " './data/train_data\\\\n01440764_5879.JPEG',\n",
       " './data/train_data\\\\n01440764_5902.JPEG',\n",
       " './data/train_data\\\\n01440764_5908.JPEG',\n",
       " './data/train_data\\\\n01440764_5911.JPEG',\n",
       " './data/train_data\\\\n01440764_5927.JPEG',\n",
       " './data/train_data\\\\n01440764_5941.JPEG',\n",
       " './data/train_data\\\\n01440764_5946.JPEG',\n",
       " './data/train_data\\\\n01440764_5966.JPEG',\n",
       " './data/train_data\\\\n01440764_5969.JPEG',\n",
       " './data/train_data\\\\n01440764_5990.JPEG',\n",
       " './data/train_data\\\\n01440764_5993.JPEG',\n",
       " './data/train_data\\\\n01440764_600.JPEG',\n",
       " './data/train_data\\\\n01440764_6021.JPEG',\n",
       " './data/train_data\\\\n01440764_6044.JPEG',\n",
       " './data/train_data\\\\n01440764_6049.JPEG',\n",
       " './data/train_data\\\\n01440764_6052.JPEG',\n",
       " './data/train_data\\\\n01440764_6075.JPEG',\n",
       " './data/train_data\\\\n01440764_6118.JPEG',\n",
       " './data/train_data\\\\n01440764_6130.JPEG',\n",
       " './data/train_data\\\\n01440764_6146.JPEG',\n",
       " './data/train_data\\\\n01440764_6157.JPEG',\n",
       " './data/train_data\\\\n01440764_6159.JPEG',\n",
       " './data/train_data\\\\n01440764_6163.JPEG',\n",
       " './data/train_data\\\\n01440764_6169.JPEG',\n",
       " './data/train_data\\\\n01440764_6174.JPEG',\n",
       " './data/train_data\\\\n01440764_6190.JPEG',\n",
       " './data/train_data\\\\n01440764_6206.JPEG',\n",
       " './data/train_data\\\\n01440764_622.JPEG',\n",
       " './data/train_data\\\\n01440764_6246.JPEG',\n",
       " './data/train_data\\\\n01440764_6248.JPEG',\n",
       " './data/train_data\\\\n01440764_6249.JPEG',\n",
       " './data/train_data\\\\n01440764_6268.JPEG',\n",
       " './data/train_data\\\\n01440764_6275.JPEG',\n",
       " './data/train_data\\\\n01440764_6279.JPEG',\n",
       " './data/train_data\\\\n01440764_6288.JPEG',\n",
       " './data/train_data\\\\n01440764_63.JPEG',\n",
       " './data/train_data\\\\n01440764_6301.JPEG',\n",
       " './data/train_data\\\\n01440764_6341.JPEG',\n",
       " './data/train_data\\\\n01440764_6348.JPEG',\n",
       " './data/train_data\\\\n01440764_6361.JPEG',\n",
       " './data/train_data\\\\n01440764_6375.JPEG',\n",
       " './data/train_data\\\\n01440764_6380.JPEG',\n",
       " './data/train_data\\\\n01440764_6386.JPEG',\n",
       " './data/train_data\\\\n01440764_6388.JPEG',\n",
       " './data/train_data\\\\n01440764_6391.JPEG',\n",
       " './data/train_data\\\\n01440764_6395.JPEG',\n",
       " './data/train_data\\\\n01440764_6399.JPEG',\n",
       " './data/train_data\\\\n01440764_6410.JPEG',\n",
       " './data/train_data\\\\n01440764_6421.JPEG',\n",
       " './data/train_data\\\\n01440764_6425.JPEG',\n",
       " './data/train_data\\\\n01440764_6432.JPEG',\n",
       " './data/train_data\\\\n01440764_6443.JPEG',\n",
       " './data/train_data\\\\n01440764_6468.JPEG',\n",
       " './data/train_data\\\\n01440764_6471.JPEG',\n",
       " './data/train_data\\\\n01440764_6484.JPEG',\n",
       " './data/train_data\\\\n01440764_6485.JPEG',\n",
       " './data/train_data\\\\n01440764_6494.JPEG',\n",
       " './data/train_data\\\\n01440764_6497.JPEG',\n",
       " './data/train_data\\\\n01440764_650.JPEG',\n",
       " './data/train_data\\\\n01440764_6500.JPEG',\n",
       " './data/train_data\\\\n01440764_6501.JPEG',\n",
       " './data/train_data\\\\n01440764_6508.JPEG',\n",
       " './data/train_data\\\\n01440764_6524.JPEG',\n",
       " './data/train_data\\\\n01440764_6543.JPEG',\n",
       " './data/train_data\\\\n01440764_6548.JPEG',\n",
       " './data/train_data\\\\n01440764_6550.JPEG',\n",
       " './data/train_data\\\\n01440764_6568.JPEG',\n",
       " './data/train_data\\\\n01440764_6570.JPEG',\n",
       " './data/train_data\\\\n01440764_6572.JPEG',\n",
       " './data/train_data\\\\n01440764_658.JPEG',\n",
       " './data/train_data\\\\n01440764_6628.JPEG',\n",
       " './data/train_data\\\\n01440764_6641.JPEG',\n",
       " './data/train_data\\\\n01440764_6642.JPEG',\n",
       " './data/train_data\\\\n01440764_6643.JPEG',\n",
       " './data/train_data\\\\n01440764_6647.JPEG',\n",
       " './data/train_data\\\\n01440764_6659.JPEG',\n",
       " './data/train_data\\\\n01440764_6672.JPEG',\n",
       " './data/train_data\\\\n01440764_6697.JPEG',\n",
       " './data/train_data\\\\n01440764_6706.JPEG',\n",
       " './data/train_data\\\\n01440764_6707.JPEG',\n",
       " './data/train_data\\\\n01440764_6714.JPEG',\n",
       " './data/train_data\\\\n01440764_6719.JPEG',\n",
       " './data/train_data\\\\n01440764_6751.JPEG',\n",
       " './data/train_data\\\\n01440764_6758.JPEG',\n",
       " './data/train_data\\\\n01440764_6760.JPEG',\n",
       " './data/train_data\\\\n01440764_677.JPEG',\n",
       " './data/train_data\\\\n01440764_6786.JPEG',\n",
       " './data/train_data\\\\n01440764_6812.JPEG',\n",
       " './data/train_data\\\\n01440764_6816.JPEG',\n",
       " './data/train_data\\\\n01440764_6831.JPEG',\n",
       " './data/train_data\\\\n01440764_6843.JPEG',\n",
       " './data/train_data\\\\n01440764_6852.JPEG',\n",
       " './data/train_data\\\\n01440764_6870.JPEG',\n",
       " './data/train_data\\\\n01440764_6878.JPEG',\n",
       " './data/train_data\\\\n01440764_6887.JPEG',\n",
       " './data/train_data\\\\n01440764_6903.JPEG',\n",
       " './data/train_data\\\\n01440764_6917.JPEG',\n",
       " './data/train_data\\\\n01440764_6924.JPEG',\n",
       " './data/train_data\\\\n01440764_6936.JPEG',\n",
       " './data/train_data\\\\n01440764_6945.JPEG',\n",
       " './data/train_data\\\\n01440764_6949.JPEG',\n",
       " './data/train_data\\\\n01440764_6954.JPEG',\n",
       " './data/train_data\\\\n01440764_6958.JPEG',\n",
       " './data/train_data\\\\n01440764_6962.JPEG',\n",
       " './data/train_data\\\\n01440764_6964.JPEG',\n",
       " './data/train_data\\\\n01440764_6974.JPEG',\n",
       " './data/train_data\\\\n01440764_6975.JPEG',\n",
       " './data/train_data\\\\n01440764_6990.JPEG',\n",
       " './data/train_data\\\\n01440764_7004.JPEG',\n",
       " './data/train_data\\\\n01440764_7016.JPEG',\n",
       " './data/train_data\\\\n01440764_7030.JPEG',\n",
       " './data/train_data\\\\n01440764_7040.JPEG',\n",
       " './data/train_data\\\\n01440764_7044.JPEG',\n",
       " './data/train_data\\\\n01440764_7055.JPEG',\n",
       " './data/train_data\\\\n01440764_7056.JPEG',\n",
       " './data/train_data\\\\n01440764_710.JPEG',\n",
       " './data/train_data\\\\n01440764_7131.JPEG',\n",
       " './data/train_data\\\\n01440764_7137.JPEG',\n",
       " './data/train_data\\\\n01440764_7142.JPEG',\n",
       " './data/train_data\\\\n01440764_7153.JPEG',\n",
       " './data/train_data\\\\n01440764_7154.JPEG',\n",
       " './data/train_data\\\\n01440764_7157.JPEG',\n",
       " './data/train_data\\\\n01440764_7158.JPEG',\n",
       " './data/train_data\\\\n01440764_7160.JPEG',\n",
       " './data/train_data\\\\n01440764_7173.JPEG',\n",
       " './data/train_data\\\\n01440764_7185.JPEG',\n",
       " ...]"
      ]
     },
     "execution_count": 3,
     "metadata": {},
     "output_type": "execute_result"
    }
   ],
   "source": [
    "train_data_path = './data/train_data'\n",
    "image_paths = glob.glob(os.path.join(train_data_path, '*'))\n",
    "image_paths"
   ]
  },
  {
   "cell_type": "markdown",
   "id": "29e81113",
   "metadata": {},
   "source": [
    "## 1.2. train validation split "
   ]
  },
  {
   "cell_type": "code",
   "execution_count": 4,
   "id": "b5277984",
   "metadata": {},
   "outputs": [],
   "source": [
    "def train_test_split_path(paths, split_ratio, seed=44) :\n",
    "    random.seed(seed)\n",
    "    random.shuffle(paths)\n",
    "    train_paths, valid_paths = paths[:int(split_ratio*len(paths))], paths[int(split_ratio*len(paths)):] \n",
    "    return  train_paths, valid_paths"
   ]
  },
  {
   "cell_type": "code",
   "execution_count": 5,
   "id": "95aec07e",
   "metadata": {},
   "outputs": [],
   "source": [
    "train_image_paths, valid_image_paths =  train_test_split_path(image_paths, 0.8)"
   ]
  },
  {
   "cell_type": "code",
   "execution_count": 6,
   "id": "d30b97ff",
   "metadata": {},
   "outputs": [
    {
     "data": {
      "text/plain": [
       "1008957"
      ]
     },
     "execution_count": 6,
     "metadata": {},
     "output_type": "execute_result"
    }
   ],
   "source": [
    "len(train_image_paths)"
   ]
  },
  {
   "cell_type": "code",
   "execution_count": 7,
   "id": "19f049af",
   "metadata": {},
   "outputs": [
    {
     "data": {
      "text/plain": [
       "252240"
      ]
     },
     "execution_count": 7,
     "metadata": {},
     "output_type": "execute_result"
    }
   ],
   "source": [
    "len(valid_image_paths)"
   ]
  },
  {
   "cell_type": "markdown",
   "id": "638f419c",
   "metadata": {},
   "source": [
    "## 1.3. Custom Dataset Class"
   ]
  },
  {
   "cell_type": "code",
   "execution_count": 8,
   "id": "c2bec63b",
   "metadata": {},
   "outputs": [],
   "source": [
    "class Custom_Image_Dataset(Dataset) :\n",
    "    \n",
    "    def __init__(self, image_paths, transforms=None):\n",
    "        self.image_paths = image_paths\n",
    "        self.transforms = transforms\n",
    "        \n",
    "    def __len__(self):\n",
    "        return len(self.image_paths)\n",
    "\n",
    "    def __getitem__(self, idx):\n",
    "        img = cv2.imread(self.image_paths[idx])\n",
    "        \n",
    "        x = cv2.cvtColor(img, cv2.COLOR_BGR2GRAY)/255\n",
    "        y = cv2.cvtColor(img, cv2.COLOR_BGR2RGB)/255\n",
    "        \n",
    "        if self.transforms is not None :\n",
    "            x = self.transforms(x).float()\n",
    "            y = self.transforms(y).float()\n",
    "        \n",
    "        return x, y"
   ]
  },
  {
   "cell_type": "markdown",
   "id": "cf897760",
   "metadata": {},
   "source": [
    "## 1.4. Data Load"
   ]
  },
  {
   "cell_type": "code",
   "execution_count": 9,
   "id": "23f6304c",
   "metadata": {},
   "outputs": [],
   "source": [
    "transform = transforms.Compose([\n",
    "    transforms.ToTensor()\n",
    "])"
   ]
  },
  {
   "cell_type": "code",
   "execution_count": 10,
   "id": "2e89361b",
   "metadata": {},
   "outputs": [],
   "source": [
    "batch_size = 32"
   ]
  },
  {
   "cell_type": "code",
   "execution_count": 11,
   "id": "1058bebb",
   "metadata": {},
   "outputs": [],
   "source": [
    "train_dataset = Custom_Image_Dataset(train_image_paths, transform)\n",
    "train_dataloader = DataLoader(train_dataset, batch_size = batch_size, shuffle = False)"
   ]
  },
  {
   "cell_type": "code",
   "execution_count": 12,
   "id": "e49aa1d6",
   "metadata": {},
   "outputs": [],
   "source": [
    "valid_dataset = Custom_Image_Dataset(valid_image_paths, transform)\n",
    "valid_dataloader = DataLoader(valid_dataset, batch_size = batch_size, shuffle = False)"
   ]
  },
  {
   "cell_type": "code",
   "execution_count": 13,
   "id": "a544abaf",
   "metadata": {},
   "outputs": [
    {
     "name": "stdout",
     "output_type": "stream",
     "text": [
      "x :  torch.Size([1, 128, 128])\n",
      "y :  torch.Size([3, 128, 128])\n"
     ]
    }
   ],
   "source": [
    "sample_loader_train = next(iter(train_dataset))\n",
    "print('x : ', sample_loader_train[0].size())\n",
    "print('y : ', sample_loader_train[1].size())"
   ]
  },
  {
   "cell_type": "code",
   "execution_count": 14,
   "id": "c696e018",
   "metadata": {
    "scrolled": true
   },
   "outputs": [
    {
     "data": {
      "text/plain": [
       "tensor([[[0.4431, 0.4353, 0.4235,  ..., 0.0941, 0.0980, 0.0941],\n",
       "         [0.4902, 0.4824, 0.4706,  ..., 0.0706, 0.0784, 0.0784],\n",
       "         [0.5216, 0.5137, 0.5059,  ..., 0.0667, 0.0667, 0.0667],\n",
       "         ...,\n",
       "         [0.7373, 0.7373, 0.7412,  ..., 0.7216, 0.7176, 0.7098],\n",
       "         [0.7333, 0.7294, 0.7294,  ..., 0.7176, 0.7137, 0.7098],\n",
       "         [0.7216, 0.7176, 0.7216,  ..., 0.7176, 0.7176, 0.7176]]])"
      ]
     },
     "execution_count": 14,
     "metadata": {},
     "output_type": "execute_result"
    }
   ],
   "source": [
    "sample_loader_train[0]"
   ]
  },
  {
   "cell_type": "code",
   "execution_count": 15,
   "id": "7906c4a6",
   "metadata": {},
   "outputs": [
    {
     "data": {
      "text/plain": [
       "tensor([[[0.6667, 0.6588, 0.6471,  ..., 0.0706, 0.0745, 0.0706],\n",
       "         [0.7137, 0.7059, 0.6941,  ..., 0.0549, 0.0627, 0.0627],\n",
       "         [0.7529, 0.7451, 0.7373,  ..., 0.0667, 0.0627, 0.0627],\n",
       "         ...,\n",
       "         [0.9569, 0.9569, 0.9608,  ..., 0.9137, 0.9098, 0.9020],\n",
       "         [0.9529, 0.9490, 0.9490,  ..., 0.9098, 0.9059, 0.9020],\n",
       "         [0.9412, 0.9373, 0.9412,  ..., 0.9098, 0.9098, 0.9098]],\n",
       "\n",
       "        [[0.3922, 0.3843, 0.3725,  ..., 0.1216, 0.1216, 0.1176],\n",
       "         [0.4392, 0.4314, 0.4196,  ..., 0.0941, 0.1020, 0.1020],\n",
       "         [0.4706, 0.4627, 0.4549,  ..., 0.0824, 0.0824, 0.0824],\n",
       "         ...,\n",
       "         [0.6980, 0.6980, 0.7020,  ..., 0.6902, 0.6863, 0.6784],\n",
       "         [0.6902, 0.6863, 0.6863,  ..., 0.6863, 0.6824, 0.6784],\n",
       "         [0.6784, 0.6745, 0.6784,  ..., 0.6863, 0.6863, 0.6863]],\n",
       "\n",
       "        [[0.1216, 0.1137, 0.1020,  ..., 0.0196, 0.0275, 0.0235],\n",
       "         [0.1647, 0.1569, 0.1451,  ..., 0.0000, 0.0039, 0.0078],\n",
       "         [0.1725, 0.1647, 0.1569,  ..., 0.0000, 0.0000, 0.0000],\n",
       "         ...,\n",
       "         [0.3686, 0.3686, 0.3725,  ..., 0.3804, 0.3765, 0.3686],\n",
       "         [0.3725, 0.3686, 0.3686,  ..., 0.3765, 0.3725, 0.3686],\n",
       "         [0.3608, 0.3569, 0.3608,  ..., 0.3765, 0.3765, 0.3765]]])"
      ]
     },
     "execution_count": 15,
     "metadata": {},
     "output_type": "execute_result"
    }
   ],
   "source": [
    "sample_loader_train[1]"
   ]
  },
  {
   "cell_type": "code",
   "execution_count": null,
   "id": "5ba53d2b",
   "metadata": {},
   "outputs": [],
   "source": []
  },
  {
   "cell_type": "code",
   "execution_count": null,
   "id": "4c0dc8e0",
   "metadata": {},
   "outputs": [],
   "source": []
  },
  {
   "cell_type": "code",
   "execution_count": null,
   "id": "11501b79",
   "metadata": {},
   "outputs": [],
   "source": []
  },
  {
   "cell_type": "markdown",
   "id": "358e461c",
   "metadata": {},
   "source": [
    "# 2. Define Model"
   ]
  },
  {
   "cell_type": "code",
   "execution_count": 16,
   "id": "7f5869d5",
   "metadata": {},
   "outputs": [],
   "source": [
    "import torch\n",
    "import torch.nn as nn\n",
    "from torchinfo import summary"
   ]
  },
  {
   "cell_type": "code",
   "execution_count": 17,
   "id": "a2958e01",
   "metadata": {},
   "outputs": [
    {
     "data": {
      "text/plain": [
       "device(type='cuda')"
      ]
     },
     "execution_count": 17,
     "metadata": {},
     "output_type": "execute_result"
    }
   ],
   "source": [
    "device = torch.device(\"cuda\" if torch.cuda.is_available() else \"cpu\")\n",
    "device"
   ]
  },
  {
   "cell_type": "markdown",
   "id": "7ca752d7",
   "metadata": {},
   "source": [
    "## 2.1. define model function"
   ]
  },
  {
   "cell_type": "code",
   "execution_count": 18,
   "id": "a4e86edb",
   "metadata": {},
   "outputs": [],
   "source": [
    "class UNET(nn.Module) :\n",
    "    def __init__(self) :\n",
    "        super().__init__()\n",
    "        \n",
    "        def conv(in_dim, out_dim) :\n",
    "            model = nn.Sequential(\n",
    "                nn.Conv2d(in_dim, out_dim, kernel_size=3, padding='same'),\n",
    "                nn.BatchNorm2d(out_dim),\n",
    "                nn.ReLU(inplace=True),\n",
    "                nn.Conv2d(out_dim, out_dim, kernel_size=3, padding='same'),\n",
    "                nn.BatchNorm2d(out_dim),\n",
    "                nn.ReLU(inplace=True)\n",
    "            )\n",
    "            return model\n",
    "        \n",
    "        def max_pool() :\n",
    "            model = nn.MaxPool2d(2)\n",
    "            return model\n",
    "        \n",
    "        def up_conv(in_dim, out_dim) :\n",
    "            model = nn.Sequential(\n",
    "                nn.Upsample(scale_factor=2, mode='bilinear', align_corners=True),\n",
    "                nn.Conv2d(in_dim, out_dim, kernel_size=2, padding='same')\n",
    "            )\n",
    "            return model\n",
    "        \n",
    "        self.input = nn.Sequential()\n",
    "        self.enc1 = conv(1, 64)\n",
    "        self.enc2 = nn.Sequential(max_pool(), conv(64, 128))\n",
    "        self.enc3 = nn.Sequential(max_pool(), conv(128, 256))\n",
    "        self.enc4 = nn.Sequential(max_pool(), conv(256, 512))\n",
    "        self.enc5 = nn.Sequential(max_pool(), conv(512, 1024))\n",
    "        \n",
    "        self.dec1 = up_conv(1024, 512)\n",
    "        self.dec2 = nn.Sequential(conv(1024, 512), up_conv(512, 256))\n",
    "        self.dec3 = nn.Sequential(conv(512, 256), up_conv(256, 128))\n",
    "        self.dec4 = nn.Sequential(conv(256, 128), up_conv(128, 64))\n",
    "        self.dec5 = conv(128, 64)\n",
    "        self.out = nn.Conv2d(64, 3, kernel_size=1, padding = 'same')\n",
    "        \n",
    "        \n",
    "        \n",
    "    def forward(self, x):\n",
    "        x = self.input(x)\n",
    "        x1 = self.enc1(x)\n",
    "        x2 = self.enc2(x1)\n",
    "        x3 = self.enc3(x2)\n",
    "        x4 = self.enc4(x3)\n",
    "        x5 = self.enc5(x4)\n",
    "        \n",
    "        x = self.dec1(x5)\n",
    "        x = torch.cat([x, x4], dim = 1)\n",
    "        x = self.dec2(x)\n",
    "        x = torch.cat([x, x3], dim = 1)\n",
    "        x = self.dec3(x)\n",
    "        x = torch.cat([x, x2], dim = 1)\n",
    "        x = self.dec4(x)\n",
    "        x = torch.cat([x, x1], dim = 1)\n",
    "        x = self.dec5(x)\n",
    "        x = self.out(x)\n",
    "        \n",
    "        \n",
    "        return x"
   ]
  },
  {
   "cell_type": "markdown",
   "id": "c65d47a6",
   "metadata": {},
   "source": [
    "## 2.2. model compile"
   ]
  },
  {
   "cell_type": "code",
   "execution_count": 19,
   "id": "ae865c0f",
   "metadata": {},
   "outputs": [],
   "source": [
    "model_UNET = UNET().to(device)"
   ]
  },
  {
   "cell_type": "markdown",
   "id": "ed3f9547",
   "metadata": {},
   "source": [
    "## 2.3. model summary"
   ]
  },
  {
   "cell_type": "code",
   "execution_count": 20,
   "id": "90514b50",
   "metadata": {},
   "outputs": [],
   "source": [
    "input_shape_list = list(tuple(sample_loader_train[0].size()))\n",
    "input_shape_list.insert(0, batch_size)\n",
    "input_shape = tuple(input_shape_list)"
   ]
  },
  {
   "cell_type": "code",
   "execution_count": 21,
   "id": "9af78ab2",
   "metadata": {},
   "outputs": [],
   "source": [
    "del sample_loader_train\n",
    "torch.cuda.empty_cache()"
   ]
  },
  {
   "cell_type": "code",
   "execution_count": 22,
   "id": "4dbf358b",
   "metadata": {
    "scrolled": false
   },
   "outputs": [
    {
     "name": "stderr",
     "output_type": "stream",
     "text": [
      "C:\\Users\\T921\\anaconda3\\lib\\site-packages\\torch\\nn\\modules\\conv.py:442: UserWarning: Using padding='same' with even kernel lengths and odd dilation may require a zero-padded copy of the input be created (Triggered internally at  ..\\aten\\src\\ATen\\native\\Convolution.cpp:647.)\n",
      "  return F.conv2d(input, weight, bias, self.stride,\n"
     ]
    },
    {
     "data": {
      "text/plain": [
       "==========================================================================================\n",
       "Layer (type:depth-idx)                   Output Shape              Param #\n",
       "==========================================================================================\n",
       "UNET                                     --                        --\n",
       "├─Sequential: 1-1                        [32, 1, 128, 128]         --\n",
       "├─Sequential: 1-2                        [32, 64, 128, 128]        --\n",
       "│    └─Conv2d: 2-1                       [32, 64, 128, 128]        640\n",
       "│    └─BatchNorm2d: 2-2                  [32, 64, 128, 128]        128\n",
       "│    └─ReLU: 2-3                         [32, 64, 128, 128]        --\n",
       "│    └─Conv2d: 2-4                       [32, 64, 128, 128]        36,928\n",
       "│    └─BatchNorm2d: 2-5                  [32, 64, 128, 128]        128\n",
       "│    └─ReLU: 2-6                         [32, 64, 128, 128]        --\n",
       "├─Sequential: 1-3                        [32, 128, 64, 64]         --\n",
       "│    └─MaxPool2d: 2-7                    [32, 64, 64, 64]          --\n",
       "│    └─Sequential: 2-8                   [32, 128, 64, 64]         --\n",
       "│    │    └─Conv2d: 3-1                  [32, 128, 64, 64]         73,856\n",
       "│    │    └─BatchNorm2d: 3-2             [32, 128, 64, 64]         256\n",
       "│    │    └─ReLU: 3-3                    [32, 128, 64, 64]         --\n",
       "│    │    └─Conv2d: 3-4                  [32, 128, 64, 64]         147,584\n",
       "│    │    └─BatchNorm2d: 3-5             [32, 128, 64, 64]         256\n",
       "│    │    └─ReLU: 3-6                    [32, 128, 64, 64]         --\n",
       "├─Sequential: 1-4                        [32, 256, 32, 32]         --\n",
       "│    └─MaxPool2d: 2-9                    [32, 128, 32, 32]         --\n",
       "│    └─Sequential: 2-10                  [32, 256, 32, 32]         --\n",
       "│    │    └─Conv2d: 3-7                  [32, 256, 32, 32]         295,168\n",
       "│    │    └─BatchNorm2d: 3-8             [32, 256, 32, 32]         512\n",
       "│    │    └─ReLU: 3-9                    [32, 256, 32, 32]         --\n",
       "│    │    └─Conv2d: 3-10                 [32, 256, 32, 32]         590,080\n",
       "│    │    └─BatchNorm2d: 3-11            [32, 256, 32, 32]         512\n",
       "│    │    └─ReLU: 3-12                   [32, 256, 32, 32]         --\n",
       "├─Sequential: 1-5                        [32, 512, 16, 16]         --\n",
       "│    └─MaxPool2d: 2-11                   [32, 256, 16, 16]         --\n",
       "│    └─Sequential: 2-12                  [32, 512, 16, 16]         --\n",
       "│    │    └─Conv2d: 3-13                 [32, 512, 16, 16]         1,180,160\n",
       "│    │    └─BatchNorm2d: 3-14            [32, 512, 16, 16]         1,024\n",
       "│    │    └─ReLU: 3-15                   [32, 512, 16, 16]         --\n",
       "│    │    └─Conv2d: 3-16                 [32, 512, 16, 16]         2,359,808\n",
       "│    │    └─BatchNorm2d: 3-17            [32, 512, 16, 16]         1,024\n",
       "│    │    └─ReLU: 3-18                   [32, 512, 16, 16]         --\n",
       "├─Sequential: 1-6                        [32, 1024, 8, 8]          --\n",
       "│    └─MaxPool2d: 2-13                   [32, 512, 8, 8]           --\n",
       "│    └─Sequential: 2-14                  [32, 1024, 8, 8]          --\n",
       "│    │    └─Conv2d: 3-19                 [32, 1024, 8, 8]          4,719,616\n",
       "│    │    └─BatchNorm2d: 3-20            [32, 1024, 8, 8]          2,048\n",
       "│    │    └─ReLU: 3-21                   [32, 1024, 8, 8]          --\n",
       "│    │    └─Conv2d: 3-22                 [32, 1024, 8, 8]          9,438,208\n",
       "│    │    └─BatchNorm2d: 3-23            [32, 1024, 8, 8]          2,048\n",
       "│    │    └─ReLU: 3-24                   [32, 1024, 8, 8]          --\n",
       "├─Sequential: 1-7                        [32, 512, 16, 16]         --\n",
       "│    └─Upsample: 2-15                    [32, 1024, 16, 16]        --\n",
       "│    └─Conv2d: 2-16                      [32, 512, 16, 16]         2,097,664\n",
       "├─Sequential: 1-8                        [32, 256, 32, 32]         --\n",
       "│    └─Sequential: 2-17                  [32, 512, 16, 16]         --\n",
       "│    │    └─Conv2d: 3-25                 [32, 512, 16, 16]         4,719,104\n",
       "│    │    └─BatchNorm2d: 3-26            [32, 512, 16, 16]         1,024\n",
       "│    │    └─ReLU: 3-27                   [32, 512, 16, 16]         --\n",
       "│    │    └─Conv2d: 3-28                 [32, 512, 16, 16]         2,359,808\n",
       "│    │    └─BatchNorm2d: 3-29            [32, 512, 16, 16]         1,024\n",
       "│    │    └─ReLU: 3-30                   [32, 512, 16, 16]         --\n",
       "│    └─Sequential: 2-18                  [32, 256, 32, 32]         --\n",
       "│    │    └─Upsample: 3-31               [32, 512, 32, 32]         --\n",
       "│    │    └─Conv2d: 3-32                 [32, 256, 32, 32]         524,544\n",
       "├─Sequential: 1-9                        [32, 128, 64, 64]         --\n",
       "│    └─Sequential: 2-19                  [32, 256, 32, 32]         --\n",
       "│    │    └─Conv2d: 3-33                 [32, 256, 32, 32]         1,179,904\n",
       "│    │    └─BatchNorm2d: 3-34            [32, 256, 32, 32]         512\n",
       "│    │    └─ReLU: 3-35                   [32, 256, 32, 32]         --\n",
       "│    │    └─Conv2d: 3-36                 [32, 256, 32, 32]         590,080\n",
       "│    │    └─BatchNorm2d: 3-37            [32, 256, 32, 32]         512\n",
       "│    │    └─ReLU: 3-38                   [32, 256, 32, 32]         --\n",
       "│    └─Sequential: 2-20                  [32, 128, 64, 64]         --\n",
       "│    │    └─Upsample: 3-39               [32, 256, 64, 64]         --\n",
       "│    │    └─Conv2d: 3-40                 [32, 128, 64, 64]         131,200\n",
       "├─Sequential: 1-10                       [32, 64, 128, 128]        --\n",
       "│    └─Sequential: 2-21                  [32, 128, 64, 64]         --\n",
       "│    │    └─Conv2d: 3-41                 [32, 128, 64, 64]         295,040\n",
       "│    │    └─BatchNorm2d: 3-42            [32, 128, 64, 64]         256\n",
       "│    │    └─ReLU: 3-43                   [32, 128, 64, 64]         --\n",
       "│    │    └─Conv2d: 3-44                 [32, 128, 64, 64]         147,584\n",
       "│    │    └─BatchNorm2d: 3-45            [32, 128, 64, 64]         256\n",
       "│    │    └─ReLU: 3-46                   [32, 128, 64, 64]         --\n",
       "│    └─Sequential: 2-22                  [32, 64, 128, 128]        --\n",
       "│    │    └─Upsample: 3-47               [32, 128, 128, 128]       --\n",
       "│    │    └─Conv2d: 3-48                 [32, 64, 128, 128]        32,832\n",
       "├─Sequential: 1-11                       [32, 64, 128, 128]        --\n",
       "│    └─Conv2d: 2-23                      [32, 64, 128, 128]        73,792\n",
       "│    └─BatchNorm2d: 2-24                 [32, 64, 128, 128]        128\n",
       "│    └─ReLU: 2-25                        [32, 64, 128, 128]        --\n",
       "│    └─Conv2d: 2-26                      [32, 64, 128, 128]        36,928\n",
       "│    └─BatchNorm2d: 2-27                 [32, 64, 128, 128]        128\n",
       "│    └─ReLU: 2-28                        [32, 64, 128, 128]        --\n",
       "├─Conv2d: 1-12                           [32, 3, 128, 128]         195\n",
       "==========================================================================================\n",
       "Total params: 31,042,499\n",
       "Trainable params: 31,042,499\n",
       "Non-trainable params: 0\n",
       "Total mult-adds (G): 436.66\n",
       "==========================================================================================\n",
       "Input size (MB): 2.10\n",
       "Forward/backward pass size (MB): 4609.54\n",
       "Params size (MB): 124.17\n",
       "Estimated Total Size (MB): 4735.81\n",
       "=========================================================================================="
      ]
     },
     "execution_count": 22,
     "metadata": {},
     "output_type": "execute_result"
    }
   ],
   "source": [
    "summary(\n",
    "    model_UNET,\n",
    "    input_shape\n",
    ")"
   ]
  },
  {
   "cell_type": "code",
   "execution_count": null,
   "id": "8850fc00",
   "metadata": {},
   "outputs": [],
   "source": []
  },
  {
   "cell_type": "code",
   "execution_count": null,
   "id": "b06ac7ac",
   "metadata": {},
   "outputs": [],
   "source": []
  },
  {
   "cell_type": "code",
   "execution_count": null,
   "id": "5ed7f872",
   "metadata": {},
   "outputs": [],
   "source": []
  },
  {
   "cell_type": "markdown",
   "id": "db668b27",
   "metadata": {},
   "source": [
    "# 3. Train Model"
   ]
  },
  {
   "cell_type": "code",
   "execution_count": 23,
   "id": "e67db4b1",
   "metadata": {},
   "outputs": [],
   "source": [
    "import torch\n",
    "import numpy as np\n",
    "import time\n",
    "from tqdm.notebook import tqdm"
   ]
  },
  {
   "cell_type": "markdown",
   "id": "87644e58",
   "metadata": {},
   "source": [
    "## 3.1. Early Stopping Class"
   ]
  },
  {
   "cell_type": "code",
   "execution_count": 24,
   "id": "72db3a44",
   "metadata": {},
   "outputs": [],
   "source": [
    "class EarlyStopping:\n",
    "    \"\"\"주어진 patience 이후로 validation loss가 개선되지 않으면 학습을 조기 중지\"\"\"\n",
    "    def __init__(self, patience=10, verbose=False, delta=0, path='checkpoint.pt'):\n",
    "        \"\"\"\n",
    "        Args:\n",
    "            patience (int): validation loss가 개선된 후 기다리는 기간\n",
    "                            Default: 10\n",
    "            verbose (bool): True일 경우 각 validation loss의 개선 사항 메세지 출력\n",
    "                            Default: False\n",
    "            delta (float): 개선되었다고 인정되는 monitered quantity의 최소 변화\n",
    "                            Default: 0\n",
    "            path (str): checkpoint저장 경로\n",
    "                            Default: 'checkpoint.pt'\n",
    "        \"\"\"\n",
    "        self.patience = patience\n",
    "        self.verbose = verbose\n",
    "        self.counter = 0\n",
    "        self.best_score = None\n",
    "        self.early_stop = False\n",
    "        self.val_loss_min = np.Inf\n",
    "        self.delta = delta\n",
    "        self.path = path\n",
    "\n",
    "    def __call__(self, val_loss, model):\n",
    "\n",
    "        score = -val_loss\n",
    "\n",
    "        if self.best_score is None:\n",
    "            self.best_score = score\n",
    "            self.save_checkpoint(val_loss, model)\n",
    "        elif score < self.best_score + self.delta:\n",
    "            self.counter += 1\n",
    "            print(f'EarlyStopping counter: {self.counter} out of {self.patience}')\n",
    "            if self.counter >= self.patience:\n",
    "                self.early_stop = True\n",
    "        else:\n",
    "            self.best_score = score\n",
    "            self.save_checkpoint(val_loss, model)\n",
    "            self.counter = 0\n",
    "\n",
    "    def save_checkpoint(self, val_loss, model):\n",
    "        '''validation loss가 감소하면 모델을 저장한다.'''\n",
    "        if self.verbose:\n",
    "            print(f'Validation loss decreased ({self.val_loss_min:.6f} --> {val_loss:.6f}).  Saving model ...')\n",
    "        torch.save(model.state_dict(), self.path)\n",
    "        self.val_loss_min = val_loss"
   ]
  },
  {
   "cell_type": "markdown",
   "id": "0bd963aa",
   "metadata": {},
   "source": [
    "## 3.2. Training Function"
   ]
  },
  {
   "cell_type": "markdown",
   "id": "b145b66a",
   "metadata": {},
   "source": [
    "**criterion 설정에서**  \n",
    "onehot x -> target.squeeze().long()  \n",
    "onehot o -> torch.max(train_target, 1)[1]  "
   ]
  },
  {
   "cell_type": "code",
   "execution_count": 25,
   "id": "2fd2e5c9",
   "metadata": {},
   "outputs": [],
   "source": [
    "def train_model(model, \n",
    "                train_dataloader, \n",
    "                valid_dataloader, \n",
    "                criterion, \n",
    "                optimizer, \n",
    "                n_epochs=50, \n",
    "                early_stopping=None) :\n",
    "    print('----------------------------------------------------------------------------------')\n",
    "    print()\n",
    "    start_total = time.time()\n",
    "    device = torch.device(\"cuda\" if torch.cuda.is_available() else \"cpu\")\n",
    "    \n",
    "    model = model.float()\n",
    "    \n",
    "    # epoch당 평균 train loss\n",
    "    train_loss_list = []\n",
    "    # epoch당 평균 validation loss\n",
    "    valid_loss_list = []    \n",
    "    \n",
    "    for epoch in range(1, n_epochs + 1):\n",
    "        start_epoch = time.time()\n",
    "        \n",
    "        print(f\"Epoch {epoch}/{n_epochs}\")\n",
    "        \n",
    "        epoch_train_loss_list = []\n",
    "        epoch_valid_loss_list = []\n",
    "        \n",
    "        \n",
    "        # train\n",
    "        model.train() # prep model for training\n",
    "        \n",
    "        train_dataloader_tqdm = tqdm(train_dataloader, desc=\"Training  \")\n",
    "        for batch, (train_data, train_target) in enumerate(train_dataloader_tqdm, 1):\n",
    "            train_data = train_data.to(device)\n",
    "            train_target = train_target.to(device)\n",
    "            # clear the gradients of all optimized variables\n",
    "            optimizer.zero_grad()    \n",
    "            # forward pass: 입력된 값을 모델로 전달하여 예측 출력 계산\n",
    "            train_output = model(train_data)\n",
    "            # calculate the loss\n",
    "            train_loss = criterion(train_output, train_target)\n",
    "            # backward pass: 모델의 파라미터와 관련된 loss의 그래디언트 계산\n",
    "            train_loss.backward()\n",
    "            # perform a single optimization step (parameter update)\n",
    "            optimizer.step()\n",
    "            # record train loss\n",
    "            epoch_train_loss_list.append(train_loss.item())\n",
    "            \n",
    "            del train_data\n",
    "            del train_target\n",
    "            del train_output\n",
    "            del train_loss\n",
    "            torch.cuda.empty_cache()\n",
    "            \n",
    "            \n",
    "        # validation\n",
    "        model.eval() # prep model for evaluation\n",
    "        \n",
    "        valid_dataloader_tqdm = tqdm(valid_dataloader, desc=\"Validation  \")\n",
    "        for valid_data , valid_target in valid_dataloader_tqdm :\n",
    "            valid_data = valid_data.to(device)\n",
    "            valid_target = valid_target.to(device)\n",
    "            # forward pass: 입력된 값을 모델로 전달하여 예측 출력 계산\n",
    "            valid_output = model(valid_data)\n",
    "            # calculate the loss\n",
    "            valid_loss = criterion(valid_output, valid_target)\n",
    "            # record validation loss\n",
    "            epoch_valid_loss_list.append(valid_loss.item())\n",
    "            \n",
    "            del valid_data\n",
    "            del valid_target\n",
    "            del valid_output\n",
    "            del valid_loss\n",
    "            torch.cuda.empty_cache()\n",
    "\n",
    "        \n",
    "        # print train/validation statistics\n",
    "        # epoch당 평균 loss 계산\n",
    "        epoch_train_loss_avg = np.average(epoch_train_loss_list)\n",
    "        epoch_valid_loss_avg = np.average(epoch_valid_loss_list)\n",
    "        train_loss_list.append(epoch_train_loss_avg)\n",
    "        valid_loss_list.append(epoch_valid_loss_avg)\n",
    "        \n",
    "        \n",
    "        epoch_len = len(str(n_epochs))\n",
    "        time_taken = round((time.time() - start_epoch), 2)\n",
    "        time_taken_min = round(time_taken/60, 2)\n",
    "        print_msg = (\n",
    "            # f'[{epoch:>{epoch_len}}/{n_epochs:>{epoch_len}}] ' +\n",
    "            f'ETA: {time_taken}s ({time_taken_min}min)   ' +\n",
    "            f'train_loss: {epoch_train_loss_avg:.5f}   ' +\n",
    "            f'valid_loss: {epoch_valid_loss_avg:.5f} ')\n",
    "\n",
    "        print(print_msg)\n",
    "        \n",
    "        e_path = early_stopping.path\n",
    "        n_path = '.'.join(e_path.split('.')[:-1])+'_{}.{}'.format(epoch, e_path.split('.')[-1])\n",
    "        torch.save(model.state_dict(), n_path)\n",
    "        \n",
    "        # early_stopping는 validation loss가 감소하였는지 확인이 필요하며,\n",
    "        # 만약 감소하였을경우 현제 모델을 checkpoint로 만든다.\n",
    "        if early_stopping != None :\n",
    "            early_stopping(epoch_valid_loss_avg, model)\n",
    "            \n",
    "            if early_stopping.early_stop:\n",
    "                print()\n",
    "                print('----------------------------------------------------------------------------------')\n",
    "                print(\"Early stopping\")\n",
    "                break\n",
    "\n",
    "           # best model이 저장되어있는 last checkpoint를 로드한다.\n",
    "            model.load_state_dict(torch.load(early_stopping.path))\n",
    "        print()\n",
    "        print('----------------------------------------------------------------------------------')\n",
    "        print()\n",
    "\n",
    "    time_taken_total = round((time.time() - start_total), 2)\n",
    "    time_taken_total_min = round(time_taken_total/60, 2)\n",
    "    print(f'time_taken_total: {time_taken_total}s ({time_taken_total_min}min) ')\n",
    "    \n",
    "    \n",
    "    return  model, train_loss_list, valid_loss_list"
   ]
  },
  {
   "cell_type": "markdown",
   "id": "4d16cf95",
   "metadata": {},
   "source": [
    "## 3.3. train config"
   ]
  },
  {
   "cell_type": "code",
   "execution_count": 26,
   "id": "72ebe6a3",
   "metadata": {},
   "outputs": [],
   "source": [
    "criterion = torch.nn.MSELoss().to(device)\n",
    "optimizer = torch.optim.Adam(\n",
    "    model_UNET.parameters(), \n",
    "    lr= 0.001, \n",
    "    weight_decay=1e-7\n",
    ")\n",
    "early_stopping_UNET_RGB = EarlyStopping(\n",
    "    patience=10, \n",
    "    verbose=True, \n",
    "    delta=0, \n",
    "    path='./data/model_saved/checkpoint_UNET_RGB.pt'\n",
    ")"
   ]
  },
  {
   "cell_type": "markdown",
   "id": "b6e0931a",
   "metadata": {},
   "source": [
    "## 3.4. training"
   ]
  },
  {
   "cell_type": "code",
   "execution_count": 27,
   "id": "20629f60",
   "metadata": {
    "scrolled": true
   },
   "outputs": [
    {
     "name": "stdout",
     "output_type": "stream",
     "text": [
      "----------------------------------------------------------------------------------\n",
      "\n",
      "Epoch 1/100\n"
     ]
    },
    {
     "data": {
      "application/vnd.jupyter.widget-view+json": {
       "model_id": "76c67f803ff54801b3cff2933cf7392a",
       "version_major": 2,
       "version_minor": 0
      },
      "text/plain": [
       "Training  :   0%|          | 0/31530 [00:00<?, ?it/s]"
      ]
     },
     "metadata": {},
     "output_type": "display_data"
    },
    {
     "data": {
      "application/vnd.jupyter.widget-view+json": {
       "model_id": "1e6273d038434d188173580899d213f0",
       "version_major": 2,
       "version_minor": 0
      },
      "text/plain": [
       "Validation  :   0%|          | 0/7883 [00:00<?, ?it/s]"
      ]
     },
     "metadata": {},
     "output_type": "display_data"
    },
    {
     "name": "stdout",
     "output_type": "stream",
     "text": [
      "ETA: 19743.54s (329.06min)   train_loss: 0.00765   valid_loss: 0.00712 \n",
      "Validation loss decreased (inf --> 0.007124).  Saving model ...\n",
      "\n",
      "----------------------------------------------------------------------------------\n",
      "\n",
      "Epoch 2/100\n"
     ]
    },
    {
     "data": {
      "application/vnd.jupyter.widget-view+json": {
       "model_id": "935c7be69fc34fbba0eb9981ffd3e49b",
       "version_major": 2,
       "version_minor": 0
      },
      "text/plain": [
       "Training  :   0%|          | 0/31530 [00:00<?, ?it/s]"
      ]
     },
     "metadata": {},
     "output_type": "display_data"
    },
    {
     "data": {
      "application/vnd.jupyter.widget-view+json": {
       "model_id": "1d6fafebeeee4722a749d30a7d9cd488",
       "version_major": 2,
       "version_minor": 0
      },
      "text/plain": [
       "Validation  :   0%|          | 0/7883 [00:00<?, ?it/s]"
      ]
     },
     "metadata": {},
     "output_type": "display_data"
    },
    {
     "name": "stdout",
     "output_type": "stream",
     "text": [
      "ETA: 16919.03s (281.98min)   train_loss: 0.00682   valid_loss: 0.00676 \n",
      "Validation loss decreased (0.007124 --> 0.006764).  Saving model ...\n",
      "\n",
      "----------------------------------------------------------------------------------\n",
      "\n",
      "Epoch 3/100\n"
     ]
    },
    {
     "data": {
      "application/vnd.jupyter.widget-view+json": {
       "model_id": "ee97eee0bc1c4e26a1a82f52e376cfe8",
       "version_major": 2,
       "version_minor": 0
      },
      "text/plain": [
       "Training  :   0%|          | 0/31530 [00:00<?, ?it/s]"
      ]
     },
     "metadata": {},
     "output_type": "display_data"
    },
    {
     "data": {
      "application/vnd.jupyter.widget-view+json": {
       "model_id": "1d687d937d244269bb6c802de11b528b",
       "version_major": 2,
       "version_minor": 0
      },
      "text/plain": [
       "Validation  :   0%|          | 0/7883 [00:00<?, ?it/s]"
      ]
     },
     "metadata": {},
     "output_type": "display_data"
    },
    {
     "name": "stdout",
     "output_type": "stream",
     "text": [
      "ETA: 16929.12s (282.15min)   train_loss: 0.00650   valid_loss: 0.00653 \n",
      "Validation loss decreased (0.006764 --> 0.006533).  Saving model ...\n",
      "\n",
      "----------------------------------------------------------------------------------\n",
      "\n",
      "Epoch 4/100\n"
     ]
    },
    {
     "data": {
      "application/vnd.jupyter.widget-view+json": {
       "model_id": "90ea5c4e98854905a5d0b9112938f61a",
       "version_major": 2,
       "version_minor": 0
      },
      "text/plain": [
       "Training  :   0%|          | 0/31530 [00:00<?, ?it/s]"
      ]
     },
     "metadata": {},
     "output_type": "display_data"
    },
    {
     "data": {
      "application/vnd.jupyter.widget-view+json": {
       "model_id": "dfe1b1758f8b4382abaad644e00c88c8",
       "version_major": 2,
       "version_minor": 0
      },
      "text/plain": [
       "Validation  :   0%|          | 0/7883 [00:00<?, ?it/s]"
      ]
     },
     "metadata": {},
     "output_type": "display_data"
    },
    {
     "name": "stdout",
     "output_type": "stream",
     "text": [
      "ETA: 17212.33s (286.87min)   train_loss: 0.00625   valid_loss: 0.00672 \n",
      "EarlyStopping counter: 1 out of 10\n",
      "\n",
      "----------------------------------------------------------------------------------\n",
      "\n",
      "Epoch 5/100\n"
     ]
    },
    {
     "data": {
      "application/vnd.jupyter.widget-view+json": {
       "model_id": "8e7b06bfe1f345739ea3c5aca1ddfde4",
       "version_major": 2,
       "version_minor": 0
      },
      "text/plain": [
       "Training  :   0%|          | 0/31530 [00:00<?, ?it/s]"
      ]
     },
     "metadata": {},
     "output_type": "display_data"
    },
    {
     "data": {
      "application/vnd.jupyter.widget-view+json": {
       "model_id": "33c4e3773cc34c8692fc59ad4cf7428b",
       "version_major": 2,
       "version_minor": 0
      },
      "text/plain": [
       "Validation  :   0%|          | 0/7883 [00:00<?, ?it/s]"
      ]
     },
     "metadata": {},
     "output_type": "display_data"
    },
    {
     "name": "stdout",
     "output_type": "stream",
     "text": [
      "ETA: 16967.42s (282.79min)   train_loss: 0.00625   valid_loss: 0.00634 \n",
      "Validation loss decreased (0.006533 --> 0.006345).  Saving model ...\n",
      "\n",
      "----------------------------------------------------------------------------------\n",
      "\n",
      "Epoch 6/100\n"
     ]
    },
    {
     "data": {
      "application/vnd.jupyter.widget-view+json": {
       "model_id": "e6ca0deac5fc47aab370a6bf90462ebd",
       "version_major": 2,
       "version_minor": 0
      },
      "text/plain": [
       "Training  :   0%|          | 0/31530 [00:00<?, ?it/s]"
      ]
     },
     "metadata": {},
     "output_type": "display_data"
    },
    {
     "data": {
      "application/vnd.jupyter.widget-view+json": {
       "model_id": "d66505e165844bc19a9dc73011e86a65",
       "version_major": 2,
       "version_minor": 0
      },
      "text/plain": [
       "Validation  :   0%|          | 0/7883 [00:00<?, ?it/s]"
      ]
     },
     "metadata": {},
     "output_type": "display_data"
    },
    {
     "name": "stdout",
     "output_type": "stream",
     "text": [
      "ETA: 16886.47s (281.44min)   train_loss: 0.00613   valid_loss: 0.00644 \n",
      "EarlyStopping counter: 1 out of 10\n",
      "\n",
      "----------------------------------------------------------------------------------\n",
      "\n",
      "Epoch 7/100\n"
     ]
    },
    {
     "data": {
      "application/vnd.jupyter.widget-view+json": {
       "model_id": "29ac0d46f7894f2b89a0d24cd53a1384",
       "version_major": 2,
       "version_minor": 0
      },
      "text/plain": [
       "Training  :   0%|          | 0/31530 [00:00<?, ?it/s]"
      ]
     },
     "metadata": {},
     "output_type": "display_data"
    },
    {
     "data": {
      "application/vnd.jupyter.widget-view+json": {
       "model_id": "9eaa5dd1f8204eadb92af631b235f61e",
       "version_major": 2,
       "version_minor": 0
      },
      "text/plain": [
       "Validation  :   0%|          | 0/7883 [00:00<?, ?it/s]"
      ]
     },
     "metadata": {},
     "output_type": "display_data"
    },
    {
     "name": "stdout",
     "output_type": "stream",
     "text": [
      "ETA: 16784.55s (279.74min)   train_loss: 0.00614   valid_loss: 0.00623 \n",
      "Validation loss decreased (0.006345 --> 0.006226).  Saving model ...\n",
      "\n",
      "----------------------------------------------------------------------------------\n",
      "\n",
      "Epoch 8/100\n"
     ]
    },
    {
     "data": {
      "application/vnd.jupyter.widget-view+json": {
       "model_id": "d4de5b18c34d4ad8aa1977b13c6a3427",
       "version_major": 2,
       "version_minor": 0
      },
      "text/plain": [
       "Training  :   0%|          | 0/31530 [00:00<?, ?it/s]"
      ]
     },
     "metadata": {},
     "output_type": "display_data"
    },
    {
     "data": {
      "application/vnd.jupyter.widget-view+json": {
       "model_id": "f8d7c2c4e0d24d94940488f18478d7b9",
       "version_major": 2,
       "version_minor": 0
      },
      "text/plain": [
       "Validation  :   0%|          | 0/7883 [00:00<?, ?it/s]"
      ]
     },
     "metadata": {},
     "output_type": "display_data"
    },
    {
     "name": "stdout",
     "output_type": "stream",
     "text": [
      "ETA: 16660.25s (277.67min)   train_loss: 0.00607   valid_loss: 0.00665 \n",
      "EarlyStopping counter: 1 out of 10\n",
      "\n",
      "----------------------------------------------------------------------------------\n",
      "\n",
      "Epoch 9/100\n"
     ]
    },
    {
     "data": {
      "application/vnd.jupyter.widget-view+json": {
       "model_id": "5ba06d1d9c8f47be8a9072ecbb8b791e",
       "version_major": 2,
       "version_minor": 0
      },
      "text/plain": [
       "Training  :   0%|          | 0/31530 [00:00<?, ?it/s]"
      ]
     },
     "metadata": {},
     "output_type": "display_data"
    },
    {
     "data": {
      "application/vnd.jupyter.widget-view+json": {
       "model_id": "257f350096164074ab71de61bf1b3c78",
       "version_major": 2,
       "version_minor": 0
      },
      "text/plain": [
       "Validation  :   0%|          | 0/7883 [00:00<?, ?it/s]"
      ]
     },
     "metadata": {},
     "output_type": "display_data"
    },
    {
     "name": "stdout",
     "output_type": "stream",
     "text": [
      "ETA: 16927.26s (282.12min)   train_loss: 0.00606   valid_loss: 0.00653 \n",
      "EarlyStopping counter: 2 out of 10\n",
      "\n",
      "----------------------------------------------------------------------------------\n",
      "\n",
      "Epoch 10/100\n"
     ]
    },
    {
     "data": {
      "application/vnd.jupyter.widget-view+json": {
       "model_id": "4652d6d507ac4a0b8343aed35ed90690",
       "version_major": 2,
       "version_minor": 0
      },
      "text/plain": [
       "Training  :   0%|          | 0/31530 [00:00<?, ?it/s]"
      ]
     },
     "metadata": {},
     "output_type": "display_data"
    },
    {
     "data": {
      "application/vnd.jupyter.widget-view+json": {
       "model_id": "993a01c35bcc4cfca3665a0696c2387d",
       "version_major": 2,
       "version_minor": 0
      },
      "text/plain": [
       "Validation  :   0%|          | 0/7883 [00:00<?, ?it/s]"
      ]
     },
     "metadata": {},
     "output_type": "display_data"
    },
    {
     "name": "stdout",
     "output_type": "stream",
     "text": [
      "ETA: 16626.78s (277.11min)   train_loss: 0.00608   valid_loss: 0.00662 \n",
      "EarlyStopping counter: 3 out of 10\n",
      "\n",
      "----------------------------------------------------------------------------------\n",
      "\n",
      "Epoch 11/100\n"
     ]
    },
    {
     "data": {
      "application/vnd.jupyter.widget-view+json": {
       "model_id": "5500f2285e2d4e269aef5ceaa869dded",
       "version_major": 2,
       "version_minor": 0
      },
      "text/plain": [
       "Training  :   0%|          | 0/31530 [00:00<?, ?it/s]"
      ]
     },
     "metadata": {},
     "output_type": "display_data"
    },
    {
     "data": {
      "application/vnd.jupyter.widget-view+json": {
       "model_id": "72b87fbc35c34361a6b36857d1efba6f",
       "version_major": 2,
       "version_minor": 0
      },
      "text/plain": [
       "Validation  :   0%|          | 0/7883 [00:00<?, ?it/s]"
      ]
     },
     "metadata": {},
     "output_type": "display_data"
    },
    {
     "name": "stdout",
     "output_type": "stream",
     "text": [
      "ETA: 16878.11s (281.3min)   train_loss: 0.00607   valid_loss: 0.00637 \n",
      "EarlyStopping counter: 4 out of 10\n",
      "\n",
      "----------------------------------------------------------------------------------\n",
      "\n",
      "Epoch 12/100\n"
     ]
    },
    {
     "data": {
      "application/vnd.jupyter.widget-view+json": {
       "model_id": "a0a3527b660e469ea7d553b2cb634c05",
       "version_major": 2,
       "version_minor": 0
      },
      "text/plain": [
       "Training  :   0%|          | 0/31530 [00:00<?, ?it/s]"
      ]
     },
     "metadata": {},
     "output_type": "display_data"
    },
    {
     "data": {
      "application/vnd.jupyter.widget-view+json": {
       "model_id": "e8b783542e1f439e8a9bf01c8c8a13ec",
       "version_major": 2,
       "version_minor": 0
      },
      "text/plain": [
       "Validation  :   0%|          | 0/7883 [00:00<?, ?it/s]"
      ]
     },
     "metadata": {},
     "output_type": "display_data"
    },
    {
     "name": "stdout",
     "output_type": "stream",
     "text": [
      "ETA: 16860.57s (281.01min)   train_loss: 0.00606   valid_loss: 0.00656 \n",
      "EarlyStopping counter: 5 out of 10\n",
      "\n",
      "----------------------------------------------------------------------------------\n",
      "\n",
      "Epoch 13/100\n"
     ]
    },
    {
     "data": {
      "application/vnd.jupyter.widget-view+json": {
       "model_id": "d179e1dc87034ac2bbe695d4eb61052f",
       "version_major": 2,
       "version_minor": 0
      },
      "text/plain": [
       "Training  :   0%|          | 0/31530 [00:00<?, ?it/s]"
      ]
     },
     "metadata": {},
     "output_type": "display_data"
    },
    {
     "data": {
      "application/vnd.jupyter.widget-view+json": {
       "model_id": "7dee7c0720414e9cab3a3183710ab186",
       "version_major": 2,
       "version_minor": 0
      },
      "text/plain": [
       "Validation  :   0%|          | 0/7883 [00:00<?, ?it/s]"
      ]
     },
     "metadata": {},
     "output_type": "display_data"
    },
    {
     "name": "stdout",
     "output_type": "stream",
     "text": [
      "ETA: 16841.71s (280.7min)   train_loss: 0.00606   valid_loss: 0.00649 \n",
      "EarlyStopping counter: 6 out of 10\n",
      "\n",
      "----------------------------------------------------------------------------------\n",
      "\n",
      "Epoch 14/100\n"
     ]
    },
    {
     "data": {
      "application/vnd.jupyter.widget-view+json": {
       "model_id": "de58c68780a947f2915b594b5b0bbcd1",
       "version_major": 2,
       "version_minor": 0
      },
      "text/plain": [
       "Training  :   0%|          | 0/31530 [00:00<?, ?it/s]"
      ]
     },
     "metadata": {},
     "output_type": "display_data"
    },
    {
     "data": {
      "application/vnd.jupyter.widget-view+json": {
       "model_id": "7ff95234cc3a4a58854c46f3f5b99720",
       "version_major": 2,
       "version_minor": 0
      },
      "text/plain": [
       "Validation  :   0%|          | 0/7883 [00:00<?, ?it/s]"
      ]
     },
     "metadata": {},
     "output_type": "display_data"
    },
    {
     "name": "stdout",
     "output_type": "stream",
     "text": [
      "ETA: 16467.11s (274.45min)   train_loss: 0.00607   valid_loss: 0.00635 \n",
      "EarlyStopping counter: 7 out of 10\n",
      "\n",
      "----------------------------------------------------------------------------------\n",
      "\n",
      "Epoch 15/100\n"
     ]
    },
    {
     "data": {
      "application/vnd.jupyter.widget-view+json": {
       "model_id": "b6c1b8bf86b44d4b8309d6960f8c0e5d",
       "version_major": 2,
       "version_minor": 0
      },
      "text/plain": [
       "Training  :   0%|          | 0/31530 [00:00<?, ?it/s]"
      ]
     },
     "metadata": {},
     "output_type": "display_data"
    },
    {
     "data": {
      "application/vnd.jupyter.widget-view+json": {
       "model_id": "cffbbfb863754203a31aa68d15d11366",
       "version_major": 2,
       "version_minor": 0
      },
      "text/plain": [
       "Validation  :   0%|          | 0/7883 [00:00<?, ?it/s]"
      ]
     },
     "metadata": {},
     "output_type": "display_data"
    },
    {
     "name": "stdout",
     "output_type": "stream",
     "text": [
      "ETA: 16634.01s (277.23min)   train_loss: 0.00606   valid_loss: 0.00640 \n",
      "EarlyStopping counter: 8 out of 10\n",
      "\n",
      "----------------------------------------------------------------------------------\n",
      "\n",
      "Epoch 16/100\n"
     ]
    },
    {
     "data": {
      "application/vnd.jupyter.widget-view+json": {
       "model_id": "841527afa1d846dfb1c3dca575e1198b",
       "version_major": 2,
       "version_minor": 0
      },
      "text/plain": [
       "Training  :   0%|          | 0/31530 [00:00<?, ?it/s]"
      ]
     },
     "metadata": {},
     "output_type": "display_data"
    },
    {
     "data": {
      "application/vnd.jupyter.widget-view+json": {
       "model_id": "f53abddaeafd404db4ecde6c731cb2a5",
       "version_major": 2,
       "version_minor": 0
      },
      "text/plain": [
       "Validation  :   0%|          | 0/7883 [00:00<?, ?it/s]"
      ]
     },
     "metadata": {},
     "output_type": "display_data"
    },
    {
     "name": "stdout",
     "output_type": "stream",
     "text": [
      "ETA: 16693.88s (278.23min)   train_loss: 0.00607   valid_loss: 0.00638 \n",
      "EarlyStopping counter: 9 out of 10\n",
      "\n",
      "----------------------------------------------------------------------------------\n",
      "\n",
      "Epoch 17/100\n"
     ]
    },
    {
     "data": {
      "application/vnd.jupyter.widget-view+json": {
       "model_id": "d865028ac7ad4f44a4681a2eac53258a",
       "version_major": 2,
       "version_minor": 0
      },
      "text/plain": [
       "Training  :   0%|          | 0/31530 [00:00<?, ?it/s]"
      ]
     },
     "metadata": {},
     "output_type": "display_data"
    },
    {
     "data": {
      "application/vnd.jupyter.widget-view+json": {
       "model_id": "289c5042d8fd4500ac4a865e2eb4da74",
       "version_major": 2,
       "version_minor": 0
      },
      "text/plain": [
       "Validation  :   0%|          | 0/7883 [00:00<?, ?it/s]"
      ]
     },
     "metadata": {},
     "output_type": "display_data"
    },
    {
     "name": "stdout",
     "output_type": "stream",
     "text": [
      "ETA: 16750.01s (279.17min)   train_loss: 0.00607   valid_loss: 0.00625 \n",
      "EarlyStopping counter: 10 out of 10\n",
      "\n",
      "----------------------------------------------------------------------------------\n",
      "Early stopping\n",
      "time_taken_total: 288785.69s (4813.09min) \n"
     ]
    }
   ],
   "source": [
    "trained_model, train_loss, valid_loss = train_model(\n",
    "    model = model_UNET, \n",
    "    train_dataloader = train_dataloader, \n",
    "    valid_dataloader = valid_dataloader, \n",
    "    criterion = criterion, \n",
    "    optimizer = optimizer, \n",
    "    n_epochs=100, \n",
    "    early_stopping=early_stopping_UNET_RGB\n",
    ")   "
   ]
  },
  {
   "cell_type": "code",
   "execution_count": 31,
   "id": "962ba260",
   "metadata": {},
   "outputs": [],
   "source": [
    "torch.save(model_UNET.state_dict(), './data/model_saved/checkpoint_UNET_RGB.pt')"
   ]
  },
  {
   "cell_type": "code",
   "execution_count": 42,
   "id": "757c9f72",
   "metadata": {},
   "outputs": [
    {
     "data": {
      "text/plain": [
       "'./data/model_saved/checkpoint_UNET_RGB_1.pt'"
      ]
     },
     "execution_count": 42,
     "metadata": {},
     "output_type": "execute_result"
    }
   ],
   "source": [
    "path='./data/model_saved/checkpoint_UNET_RGB.pt'\n",
    "n_path = '.'.join(path.split('.')[:-1])+'_{}.{}'.format(1, path.split('.')[-1])\n",
    "n_path"
   ]
  },
  {
   "cell_type": "code",
   "execution_count": null,
   "id": "e0fe376d",
   "metadata": {},
   "outputs": [],
   "source": []
  },
  {
   "cell_type": "code",
   "execution_count": null,
   "id": "1f13c09f",
   "metadata": {},
   "outputs": [],
   "source": []
  },
  {
   "cell_type": "markdown",
   "id": "f880003a",
   "metadata": {},
   "source": [
    "# 4. Visualizing Train"
   ]
  },
  {
   "cell_type": "code",
   "execution_count": 28,
   "id": "d47b38b8",
   "metadata": {},
   "outputs": [],
   "source": [
    "import matplotlib.pyplot as plt"
   ]
  },
  {
   "cell_type": "markdown",
   "id": "babee8ab",
   "metadata": {},
   "source": [
    "## 4.1. visualizing function"
   ]
  },
  {
   "cell_type": "code",
   "execution_count": 29,
   "id": "8a5ddc34",
   "metadata": {},
   "outputs": [],
   "source": [
    "def show_train_graph_loss(train_loss, valid_loss) :\n",
    "    \n",
    "    plt.plot(range(1,len(train_loss)+1),train_loss, label='train_loss')\n",
    "    plt.plot(range(1,len(valid_loss)+1),valid_loss,label='valid_loss')\n",
    "\n",
    "    # validation loss의 최저값 지점을 찾기\n",
    "    minposs = valid_loss.index(min(valid_loss))+1\n",
    "    plt.axvline(minposs, linestyle='--', color='r',label='Early Stopping Checkpoint')\n",
    "\n",
    "    plt.xlabel('epochs')\n",
    "    plt.ylabel('loss')\n",
    "#     plt.ylim(0, 0.5) # 일정한 scale\n",
    "    plt.xlim(0, len(train_loss)+1) # 일정한 scale\n",
    "    plt.grid(True)\n",
    "    plt.legend()\n",
    "    plt.tight_layout()\n",
    "    plt.show()"
   ]
  },
  {
   "cell_type": "markdown",
   "id": "67f9cb69",
   "metadata": {},
   "source": [
    "## 4.2. visualizing"
   ]
  },
  {
   "cell_type": "code",
   "execution_count": 30,
   "id": "1742b052",
   "metadata": {},
   "outputs": [
    {
     "data": {
      "image/png": "[encoded data removed]",
      "text/plain": [
       "<Figure size 432x288 with 1 Axes>"
      ]
     },
     "metadata": {
      "needs_background": "light"
     },
     "output_type": "display_data"
    }
   ],
   "source": [
    "show_train_graph_loss(train_loss, valid_loss)"
   ]
  },
  {
   "cell_type": "code",
   "execution_count": null,
   "id": "6cfcce7f",
   "metadata": {},
   "outputs": [],
   "source": []
  }
 ],
 "metadata": {
  "kernelspec": {
   "display_name": "Python 3 (ipykernel)",
   "language": "python",
   "name": "python3"
  },
  "language_info": {
   "codemirror_mode": {
    "name": "ipython",
    "version": 3
   },
   "file_extension": ".py",
   "mimetype": "text/x-python",
   "name": "python",
   "nbconvert_exporter": "python",
   "pygments_lexer": "ipython3",
   "version": "3.9.7"
  }
 },
 "nbformat": 4,
 "nbformat_minor": 5
}
